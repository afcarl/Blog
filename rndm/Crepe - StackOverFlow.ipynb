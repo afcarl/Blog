{
 "cells": [
  {
   "cell_type": "code",
   "execution_count": 1,
   "metadata": {},
   "outputs": [
    {
     "name": "stderr",
     "output_type": "stream",
     "text": [
      "Using TensorFlow backend.\n"
     ]
    }
   ],
   "source": [
    "import pandas as pd\n",
    "import numpy as np\n",
    "import itertools\n",
    "import time\n",
    "import functools\n",
    "import threading\n",
    "import os.path\n",
    "import queue\n",
    "import pickle\n",
    "from keras.preprocessing import sequence\n",
    "from keras.optimizers import SGD\n",
    "from keras.models import Sequential\n",
    "from keras.layers.core import Dense, Dropout, Activation, Flatten, Reshape\n",
    "from keras.layers.convolutional import MaxPooling2D, Conv2D\n",
    "from keras.callbacks import ModelCheckpoint\n",
    "from bs4 import BeautifulSoup\n",
    "from tqdm import tqdm"
   ]
  },
  {
   "cell_type": "code",
   "execution_count": 2,
   "metadata": {
    "collapsed": true
   },
   "outputs": [],
   "source": [
    "ALPHABET = list(\"abcdefghijklmnopqrstuvwxyz0123456789-,;.!?:'\\\"/\\\\|_@#$%^&*~`+ =<>()[]{}\")\n",
    "FEATURE_LEN = 1014\n",
    "BATCH_SIZE = 128\n",
    "NUM_FILTERS = 256\n",
    "EPOCHS = 10"
   ]
  },
  {
   "cell_type": "code",
   "execution_count": 3,
   "metadata": {},
   "outputs": [
    {
     "data": {
      "text/html": [
       "<div>\n",
       "<table border=\"1\" class=\"dataframe\">\n",
       "  <thead>\n",
       "    <tr style=\"text-align: right;\">\n",
       "      <th></th>\n",
       "      <th>a</th>\n",
       "      <th>b</th>\n",
       "      <th>c</th>\n",
       "      <th>d</th>\n",
       "      <th>e</th>\n",
       "      <th>f</th>\n",
       "      <th>g</th>\n",
       "      <th>h</th>\n",
       "      <th>i</th>\n",
       "      <th>j</th>\n",
       "      <th>...</th>\n",
       "      <th></th>\n",
       "      <th>=</th>\n",
       "      <th>&lt;</th>\n",
       "      <th>&gt;</th>\n",
       "      <th>(</th>\n",
       "      <th>)</th>\n",
       "      <th>[</th>\n",
       "      <th>]</th>\n",
       "      <th>{</th>\n",
       "      <th>}</th>\n",
       "    </tr>\n",
       "  </thead>\n",
       "  <tbody>\n",
       "    <tr>\n",
       "      <th>0</th>\n",
       "      <td>True</td>\n",
       "      <td>False</td>\n",
       "      <td>False</td>\n",
       "      <td>False</td>\n",
       "      <td>False</td>\n",
       "      <td>False</td>\n",
       "      <td>False</td>\n",
       "      <td>False</td>\n",
       "      <td>False</td>\n",
       "      <td>False</td>\n",
       "      <td>...</td>\n",
       "      <td>False</td>\n",
       "      <td>False</td>\n",
       "      <td>False</td>\n",
       "      <td>False</td>\n",
       "      <td>False</td>\n",
       "      <td>False</td>\n",
       "      <td>False</td>\n",
       "      <td>False</td>\n",
       "      <td>False</td>\n",
       "      <td>False</td>\n",
       "    </tr>\n",
       "    <tr>\n",
       "      <th>1</th>\n",
       "      <td>False</td>\n",
       "      <td>True</td>\n",
       "      <td>False</td>\n",
       "      <td>False</td>\n",
       "      <td>False</td>\n",
       "      <td>False</td>\n",
       "      <td>False</td>\n",
       "      <td>False</td>\n",
       "      <td>False</td>\n",
       "      <td>False</td>\n",
       "      <td>...</td>\n",
       "      <td>False</td>\n",
       "      <td>False</td>\n",
       "      <td>False</td>\n",
       "      <td>False</td>\n",
       "      <td>False</td>\n",
       "      <td>False</td>\n",
       "      <td>False</td>\n",
       "      <td>False</td>\n",
       "      <td>False</td>\n",
       "      <td>False</td>\n",
       "    </tr>\n",
       "    <tr>\n",
       "      <th>2</th>\n",
       "      <td>False</td>\n",
       "      <td>False</td>\n",
       "      <td>True</td>\n",
       "      <td>False</td>\n",
       "      <td>False</td>\n",
       "      <td>False</td>\n",
       "      <td>False</td>\n",
       "      <td>False</td>\n",
       "      <td>False</td>\n",
       "      <td>False</td>\n",
       "      <td>...</td>\n",
       "      <td>False</td>\n",
       "      <td>False</td>\n",
       "      <td>False</td>\n",
       "      <td>False</td>\n",
       "      <td>False</td>\n",
       "      <td>False</td>\n",
       "      <td>False</td>\n",
       "      <td>False</td>\n",
       "      <td>False</td>\n",
       "      <td>False</td>\n",
       "    </tr>\n",
       "    <tr>\n",
       "      <th>3</th>\n",
       "      <td>False</td>\n",
       "      <td>False</td>\n",
       "      <td>False</td>\n",
       "      <td>True</td>\n",
       "      <td>False</td>\n",
       "      <td>False</td>\n",
       "      <td>False</td>\n",
       "      <td>False</td>\n",
       "      <td>False</td>\n",
       "      <td>False</td>\n",
       "      <td>...</td>\n",
       "      <td>False</td>\n",
       "      <td>False</td>\n",
       "      <td>False</td>\n",
       "      <td>False</td>\n",
       "      <td>False</td>\n",
       "      <td>False</td>\n",
       "      <td>False</td>\n",
       "      <td>False</td>\n",
       "      <td>False</td>\n",
       "      <td>False</td>\n",
       "    </tr>\n",
       "    <tr>\n",
       "      <th>4</th>\n",
       "      <td>False</td>\n",
       "      <td>False</td>\n",
       "      <td>False</td>\n",
       "      <td>False</td>\n",
       "      <td>True</td>\n",
       "      <td>False</td>\n",
       "      <td>False</td>\n",
       "      <td>False</td>\n",
       "      <td>False</td>\n",
       "      <td>False</td>\n",
       "      <td>...</td>\n",
       "      <td>False</td>\n",
       "      <td>False</td>\n",
       "      <td>False</td>\n",
       "      <td>False</td>\n",
       "      <td>False</td>\n",
       "      <td>False</td>\n",
       "      <td>False</td>\n",
       "      <td>False</td>\n",
       "      <td>False</td>\n",
       "      <td>False</td>\n",
       "    </tr>\n",
       "  </tbody>\n",
       "</table>\n",
       "<p>5 rows × 69 columns</p>\n",
       "</div>"
      ],
      "text/plain": [
       "       a      b      c      d      e      f      g      h      i      j  \\\n",
       "0   True  False  False  False  False  False  False  False  False  False   \n",
       "1  False   True  False  False  False  False  False  False  False  False   \n",
       "2  False  False   True  False  False  False  False  False  False  False   \n",
       "3  False  False  False   True  False  False  False  False  False  False   \n",
       "4  False  False  False  False   True  False  False  False  False  False   \n",
       "\n",
       "   ...               =      <      >      (      )      [      ]      {      }  \n",
       "0  ...    False  False  False  False  False  False  False  False  False  False  \n",
       "1  ...    False  False  False  False  False  False  False  False  False  False  \n",
       "2  ...    False  False  False  False  False  False  False  False  False  False  \n",
       "3  ...    False  False  False  False  False  False  False  False  False  False  \n",
       "4  ...    False  False  False  False  False  False  False  False  False  False  \n",
       "\n",
       "[5 rows x 69 columns]"
      ]
     },
     "execution_count": 3,
     "metadata": {},
     "output_type": "execute_result"
    }
   ],
   "source": [
    "character_hash = pd.DataFrame(np.identity(len(ALPHABET), dtype='bool'), columns=ALPHABET)\n",
    "character_hash.head()"
   ]
  },
  {
   "cell_type": "code",
   "execution_count": 4,
   "metadata": {},
   "outputs": [
    {
     "name": "stdout",
     "output_type": "stream",
     "text": [
      "50\n"
     ]
    },
    {
     "data": {
      "text/plain": [
       "['oracle',\n",
       " 'forms',\n",
       " 'json',\n",
       " 'image',\n",
       " 'css',\n",
       " 'ajax',\n",
       " 'django',\n",
       " 'multithreading',\n",
       " 'git',\n",
       " '.net']"
      ]
     },
     "execution_count": 4,
     "metadata": {},
     "output_type": "execute_result"
    }
   ],
   "source": [
    "# Create tag dic (top 50 labels)\n",
    "labels = list(set(itertools.chain(*pd.read_csv('populartags.csv')['PopularTags'].str.split(' ').values)))\n",
    "print(len(labels))\n",
    "labels_toidx = {l:i for i,l in enumerate(labels)}\n",
    "idx_tolabels = {i:l for i,l in enumerate(labels)}\n",
    "labels[:10]"
   ]
  },
  {
   "cell_type": "code",
   "execution_count": 5,
   "metadata": {},
   "outputs": [],
   "source": [
    "# X-data\n",
    "# Remove html, lower, trim to n chars, reverse-order\n",
    "df = pd.read_csv('stackoverflow_38mill.csv', encoding='latin-1')\n",
    "X_data = df.Body.apply(lambda x: BeautifulSoup(x, \"lxml\").get_text().lower()[:FEATURE_LEN][::-1])"
   ]
  },
  {
   "cell_type": "code",
   "execution_count": 6,
   "metadata": {},
   "outputs": [
    {
     "name": "stderr",
     "output_type": "stream",
     "text": [
      "100%|████████████████████████████| 3887653/3887653 [00:11<00:00, 348725.08it/s]\n"
     ]
    }
   ],
   "source": [
    "# y-data\n",
    "stack_y = []\n",
    "for tg in tqdm(df['PopularTags'].values):\n",
    "    targets = np.zeros(len(labels))\n",
    "    for t in tg.split(' '):\n",
    "        targets[labels_toidx[t]] = 1\n",
    "    stack_y.append(targets)\n",
    "# Array\n",
    "y_data = np.array(stack_y, np.uint8)"
   ]
  },
  {
   "cell_type": "code",
   "execution_count": 7,
   "metadata": {},
   "outputs": [],
   "source": [
    "def load_data_frame(X_data, y_data, batch_size=128, shuffle=False):\n",
    "\n",
    "    if shuffle:\n",
    "        idx = X_data.index\n",
    "        assert len(idx) == len(y_data)\n",
    "        rnd = np.random.permutation(idx)\n",
    "        X_data = X_data.reindex(rnd)\n",
    "        y_data = y_data[rnd]\n",
    "\n",
    "    # Dictionary to create character vectors\n",
    "    character_hash = pd.DataFrame(np.identity(len(ALPHABET), dtype='bool'), columns=ALPHABET)\n",
    "    \n",
    "    def feature_extractor(dta, val):\n",
    "        # Yield mini-batch amount of character vectors\n",
    "        # Input_shape = (samples, rows, cols, channels)\n",
    "        X_split = np.zeros([batch_size, FEATURE_LEN, len(ALPHABET), 1], dtype=np.uint8)\n",
    "        for ti, tx in enumerate(dta):\n",
    "            chars = list(tx)\n",
    "            for ci, ch in enumerate(chars):\n",
    "                if ch in ALPHABET:\n",
    "                    X_split[ti % batch_size][ci] = np.array(character_hash[ch], dtype=np.uint8)[..., np.newaxis]\n",
    "            # No padding -> only complete batches processed\n",
    "            if (ti + 1) % batch_size == 0:\n",
    "                yield X_split, val[ti + 1 - batch_size:ti + 1]\n",
    "                X_split = np.zeros([batch_size, FEATURE_LEN, len(ALPHABET), 1], dtype=np.uint8)\n",
    "\n",
    "    # Yield one mini-batch at a time and asynchronously process to keep 4 in queue\n",
    "    while True:\n",
    "        print(\"Fresh run of data ...\")\n",
    "        for Xsplit, ysplit in feature_extractor(X_data, y_data):\n",
    "            yield Xsplit, ysplit"
   ]
  },
  {
   "cell_type": "code",
   "execution_count": 8,
   "metadata": {
    "collapsed": true
   },
   "outputs": [],
   "source": [
    "def create_crepe():\n",
    "    print('Build model...')\n",
    "    \n",
    "    model = Sequential()\n",
    "    #Input = #alphabet x 1014\n",
    "    #kernel= width, height\n",
    "    #Input_shape = (samples, rows, cols, channels)\n",
    "    model.add(Conv2D(filters=NUM_FILTERS, kernel_size=(7,69), input_shape=(FEATURE_LEN, 69, 1)))\n",
    "\n",
    "    model.add(MaxPooling2D(pool_size=(3,1)))\n",
    "    #Input = 336 x 256\n",
    "    model.add(Conv2D(NUM_FILTERS, (7,1)))\n",
    "    model.add(MaxPooling2D(pool_size=(3,1)))\n",
    "    #Input = 110 x 256\n",
    "    model.add(Conv2D(NUM_FILTERS, (3,1)))\n",
    "    #Input = 108 x 256\n",
    "    model.add(Conv2D(NUM_FILTERS, (3,1)))\n",
    "    #Input = 106 x 256\n",
    "    model.add(Conv2D(NUM_FILTERS, (3,1)))\n",
    "    #Input = 104 X 256\n",
    "    model.add(Conv2D(NUM_FILTERS, (3,1)))\n",
    "    model.add(MaxPooling2D(pool_size=(3,1)))\n",
    "    model.add(Flatten())\n",
    "    \n",
    "    #Fully Connected Layers\n",
    "    fully_connected = [1024, 1024, len(labels)]\n",
    "    #Input is 8704 Output is 1024 \n",
    "    model.add(Dense(fully_connected[0]))\n",
    "    model.add(Dropout(0.5))\n",
    "    model.add(Activation('relu'))\n",
    "    #Input is 1024 Output is 1024\n",
    "    model.add(Dense(fully_connected[1]))\n",
    "    model.add(Dropout(0.5))\n",
    "    model.add(Activation('relu'))\n",
    "    #Input is 1024 Output is n-binomial distributions\n",
    "    model.add(Dense(fully_connected[2]))\n",
    "    model.add(Activation('sigmoid'))\n",
    "    \n",
    "    #Stochastic gradient parameters as set by paper\n",
    "    sgd = SGD(lr=0.01, decay=1e-5, momentum=0.9, nesterov=True)\n",
    "    model.compile(loss='binary_crossentropy', optimizer=sgd, class_mode=\"binary\", metrics=['accuracy'])\n",
    "    return model,sgd"
   ]
  },
  {
   "cell_type": "code",
   "execution_count": 9,
   "metadata": {},
   "outputs": [
    {
     "name": "stdout",
     "output_type": "stream",
     "text": [
      "Build model...\n"
     ]
    }
   ],
   "source": [
    "model, sgd = create_crepe()"
   ]
  },
  {
   "cell_type": "code",
   "execution_count": 10,
   "metadata": {},
   "outputs": [
    {
     "name": "stdout",
     "output_type": "stream",
     "text": [
      "_________________________________________________________________\n",
      "Layer (type)                 Output Shape              Param #   \n",
      "=================================================================\n",
      "conv2d_1 (Conv2D)            (None, 1008, 1, 256)      123904    \n",
      "_________________________________________________________________\n",
      "max_pooling2d_1 (MaxPooling2 (None, 336, 1, 256)       0         \n",
      "_________________________________________________________________\n",
      "conv2d_2 (Conv2D)            (None, 330, 1, 256)       459008    \n",
      "_________________________________________________________________\n",
      "max_pooling2d_2 (MaxPooling2 (None, 110, 1, 256)       0         \n",
      "_________________________________________________________________\n",
      "conv2d_3 (Conv2D)            (None, 108, 1, 256)       196864    \n",
      "_________________________________________________________________\n",
      "conv2d_4 (Conv2D)            (None, 106, 1, 256)       196864    \n",
      "_________________________________________________________________\n",
      "conv2d_5 (Conv2D)            (None, 104, 1, 256)       196864    \n",
      "_________________________________________________________________\n",
      "conv2d_6 (Conv2D)            (None, 102, 1, 256)       196864    \n",
      "_________________________________________________________________\n",
      "max_pooling2d_3 (MaxPooling2 (None, 34, 1, 256)        0         \n",
      "_________________________________________________________________\n",
      "flatten_1 (Flatten)          (None, 8704)              0         \n",
      "_________________________________________________________________\n",
      "dense_1 (Dense)              (None, 1024)              8913920   \n",
      "_________________________________________________________________\n",
      "dropout_1 (Dropout)          (None, 1024)              0         \n",
      "_________________________________________________________________\n",
      "activation_1 (Activation)    (None, 1024)              0         \n",
      "_________________________________________________________________\n",
      "dense_2 (Dense)              (None, 1024)              1049600   \n",
      "_________________________________________________________________\n",
      "dropout_2 (Dropout)          (None, 1024)              0         \n",
      "_________________________________________________________________\n",
      "activation_2 (Activation)    (None, 1024)              0         \n",
      "_________________________________________________________________\n",
      "dense_3 (Dense)              (None, 50)                51250     \n",
      "_________________________________________________________________\n",
      "activation_3 (Activation)    (None, 50)                0         \n",
      "=================================================================\n",
      "Total params: 11,385,138\n",
      "Trainable params: 11,385,138\n",
      "Non-trainable params: 0\n",
      "_________________________________________________________________\n"
     ]
    }
   ],
   "source": [
    "model.summary()"
   ]
  },
  {
   "cell_type": "code",
   "execution_count": 11,
   "metadata": {
    "collapsed": true
   },
   "outputs": [],
   "source": [
    "# Train/test split\n",
    "trainsize = int(len(X_data)*0.9)\n",
    "x_train, x_test = X_data[:trainsize], X_data[trainsize:]\n",
    "y_train, y_test = y_data[:trainsize], y_data[trainsize:]"
   ]
  },
  {
   "cell_type": "code",
   "execution_count": 12,
   "metadata": {},
   "outputs": [
    {
     "name": "stdout",
     "output_type": "stream",
     "text": [
      "Fresh run of data ...\n",
      "(128, 1014, 69, 1) (128, 50)\n"
     ]
    }
   ],
   "source": [
    "# Test dimensions from generator\n",
    "for X_batch, y_batch in load_data_frame(x_train, y_train):\n",
    "    print(X_batch.shape, y_batch.shape)\n",
    "    break"
   ]
  },
  {
   "cell_type": "code",
   "execution_count": null,
   "metadata": {
    "collapsed": true
   },
   "outputs": [],
   "source": [
    "# checkpoint\n",
    "filepath=\"crepe_{epoch:02d}_{val_acc:.2f}.h5\"\n",
    "checkpoint = ModelCheckpoint(filepath, monitor='val_acc', verbose=1, save_best_only=False, mode='max')\n",
    "callbacks_list = [checkpoint]"
   ]
  },
  {
   "cell_type": "code",
   "execution_count": null,
   "metadata": {},
   "outputs": [
    {
     "name": "stderr",
     "output_type": "stream",
     "text": [
      "C:\\Anaconda\\envs\\py35\\lib\\site-packages\\keras\\backend\\tensorflow_backend.py:2250: UserWarning: Expected no kwargs, you passed 1\n",
      "kwargs passed to function are ignored with Tensorflow backend\n",
      "  warnings.warn('\\n'.join(msg))\n"
     ]
    },
    {
     "name": "stdout",
     "output_type": "stream",
     "text": [
      "Fresh run of data ...Epoch 1/15\n",
      "\n"
     ]
    }
   ],
   "source": [
    "# Fit on custom generator\n",
    "model.fit_generator(load_data_frame(x_train, y_train),\n",
    "                    steps_per_epoch=(len(x_train)//BATCH_SIZE), \n",
    "                    epochs=15,\n",
    "                    verbose=2,\n",
    "                    max_q_size=50,\n",
    "                    validation_data=load_data_frame(x_test, y_test),\n",
    "                    validation_steps=(len(x_test)//BATCH_SIZE),\n",
    "                    callbacks=callbacks_list)"
   ]
  }
 ],
 "metadata": {
  "kernelspec": {
   "display_name": "Python [conda env:py35]",
   "language": "python",
   "name": "conda-env-py35-py"
  },
  "language_info": {
   "codemirror_mode": {
    "name": "ipython",
    "version": 3
   },
   "file_extension": ".py",
   "mimetype": "text/x-python",
   "name": "python",
   "nbconvert_exporter": "python",
   "pygments_lexer": "ipython3",
   "version": "3.5.2"
  }
 },
 "nbformat": 4,
 "nbformat_minor": 2
}
