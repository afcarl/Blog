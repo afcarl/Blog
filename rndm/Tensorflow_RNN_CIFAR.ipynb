{
 "cells": [
  {
   "cell_type": "markdown",
   "metadata": {},
   "source": [
    "# High-level TF Example"
   ]
  },
  {
   "cell_type": "code",
   "execution_count": 1,
   "metadata": {},
   "outputs": [],
   "source": [
    "import numpy as np\n",
    "import os\n",
    "import sys\n",
    "import tensorflow as tf\n",
    "from common.params_lstm import *\n",
    "from common.utils import *"
   ]
  },
  {
   "cell_type": "code",
   "execution_count": 2,
   "metadata": {},
   "outputs": [
    {
     "name": "stdout",
     "output_type": "stream",
     "text": [
      "OS:  linux\n",
      "Python:  3.5.2 |Anaconda custom (64-bit)| (default, Jul  2 2016, 17:53:06) \n",
      "[GCC 4.4.7 20120313 (Red Hat 4.4.7-1)]\n",
      "Numpy:  1.14.1\n",
      "Tensorflow:  1.4.0\n",
      "GPU:  ['Tesla P100-PCIE-16GB', 'Tesla P100-PCIE-16GB']\n",
      "CUDA Version 8.0.61\n",
      "CuDNN Version  6.0.21\n"
     ]
    }
   ],
   "source": [
    "print(\"OS: \", sys.platform)\n",
    "print(\"Python: \", sys.version)\n",
    "print(\"Numpy: \", np.__version__)\n",
    "print(\"Tensorflow: \", tf.__version__)\n",
    "print(\"GPU: \", get_gpu_name())\n",
    "print(get_cuda_version())\n",
    "print(\"CuDNN Version \", get_cudnn_version())"
   ]
  },
  {
   "cell_type": "code",
   "execution_count": 3,
   "metadata": {},
   "outputs": [],
   "source": [
    "EPOCHS = 50\n",
    "BATCHSIZE = 32\n",
    "N_CLASSES = 10\n",
    "N_STEPS = 32\n",
    "N_INPUTS = 32*3\n",
    "N_HIDDEN = 64  # RNN units "
   ]
  },
  {
   "cell_type": "code",
   "execution_count": 4,
   "metadata": {},
   "outputs": [],
   "source": [
    "def create_symbol(X, n_steps=N_STEPS, nhid=N_HIDDEN, n_classes=N_CLASSES):\n",
    "    # Convert x to a list[max_time] where element has shape=2 [batch_size, depth]\n",
    "    x = tf.unstack(X, n_steps, axis=1)\n",
    "    cell = tf.nn.rnn_cell.BasicRNNCell(nhid)\n",
    "    outputs, states = tf.contrib.rnn.static_rnn(cell, x, dtype=tf.float32)\n",
    "    logits = tf.layers.dense(outputs[-1], n_classes, activation=None, name='output')\n",
    "    return logits"
   ]
  },
  {
   "cell_type": "code",
   "execution_count": 5,
   "metadata": {},
   "outputs": [],
   "source": [
    "def init_model(m, y, lr=LR, b1=BETA_1, b2=BETA_2, eps=EPS):\n",
    "    # Single-class labels, don't need dense one-hot\n",
    "    # Expects unscaled logits, not output of tf.nn.softmax\n",
    "    xentropy = tf.nn.sparse_softmax_cross_entropy_with_logits(logits=m, labels=y)\n",
    "    loss = tf.reduce_mean(xentropy)\n",
    "    optimizer = tf.train.AdamOptimizer(lr, b1, b2, eps)\n",
    "    training_op = optimizer.minimize(loss)\n",
    "    return training_op"
   ]
  },
  {
   "cell_type": "code",
   "execution_count": 6,
   "metadata": {
    "scrolled": true
   },
   "outputs": [
    {
     "name": "stdout",
     "output_type": "stream",
     "text": [
      "Preparing train set...\n",
      "Preparing test set...\n",
      "(50000, 32, 32, 3) (10000, 32, 32, 3) (50000,) (10000,)\n",
      "float32 float32 int32 int32\n",
      "CPU times: user 668 ms, sys: 593 ms, total: 1.26 s\n",
      "Wall time: 1.26 s\n"
     ]
    }
   ],
   "source": [
    "%%time\n",
    "# Data into format for library\n",
    "x_train, x_test, y_train, y_test = cifar_for_library(channel_first=False)\n",
    "print(x_train.shape, x_test.shape, y_train.shape, y_test.shape)\n",
    "print(x_train.dtype, x_test.dtype, y_train.dtype, y_test.dtype)"
   ]
  },
  {
   "cell_type": "code",
   "execution_count": 7,
   "metadata": {},
   "outputs": [
    {
     "name": "stdout",
     "output_type": "stream",
     "text": [
      "(50000, 32, 96) (10000, 32, 96)\n"
     ]
    }
   ],
   "source": [
    "# Sequences of 32 time-steps, each containing 32*3 units\n",
    "x_train = x_train.reshape(x_train.shape[0], N_STEPS, N_INPUTS)\n",
    "x_test = x_test.reshape(x_test.shape[0], N_STEPS, N_INPUTS)\n",
    "print(x_train.shape, x_test.shape)"
   ]
  },
  {
   "cell_type": "code",
   "execution_count": 8,
   "metadata": {},
   "outputs": [
    {
     "name": "stdout",
     "output_type": "stream",
     "text": [
      "CPU times: user 917 ms, sys: 91.1 ms, total: 1.01 s\n",
      "Wall time: 1.01 s\n"
     ]
    }
   ],
   "source": [
    "%%time\n",
    "# Place-holders\n",
    "X = tf.placeholder(tf.float32, shape=[None, N_STEPS, N_INPUTS])\n",
    "y = tf.placeholder(tf.int32, shape=[None])  # Sparse\n",
    "# Initialise model\n",
    "sym = create_symbol(X)"
   ]
  },
  {
   "cell_type": "code",
   "execution_count": 9,
   "metadata": {},
   "outputs": [
    {
     "name": "stdout",
     "output_type": "stream",
     "text": [
      "CPU times: user 724 ms, sys: 702 ms, total: 1.43 s\n",
      "Wall time: 1.43 s\n"
     ]
    }
   ],
   "source": [
    "%%time\n",
    "model = init_model(sym, y)\n",
    "init = tf.global_variables_initializer()\n",
    "sess = tf.Session()\n",
    "sess.run(init)\n",
    "# Accuracy logging\n",
    "correct = tf.nn.in_top_k(sym, y, 1)\n",
    "accuracy = tf.reduce_mean(tf.cast(correct, tf.float32))"
   ]
  },
  {
   "cell_type": "code",
   "execution_count": 10,
   "metadata": {},
   "outputs": [
    {
     "name": "stdout",
     "output_type": "stream",
     "text": [
      "0 Train accuracy: 0.31296\n",
      "1 Train accuracy: 0.3248\n",
      "2 Train accuracy: 0.33898\n",
      "3 Train accuracy: 0.34426\n",
      "4 Train accuracy: 0.29618\n",
      "5 Train accuracy: 0.34878\n",
      "6 Train accuracy: 0.33542\n",
      "7 Train accuracy: 0.35038\n",
      "8 Train accuracy: 0.34348\n",
      "9 Train accuracy: 0.32752\n",
      "10 Train accuracy: 0.29506\n",
      "11 Train accuracy: 0.31352\n",
      "12 Train accuracy: 0.3234\n",
      "13 Train accuracy: 0.3488\n",
      "14 Train accuracy: 0.28352\n",
      "15 Train accuracy: 0.29558\n",
      "16 Train accuracy: 0.29612\n",
      "17 Train accuracy: 0.26252\n",
      "18 Train accuracy: 0.3023\n",
      "19 Train accuracy: 0.3002\n",
      "20 Train accuracy: 0.31234\n",
      "21 Train accuracy: 0.3139\n",
      "22 Train accuracy: 0.3065\n",
      "23 Train accuracy: 0.29508\n",
      "24 Train accuracy: 0.32046\n",
      "25 Train accuracy: 0.26174\n",
      "26 Train accuracy: 0.29402\n",
      "27 Train accuracy: 0.3122\n",
      "28 Train accuracy: 0.29226\n",
      "29 Train accuracy: 0.31272\n",
      "30 Train accuracy: 0.28938\n",
      "31 Train accuracy: 0.30104\n",
      "32 Train accuracy: 0.2955\n",
      "33 Train accuracy: 0.30156\n",
      "34 Train accuracy: 0.24114\n",
      "35 Train accuracy: 0.28714\n",
      "36 Train accuracy: 0.29512\n",
      "37 Train accuracy: 0.30556\n",
      "38 Train accuracy: 0.30056\n",
      "39 Train accuracy: 0.2848\n",
      "40 Train accuracy: 0.29164\n",
      "41 Train accuracy: 0.25962\n",
      "42 Train accuracy: 0.26016\n",
      "43 Train accuracy: 0.31658\n",
      "44 Train accuracy: 0.30588\n",
      "45 Train accuracy: 0.3074\n",
      "46 Train accuracy: 0.29786\n",
      "47 Train accuracy: 0.30844\n",
      "48 Train accuracy: 0.28036\n",
      "49 Train accuracy: 0.31188\n",
      "CPU times: user 6min 34s, sys: 39.6 s, total: 7min 14s\n",
      "Wall time: 6min 50s\n"
     ]
    }
   ],
   "source": [
    "%%time\n",
    "# Main training loop: 57s\n",
    "for j in range(EPOCHS):\n",
    "    for data, label in yield_mb(x_train, y_train, BATCHSIZE, shuffle=True):\n",
    "        sess.run(model, feed_dict={X: data, y: label})\n",
    "    # Accuracy\n",
    "    acc_train = sess.run(accuracy, feed_dict={X: x_train, y: y_train})\n",
    "    print(j, \"Train accuracy:\", acc_train)"
   ]
  },
  {
   "cell_type": "code",
   "execution_count": 13,
   "metadata": {},
   "outputs": [
    {
     "name": "stdout",
     "output_type": "stream",
     "text": [
      "CPU times: user 8.92 s, sys: 589 ms, total: 9.5 s\n",
      "Wall time: 9.29 s\n"
     ]
    }
   ],
   "source": [
    "%%time\n",
    "# Main evaluation loop: 3.22s\n",
    "n_samples = (y_test.shape[0]//BATCHSIZE)*BATCHSIZE\n",
    "y_guess = np.zeros(n_samples, dtype=np.int)\n",
    "y_truth = y_test[:n_samples]\n",
    "c = 0\n",
    "for data, label in yield_mb(x_test, y_test, BATCHSIZE):\n",
    "    pred = tf.argmax(sym,1)\n",
    "    output = sess.run(pred, feed_dict={X: data})\n",
    "    y_guess[c*BATCHSIZE:(c+1)*BATCHSIZE] = output\n",
    "    c += 1"
   ]
  },
  {
   "cell_type": "code",
   "execution_count": 14,
   "metadata": {},
   "outputs": [
    {
     "name": "stdout",
     "output_type": "stream",
     "text": [
      "Accuracy:  0.31099759615384615\n"
     ]
    }
   ],
   "source": [
    "print(\"Accuracy: \", 1.*sum(y_guess == y_truth)/len(y_guess))"
   ]
  }
 ],
 "metadata": {
  "anaconda-cloud": {},
  "kernelspec": {
   "display_name": "Python 3",
   "language": "python",
   "name": "python3"
  },
  "language_info": {
   "codemirror_mode": {
    "name": "ipython",
    "version": 3
   },
   "file_extension": ".py",
   "mimetype": "text/x-python",
   "name": "python",
   "nbconvert_exporter": "python",
   "pygments_lexer": "ipython3",
   "version": "3.5.2"
  }
 },
 "nbformat": 4,
 "nbformat_minor": 2
}
