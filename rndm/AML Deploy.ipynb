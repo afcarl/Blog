{
 "cells": [
  {
   "cell_type": "markdown",
   "metadata": {},
   "source": [
    "[https://github.com/Azure/Spark-Operationalization-On-Azure/blob/master/tutorials/cntk/realtime/image-classification/image_classification.md](https://github.com/Azure/Spark-Operationalization-On-Azure/blob/master/tutorials/cntk/realtime/image-classification/image_classification.md)\n",
    "\n",
    "```\n",
    "$ aml service create realtime -r cntk-py -f driver.py -m resnet.dnn -n cntksrvc2\n",
    "```"
   ]
  },
  {
   "cell_type": "code",
   "execution_count": 38,
   "metadata": {
    "collapsed": false
   },
   "outputs": [],
   "source": [
    "import base64\n",
    "import urllib\n",
    "import requests\n",
    "import json\n",
    "from PIL import Image, ImageOps\n",
    "from io import BytesIO\n",
    "%matplotlib inline"
   ]
  },
  {
   "cell_type": "code",
   "execution_count": 39,
   "metadata": {
    "collapsed": true
   },
   "outputs": [],
   "source": [
    "URL = 'http://blog.3plearning.com/wp-content/uploads/2013/06/plane-600x337.png'"
   ]
  },
  {
   "cell_type": "code",
   "execution_count": 40,
   "metadata": {
    "collapsed": false
   },
   "outputs": [
    {
     "data": {
      "image/png": "[encoded data removed]",
      "text/plain": [
       "<PIL.Image.Image image mode=RGB size=32x32 at 0x7FEE080C5518>"
      ]
     },
     "execution_count": 40,
     "metadata": {},
     "output_type": "execute_result"
    }
   ],
   "source": [
    "file = BytesIO(urllib.request.urlopen(URL).read())\n",
    "img = Image.open(file).convert('RGB')\n",
    "# Model trained on 32 by 32\n",
    "img = ImageOps.fit(img, (32, 32), Image.ANTIALIAS)\n",
    "img"
   ]
  },
  {
   "cell_type": "code",
   "execution_count": 41,
   "metadata": {
    "collapsed": false
   },
   "outputs": [],
   "source": [
    "imgio = BytesIO()\n",
    "img.save(imgio, 'PNG')\n",
    "imgio.seek(0)\n",
    "dataimg = base64.b64encode(imgio.read())\n",
    "jsonimg = json.dumps({\n",
    "        'input':'[\\\"' + dataimg.decode('utf-8') + '\\\"]'})"
   ]
  },
  {
   "cell_type": "code",
   "execution_count": 42,
   "metadata": {
    "collapsed": true
   },
   "outputs": [],
   "source": [
    "url = 'http://iliatestdeployacsagent.eastus.cloudapp.azure.com/score'\n",
    "headers = {'content-type': 'application/json',\n",
    "           'X-Marathon-App-Id': '/cntksrvc2'}"
   ]
  },
  {
   "cell_type": "code",
   "execution_count": 43,
   "metadata": {
    "collapsed": false
   },
   "outputs": [
    {
     "name": "stdout",
     "output_type": "stream",
     "text": [
      "CPU times: user 3.32 ms, sys: 2.11 ms, total: 5.44 ms\n",
      "Wall time: 177 ms\n"
     ]
    }
   ],
   "source": [
    "%time r = requests.post(url, data=jsonimg, headers=headers)"
   ]
  },
  {
   "cell_type": "code",
   "execution_count": 44,
   "metadata": {
    "collapsed": false
   },
   "outputs": [
    {
     "data": {
      "text/plain": [
       "'airplane'"
      ]
     },
     "execution_count": 44,
     "metadata": {},
     "output_type": "execute_result"
    }
   ],
   "source": [
    "classi, classipct = r.json()['result'][0][0][0]\n",
    "classi"
   ]
  },
  {
   "cell_type": "code",
   "execution_count": null,
   "metadata": {
    "collapsed": true
   },
   "outputs": [],
   "source": []
  }
 ],
 "metadata": {
  "anaconda-cloud": {},
  "kernelspec": {
   "display_name": "Python [conda env:py35]",
   "language": "python",
   "name": "conda-env-py35-py"
  },
  "language_info": {
   "codemirror_mode": {
    "name": "ipython",
    "version": 3
   },
   "file_extension": ".py",
   "mimetype": "text/x-python",
   "name": "python",
   "nbconvert_exporter": "python",
   "pygments_lexer": "ipython3",
   "version": "3.5.2"
  }
 },
 "nbformat": 4,
 "nbformat_minor": 1
}
