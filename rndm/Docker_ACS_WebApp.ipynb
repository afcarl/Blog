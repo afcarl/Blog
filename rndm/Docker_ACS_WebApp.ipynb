{
 "cells": [
  {
   "cell_type": "markdown",
   "metadata": {},
   "source": [
    "## Deploying Docker to Azure Web Apps"
   ]
  },
  {
   "cell_type": "markdown",
   "metadata": {},
   "source": [
    "Based on Mathew's tutorial located [here](https://github.com/msalvaris/batch_shipyard_notebooks/blob/master/cifar_example/train_on_azure_batch_shipyard.ipynb)"
   ]
  },
  {
   "cell_type": "markdown",
   "metadata": {},
   "source": [
    "Tutorial currently **not working**"
   ]
  },
  {
   "cell_type": "code",
   "execution_count": 1,
   "metadata": {
    "collapsed": true
   },
   "outputs": [],
   "source": [
    "import os \n",
    "import urllib\n",
    "from os import path\n",
    "import json\n",
    "import requests\n",
    "import time\n",
    "from io import BytesIO\n",
    "from PIL import Image, ImageOps\n",
    "import base64"
   ]
  },
  {
   "cell_type": "code",
   "execution_count": 2,
   "metadata": {
    "collapsed": false
   },
   "outputs": [
    {
     "name": "stdout",
     "output_type": "stream",
     "text": [
      "Unable to find image 'hello-world:latest' locally\n",
      "latest: Pulling from library/hello-world\n",
      "\u001b[0B\n",
      "\u001b[1B5dd45222: Pull complete 971 B/971 BB\u001b[1A\u001b[2K\u001b[1A\u001b[2KDigest: sha256:c5515758d4c5e1e838e9cd307f6c6a0d620b5e07e6f927b07d05f6d12a1ac8d7\n",
      "Status: Downloaded newer image for hello-world:latest\n",
      "\n",
      "Hello from Docker!\n",
      "This message shows that your installation appears to be working correctly.\n",
      "\n",
      "To generate this message, Docker took the following steps:\n",
      " 1. The Docker client contacted the Docker daemon.\n",
      " 2. The Docker daemon pulled the \"hello-world\" image from the Docker Hub.\n",
      " 3. The Docker daemon created a new container from that image which runs the\n",
      "    executable that produces the output you are currently reading.\n",
      " 4. The Docker daemon streamed that output to the Docker client, which sent it\n",
      "    to your terminal.\n",
      "\n",
      "To try something more ambitious, you can run an Ubuntu container with:\n",
      " $ docker run -it ubuntu bash\n",
      "\n",
      "Share images, automate workflows, and more with a free Docker ID:\n",
      " https://cloud.docker.com/\n",
      "\n",
      "For more examples and ideas, visit:\n",
      " https://docs.docker.com/engine/userguide/\n",
      "\n"
     ]
    }
   ],
   "source": [
    "# Check that docker is working\n",
    "!docker run --rm hello-world"
   ]
  },
  {
   "cell_type": "markdown",
   "metadata": {},
   "source": [
    "### Step 1. Create WebApp Code"
   ]
  },
  {
   "cell_type": "code",
   "execution_count": 3,
   "metadata": {
    "collapsed": false
   },
   "outputs": [
    {
     "name": "stderr",
     "output_type": "stream",
     "text": [
      "mkdir: cannot create directory ‘script’: File exists\n",
      "mkdir: cannot create directory ‘script/code’: File exists\n"
     ]
    }
   ],
   "source": [
    "%%bash\n",
    "mkdir script\n",
    "mkdir script/code"
   ]
  },
  {
   "cell_type": "code",
   "execution_count": 55,
   "metadata": {
    "collapsed": false
   },
   "outputs": [
    {
     "name": "stdout",
     "output_type": "stream",
     "text": [
      "Overwriting script/code/model.py\n"
     ]
    }
   ],
   "source": [
    "%%writefile script/code/model.py\n",
    "\n",
    "import base64\n",
    "import urllib\n",
    "import numpy as np\n",
    "import cntk\n",
    "import pkg_resources\n",
    "from flask import Flask, request\n",
    "import json\n",
    "from io import BytesIO\n",
    "from PIL import Image, ImageOps\n",
    "from cntk import load_model, combine\n",
    "\n",
    "app = Flask(__name__)\n",
    "print(\"Something outside of @app.route() is always loaded\")\n",
    "\n",
    "# Pre-load model\n",
    "MODEL = load_model(\"ResNet_18.model\")\n",
    "print(\"Loaded model: \", MODEL)\n",
    "# Pre-load labels\n",
    "with open('synset-1k.txt', 'r') as f:\n",
    "    LABELS = [l.rstrip() for l in f]\n",
    "print(LABELS[:10])\n",
    "print(\"Loaded {0} labels\".format(len(LABELS)))\n",
    "\n",
    "@app.route(\"/\")\n",
    "def healthy_me():\n",
    "    return \"healthy\"\n",
    "\n",
    "@app.route('/cntk')\n",
    "def cntk_ver():\n",
    "    return \"CNTK version: {}\".format(pkg_resources.get_distribution(\"cntk\").version)\n",
    "\n",
    "@app.route('/posttest', methods=['POST'])\n",
    "def posttest():\n",
    "    return \"POST healthy\"\n",
    "\n",
    "@app.route(\"/api/uploader\", methods=['POST'])\n",
    "def api_upload_file():\n",
    "    inputString = request.json['input']\n",
    "    images = json.loads(inputString)   \n",
    "    for base64ImgString in images:\n",
    "        if base64ImgString.startswith('b\\''):\n",
    "            base64ImgString = base64ImgString[2:-1]\n",
    "        base64Img = base64ImgString.encode('utf-8')\n",
    "        # Preprocess the input data \n",
    "        decoded_img = base64.b64decode(base64Img)\n",
    "        img_buffer = BytesIO(decoded_img)\n",
    "        # Load image with PIL (RGB)\n",
    "        img = Image.open(img_buffer).convert('RGB')\n",
    "        img = ImageOps.fit(img, (224, 224), Image.ANTIALIAS)\n",
    "        return json.dumps(run_some_deep_learning_cntk(img))\n",
    "\n",
    "def run_some_deep_learning_cntk(rgb_pil_image):\n",
    "    # Convert to BGR\n",
    "    rgb_image = np.array(rgb_pil_image, dtype=np.float32)\n",
    "    bgr_image = rgb_image[..., [2, 1, 0]]\n",
    "    img = np.ascontiguousarray(np.rollaxis(bgr_image, 2))\n",
    "\n",
    "    # Use last layer to make prediction\n",
    "    z_out = combine([MODEL.outputs[3].owner])\n",
    "    result = np.squeeze(z_out.eval({z_out.arguments[0]: [img]}))\n",
    "\n",
    "    # Sort probabilities \n",
    "    a = np.argsort(result)[-1]\n",
    "    predicted_category = \" \".join(LABELS[a].split(\" \")[1:])\n",
    "    return predicted_category\n",
    "\n",
    "if __name__ == '__main__':\n",
    "    # This is just for debugging\n",
    "    app.run(host='0.0.0.0', port=5005)"
   ]
  },
  {
   "cell_type": "code",
   "execution_count": 187,
   "metadata": {
    "collapsed": false
   },
   "outputs": [
    {
     "name": "stdout",
     "output_type": "stream",
     "text": [
      "Overwriting script/code/flaskconfig\n"
     ]
    }
   ],
   "source": [
    "%%writefile script/code/flaskconfig\n",
    "\n",
    "server {\n",
    "    listen 80;\n",
    "\n",
    "    location = /favicon.ico { access_log off; log_not_found off; }\n",
    "\n",
    "    location / {\n",
    "        proxy_set_header Host $http_host;\n",
    "        proxy_set_header X-Real-IP $remote_addr;\n",
    "        proxy_set_header X-Forwarded-For $proxy_add_x_forwarded_for;\n",
    "        proxy_set_header X-Forwarded-Proto $scheme;\n",
    "        proxy_pass http://0.0.0.0:5005;\n",
    "    }\n",
    "\n",
    "}"
   ]
  },
  {
   "cell_type": "code",
   "execution_count": null,
   "metadata": {
    "collapsed": true
   },
   "outputs": [],
   "source": [
    "%%writefile script/code/start.sh\n",
    "service nginx start\n",
    "/usr/local/bin/gunicorn --workers 1 -m 007 --bind 0.0.0.0:5005 model:app"
   ]
  },
  {
   "cell_type": "code",
   "execution_count": 34,
   "metadata": {
    "collapsed": false
   },
   "outputs": [
    {
     "name": "stdout",
     "output_type": "stream",
     "text": [
      "Overwriting script/code/requirements.txt\n"
     ]
    }
   ],
   "source": [
    "%%writefile script/code/requirements.txt\n",
    "Flask\n",
    "gunicorn\n",
    "pillow"
   ]
  },
  {
   "cell_type": "code",
   "execution_count": 8,
   "metadata": {
    "collapsed": false
   },
   "outputs": [
    {
     "data": {
      "text/plain": [
       "('script/code/get-pip.py', <httplib.HTTPMessage instance at 0x7fb994279c68>)"
      ]
     },
     "execution_count": 8,
     "metadata": {},
     "output_type": "execute_result"
    }
   ],
   "source": [
    "urllib.urlretrieve(\"https://bootstrap.pypa.io/get-pip.py\", \"script/code/get-pip.py\")"
   ]
  },
  {
   "cell_type": "code",
   "execution_count": 9,
   "metadata": {
    "collapsed": false
   },
   "outputs": [
    {
     "data": {
      "text/plain": [
       "('script/code/ResNet_18.model',\n",
       " <httplib.HTTPMessage instance at 0x7fb994271b00>)"
      ]
     },
     "execution_count": 9,
     "metadata": {},
     "output_type": "execute_result"
    }
   ],
   "source": [
    "urllib.urlretrieve('https://azurewebappcntk.blob.core.windows.net/model/ResNet_18.model', 'script/code/ResNet_18.model')"
   ]
  },
  {
   "cell_type": "code",
   "execution_count": 10,
   "metadata": {
    "collapsed": false
   },
   "outputs": [
    {
     "data": {
      "text/plain": [
       "('script/code/synset-1k.txt', <httplib.HTTPMessage instance at 0x7fb99428f368>)"
      ]
     },
     "execution_count": 10,
     "metadata": {},
     "output_type": "execute_result"
    }
   ],
   "source": [
    "urllib.urlretrieve('https://azurewebappcntk.blob.core.windows.net/model/synset-1k.txt', 'script/code/synset-1k.txt')"
   ]
  },
  {
   "cell_type": "markdown",
   "metadata": {},
   "source": [
    "### Step 2. LogIn"
   ]
  },
  {
   "cell_type": "code",
   "execution_count": null,
   "metadata": {
    "collapsed": false
   },
   "outputs": [],
   "source": [
    "!az login -o table\n",
    "docker_registry = \"XXXXXXXXXXX\"\n",
    "docker_registry_group = \"XXXXXXXXXXXXX\"\n",
    "!az group create -n $docker_registry_group -l southcentralus -o table\n",
    "!az acr create -n $docker_registry -g $docker_registry_group -l southcentralus -o table\n",
    "!az acr update -n $docker_registry --admin-enabled true -o table\n",
    "json_data = !az acr credential show -n $docker_registry\n",
    "docker_username = json.loads(''.join(json_data))['username']\n",
    "docker_password = json.loads(''.join(json_data))['password']\n",
    "print(docker_username)\n",
    "print(docker_password)\n",
    "json_data = !az acr show -n $docker_registry\n",
    "docker_registry_server = json.loads(''.join(json_data))['loginServer']"
   ]
  },
  {
   "cell_type": "markdown",
   "metadata": {},
   "source": [
    "### Step 3. Create Docker Image"
   ]
  },
  {
   "cell_type": "code",
   "execution_count": 11,
   "metadata": {
    "collapsed": false
   },
   "outputs": [
    {
     "name": "stdout",
     "output_type": "stream",
     "text": [
      "mkdir: cannot create directory ‘script/docker’: File exists\r\n"
     ]
    }
   ],
   "source": [
    "!mkdir script/docker"
   ]
  },
  {
   "cell_type": "code",
   "execution_count": 131,
   "metadata": {
    "collapsed": false
   },
   "outputs": [
    {
     "name": "stdout",
     "output_type": "stream",
     "text": [
      "Overwriting script/docker/dockerfile\n"
     ]
    }
   ],
   "source": [
    "%%writefile script/docker/dockerfile\n",
    "\n",
    "FROM ubuntu:16.04\n",
    "RUN mkdir /code\n",
    "WORKDIR /code\n",
    "MAINTAINER Ilia Karmanov\n",
    "ADD code /code\n",
    "RUN apt-get update && apt-get install -y --no-install-recommends \\\n",
    "        openmpi-bin \\\n",
    "        python3 \\\n",
    "        python3-dev \\\n",
    "        python3-setuptools \\\n",
    "        curl \\\n",
    "        nginx &&\\\n",
    "        python3 /code/get-pip.py && \\\n",
    "        rm /etc/nginx/sites-enabled/default && \\\n",
    "        cp /code/flaskconfig /etc/nginx/sites-available/ && \\\n",
    "        ln -s /etc/nginx/sites-available/flaskconfig /etc/nginx/sites-enabled/ && \\\n",
    "        python3 -m pip install https://cntk.ai/PythonWheel/CPU-Only/cntk-2.0.beta15.0-cp35-cp35m-linux_x86_64.whl && \\\n",
    "        python3 -m pip install -r /code/requirements.txt && \\\n",
    "        chmod 777 /code/start.sh\n",
    "EXPOSE 80\n",
    "ENTRYPOINT /code/start.sh"
   ]
  },
  {
   "cell_type": "code",
   "execution_count": 204,
   "metadata": {
    "collapsed": false
   },
   "outputs": [],
   "source": [
    "container_name = docker_registry_server + \"/ilkarman/liapp\"\n",
    "application_path = 'script'\n",
    "docker_file_location = path.join(application_path, 'docker/dockerfile')"
   ]
  },
  {
   "cell_type": "code",
   "execution_count": 205,
   "metadata": {
    "collapsed": false
   },
   "outputs": [],
   "source": [
    "!docker login $docker_registry_server -u $docker_username -p $docker_password"
   ]
  },
  {
   "cell_type": "code",
   "execution_count": null,
   "metadata": {
    "collapsed": false
   },
   "outputs": [],
   "source": [
    "%%bash\n",
    "docker stop $(docker ps -a -q)\n",
    "docker rm $(docker ps -a -q)"
   ]
  },
  {
   "cell_type": "code",
   "execution_count": null,
   "metadata": {
    "collapsed": false
   },
   "outputs": [],
   "source": [
    "# Running from shell:\n",
    "#docker_build = \"docker build -t {0} -f {1} {2} --no-cache\".format(container_name, docker_file_location, application_path)\n",
    "docker_build"
   ]
  },
  {
   "cell_type": "code",
   "execution_count": null,
   "metadata": {
    "collapsed": false
   },
   "outputs": [],
   "source": [
    "# This will take a while; potentially run from shell instead to see output (there will be a lot)\n",
    "!$docker_build"
   ]
  },
  {
   "cell_type": "markdown",
   "metadata": {},
   "source": [
    "Test everything is working locally before pushing"
   ]
  },
  {
   "cell_type": "code",
   "execution_count": 209,
   "metadata": {
    "collapsed": false
   },
   "outputs": [],
   "source": [
    "# 1.23GB (ResNet_18.model is ~60MB)\n",
    "#!docker images   "
   ]
  },
  {
   "cell_type": "code",
   "execution_count": null,
   "metadata": {
    "collapsed": false
   },
   "outputs": [],
   "source": [
    "# To debug\n",
    "print(container_name)\n",
    "# In shell (run interactive mode):\n",
    "#docker run -p 8070:8090 -it $container_name\n",
    "#conda info --env\n",
    "#which python\n",
    "# ... etc"
   ]
  },
  {
   "cell_type": "code",
   "execution_count": 211,
   "metadata": {
    "collapsed": false
   },
   "outputs": [
    {
     "data": {
      "text/plain": [
       "['9d99096b62f19b0abb9abe7fa0991f6ba829bed26cf6075ad93fe149961f9757']"
      ]
     },
     "execution_count": 211,
     "metadata": {},
     "output_type": "execute_result"
    }
   ],
   "source": [
    "test_cont = !docker run -p 80:80 -d $container_name\n",
    "test_cont"
   ]
  },
  {
   "cell_type": "code",
   "execution_count": 212,
   "metadata": {
    "collapsed": true
   },
   "outputs": [],
   "source": [
    "time.sleep(5)  # Wait to load"
   ]
  },
  {
   "cell_type": "code",
   "execution_count": 213,
   "metadata": {
    "collapsed": false
   },
   "outputs": [
    {
     "name": "stdout",
     "output_type": "stream",
     "text": [
      "healthy"
     ]
    }
   ],
   "source": [
    "!curl http://0.0.0.0"
   ]
  },
  {
   "cell_type": "code",
   "execution_count": 214,
   "metadata": {
    "collapsed": false
   },
   "outputs": [
    {
     "name": "stdout",
     "output_type": "stream",
     "text": [
      "CNTK version: 2.0.beta15.0"
     ]
    }
   ],
   "source": [
    "!curl http://0.0.0.0/cntk"
   ]
  },
  {
   "cell_type": "code",
   "execution_count": 215,
   "metadata": {
    "collapsed": true
   },
   "outputs": [],
   "source": [
    "IMAGEURL = \"https://www.britishairways.com/assets/images/information/about-ba/fleet-facts/airbus-380-800/photo-gallery/240x295-BA-A380-exterior-2-high-res.jpg\""
   ]
  },
  {
   "cell_type": "code",
   "execution_count": 216,
   "metadata": {
    "collapsed": true
   },
   "outputs": [],
   "source": [
    "def url_img_to_json_img(url):\n",
    "    bytfile = BytesIO(urllib.urlopen(url).read())\n",
    "    img = Image.open(bytfile).convert('RGB')  # 3 Channels\n",
    "    img = ImageOps.fit(img, (224, 224), Image.ANTIALIAS)  # Fixed size \n",
    "    imgio = BytesIO()\n",
    "    img.save(imgio, 'PNG')\n",
    "    imgio.seek(0)\n",
    "    dataimg = base64.b64encode(imgio.read())\n",
    "    return json.dumps(\n",
    "        {'input':'[\\\"{0}\\\"]'.format(dataimg.decode('utf-8'))})"
   ]
  },
  {
   "cell_type": "code",
   "execution_count": 217,
   "metadata": {
    "collapsed": false
   },
   "outputs": [
    {
     "data": {
      "text/plain": [
       "u'airliner'"
      ]
     },
     "execution_count": 217,
     "metadata": {},
     "output_type": "execute_result"
    }
   ],
   "source": [
    "jsonimg = url_img_to_json_img(IMAGEURL)\n",
    "jsonimg[:100]  # Example of json string\n",
    "headers = {'content-type': 'application/json'}\n",
    "\n",
    "requests.post('http://0.0.0.0/api/uploader', \n",
    "              data=jsonimg,\n",
    "              headers=headers).json()"
   ]
  },
  {
   "cell_type": "code",
   "execution_count": 218,
   "metadata": {
    "collapsed": false
   },
   "outputs": [
    {
     "name": "stdout",
     "output_type": "stream",
     "text": [
      "9d99096b62f19b0abb9abe7fa0991f6ba829bed26cf6075ad93fe149961f9757\r\n"
     ]
    }
   ],
   "source": [
    "!docker kill {test_cont[0]}"
   ]
  },
  {
   "cell_type": "markdown",
   "metadata": {},
   "source": [
    "### Step 4. Push Docker Image to Registry"
   ]
  },
  {
   "cell_type": "code",
   "execution_count": null,
   "metadata": {
    "collapsed": false
   },
   "outputs": [],
   "source": [
    "container_name"
   ]
  },
  {
   "cell_type": "code",
   "execution_count": null,
   "metadata": {
    "collapsed": false
   },
   "outputs": [],
   "source": [
    "!docker push $container_name"
   ]
  },
  {
   "cell_type": "markdown",
   "metadata": {},
   "source": [
    "Note: the size of the image, since the Web App loads the container into RAM you would need to configure it to have more RAM than the size of the image (if this is not possible then try to remove unnecessary files in your image or use another).\n",
    "\n",
    "Note: I'm not sure how much bigger deployed container is compared to compressed image?"
   ]
  },
  {
   "cell_type": "markdown",
   "metadata": {},
   "source": [
    "### Step 5. Create Azure Web App from Docker Image"
   ]
  },
  {
   "cell_type": "markdown",
   "metadata": {},
   "source": [
    "Note: Currently cannot find a CLI-way of doing this\n",
    "\n",
    "1. Go to your Azure Portal and create a new 'Web App on Linux (preview)' resource\n",
    "\n",
    "2. Click on 'Configure container' and select 'Private registry' under 'Image source'\n",
    "\n",
    "3. Configure the 'App Service plan/Location' so that your Web App size has enough RAM to host the container (e.g. S3)\n",
    "\n",
    "4. Enter the details to connect to your ACR:\n",
    "```\n",
    "Image and optional tag: ikmscontainer.azurecr.io/ilkarman/dockergunicorn\n",
    "Server URL: http://ikmscontainer.azurecr.io\n",
    "Login username:<docker_username>\n",
    "Password:<docker_password>\n",
    "```\n",
    "\n",
    "6. Create your Web App\n",
    "\n",
    "7. Go to the 'Application Settings' blade, scroll down until you see 'App settings' and add an entry (to use whichever port you setup), and click save:\n",
    "```\n",
    "Key:PORT\n",
    "Value:5005\n",
    "```\n",
    "\n",
    "8. You should now be able to navigate to your Azure Web App address and see your project! If not - add '.scm' just before '.azurewebsites.net' in your URL e.g. http://ikdockergunicorn.scm.azurewebsites.net/ to access the Kudu console and go to 'Debug console' -> 'Bash', where you can access logfiles such as:\n",
    "```\n",
    "cd /home/LogFiles/docker\n",
    "ls\n",
    "```\n",
    "\n",
    "9. The first load may take a while - this is because the docker image is downloaded to the WebApp. You can observe this by opening the first log-file in your directory:\n",
    "```\n",
    "cd /home/LogFiles/docker\n",
    "cat docker_13_out.log\n",
    "```\n",
    "    The output should look like:\n",
    "    ```\n",
    "    7d27bd3d7fec: Verifying Checksum\n",
    "    7d27bd3d7fec: Download complete\n",
    "    7d27bd3d7fec: Pull complete\n",
    "    44ae682c18a3: Pull complete\n",
    "    824bd01a76a3: Pull complete\n",
    "    68fe59875298: Pull complete\n",
    "    9ca1d7ae0c4b: Pull complete\n",
    "    46beba4b643f: Pull complete\n",
    "    651cd581382c: Pull complete\n",
    "    Digest: sha256:1efdaef9d8c208753fe36ccff197f28c719cc5f7d0bf5ff12f839f04e76c5f98\n",
    "    Status: Downloaded newer image for ikmscontainer.azurecr.io/ilkarman/dockergunicorn:latest\n",
    "    ```"
   ]
  },
  {
   "cell_type": "code",
   "execution_count": 163,
   "metadata": {
    "collapsed": false
   },
   "outputs": [
    {
     "name": "stdout",
     "output_type": "stream",
     "text": [
      "healthy"
     ]
    }
   ],
   "source": [
    "!curl http://testdockik.azurewebsites.net/"
   ]
  },
  {
   "cell_type": "code",
   "execution_count": 164,
   "metadata": {
    "collapsed": false
   },
   "outputs": [
    {
     "name": "stdout",
     "output_type": "stream",
     "text": [
      "CNTK version: 2.0.beta15.0"
     ]
    }
   ],
   "source": [
    "!curl http://testdockik.azurewebsites.net/cntk"
   ]
  },
  {
   "cell_type": "code",
   "execution_count": 168,
   "metadata": {
    "collapsed": false
   },
   "outputs": [
    {
     "data": {
      "text/plain": [
       "'{\"input\": \"[\\\\\"iVBORw0KGgoAAAANSUhEUgAAAOAAAADgCAIAAACVT/22AAEAAElEQVR4nMz9edRkyXUfBt4l4i2Z+a311b70vg'"
      ]
     },
     "execution_count": 168,
     "metadata": {},
     "output_type": "execute_result"
    }
   ],
   "source": [
    "jsonimg = url_img_to_json_img(IMAGEURL)\n",
    "jsonimg[:100]  # Example of json strin"
   ]
  },
  {
   "cell_type": "code",
   "execution_count": 169,
   "metadata": {
    "collapsed": false
   },
   "outputs": [
    {
     "data": {
      "text/plain": [
       "'<html>\\r\\n<head><title>502 Bad Gateway</title></head>\\r\\n<body bgcolor=\"white\">\\r\\n<center><h1>502 Bad Gateway</h1></center>\\r\\n<hr><center>nginx/1.10.0 (Ubuntu)</center>\\r\\n</body>\\r\\n</html>\\r\\n'"
      ]
     },
     "execution_count": 169,
     "metadata": {},
     "output_type": "execute_result"
    }
   ],
   "source": [
    "headers = {'content-type': 'application/json'}\n",
    "requests.post('http://testdockik.azurewebsites.net/api/uploader', \n",
    "              data=jsonimg,\n",
    "              headers=headers).content"
   ]
  }
 ],
 "metadata": {
  "kernelspec": {
   "display_name": "Python [conda root]",
   "language": "python",
   "name": "conda-root-py"
  },
  "language_info": {
   "codemirror_mode": {
    "name": "ipython",
    "version": 2
   },
   "file_extension": ".py",
   "mimetype": "text/x-python",
   "name": "python",
   "nbconvert_exporter": "python",
   "pygments_lexer": "ipython2",
   "version": "2.7.13"
  }
 },
 "nbformat": 4,
 "nbformat_minor": 2
}
