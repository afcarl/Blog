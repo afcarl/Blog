{
 "cells": [
  {
   "cell_type": "code",
   "execution_count": 1,
   "metadata": {},
   "outputs": [],
   "source": [
    "%matplotlib inline\n",
    "import pandas as pd\n",
    "import os\n",
    "import numpy as np\n",
    "from fbprophet import Prophet"
   ]
  },
  {
   "cell_type": "code",
   "execution_count": 2,
   "metadata": {},
   "outputs": [],
   "source": [
    "import warnings\n",
    "import logging\n",
    "warnings.filterwarnings('ignore')\n",
    "tracer = logging.getLogger()\n",
    "tracer.setLevel(logging.CRITICAL) # or desired level"
   ]
  },
  {
   "cell_type": "code",
   "execution_count": 3,
   "metadata": {},
   "outputs": [
    {
     "data": {
      "text/html": [
       "<div>\n",
       "<style scoped>\n",
       "    .dataframe tbody tr th:only-of-type {\n",
       "        vertical-align: middle;\n",
       "    }\n",
       "\n",
       "    .dataframe tbody tr th {\n",
       "        vertical-align: top;\n",
       "    }\n",
       "\n",
       "    .dataframe thead th {\n",
       "        text-align: right;\n",
       "    }\n",
       "</style>\n",
       "<table border=\"1\" class=\"dataframe\">\n",
       "  <thead>\n",
       "    <tr style=\"text-align: right;\">\n",
       "      <th></th>\n",
       "      <th>ds</th>\n",
       "      <th>y</th>\n",
       "    </tr>\n",
       "  </thead>\n",
       "  <tbody>\n",
       "    <tr>\n",
       "      <th>0</th>\n",
       "      <td>1998-12-31</td>\n",
       "      <td>1.6604</td>\n",
       "    </tr>\n",
       "    <tr>\n",
       "      <th>1</th>\n",
       "      <td>1999-01-01</td>\n",
       "      <td>1.6604</td>\n",
       "    </tr>\n",
       "    <tr>\n",
       "      <th>2</th>\n",
       "      <td>1999-01-04</td>\n",
       "      <td>1.6560</td>\n",
       "    </tr>\n",
       "    <tr>\n",
       "      <th>3</th>\n",
       "      <td>1999-01-05</td>\n",
       "      <td>1.6547</td>\n",
       "    </tr>\n",
       "    <tr>\n",
       "      <th>4</th>\n",
       "      <td>1999-01-06</td>\n",
       "      <td>1.6544</td>\n",
       "    </tr>\n",
       "  </tbody>\n",
       "</table>\n",
       "</div>"
      ],
      "text/plain": [
       "          ds       y\n",
       "0 1998-12-31  1.6604\n",
       "1 1999-01-01  1.6604\n",
       "2 1999-01-04  1.6560\n",
       "3 1999-01-05  1.6547\n",
       "4 1999-01-06  1.6544"
      ]
     },
     "execution_count": 3,
     "metadata": {},
     "output_type": "execute_result"
    }
   ],
   "source": [
    "df = pd.read_csv('gbpusd.csv', parse_dates=['Date'], dayfirst=True)\n",
    "df.rename(columns={\n",
    "    'GBP/USD Close':'y',\n",
    "    'Date':'ds'}, inplace=True)\n",
    "df.head()"
   ]
  },
  {
   "cell_type": "code",
   "execution_count": 4,
   "metadata": {},
   "outputs": [
    {
     "data": {
      "text/plain": [
       "<matplotlib.axes._subplots.AxesSubplot at 0x7f8a38674b70>"
      ]
     },
     "execution_count": 4,
     "metadata": {},
     "output_type": "execute_result"
    },
    {
     "data": {
      "image/png": "[encoded data removed]",
      "text/plain": [
       "<matplotlib.figure.Figure at 0x7f8a98786828>"
      ]
     },
     "metadata": {},
     "output_type": "display_data"
    }
   ],
   "source": [
    "df['y'].plot()"
   ]
  },
  {
   "cell_type": "code",
   "execution_count": 5,
   "metadata": {},
   "outputs": [
    {
     "name": "stdout",
     "output_type": "stream",
     "text": [
      "4647\n"
     ]
    }
   ],
   "source": [
    "end_period = len(df)\n",
    "test_duration = 365\n",
    "start_period = end_period - test_duration\n",
    "print(start_period)"
   ]
  },
  {
   "cell_type": "code",
   "execution_count": 6,
   "metadata": {},
   "outputs": [],
   "source": [
    "def ret_predict_direction(dta):\n",
    "    # Re-train every time period\n",
    "    m = Prophet()\n",
    "    m.fit(dta)\n",
    "    future = m.make_future_dataframe(periods=6)\n",
    "    forecast = m.predict(future)\n",
    "    five_ahead = forecast['yhat'][-6:].values\n",
    "    predicted_direction = five_ahead[-1]-five_ahead[0]\n",
    "    return predicted_direction"
   ]
  },
  {
   "cell_type": "code",
   "execution_count": 7,
   "metadata": {},
   "outputs": [],
   "source": [
    "def rule(position, predicted_direction):\n",
    "    if (predicted_direction>0.004) and position==\"none\":\n",
    "        return \"buy\"\n",
    "    elif (predicted_direction<0.001) and position==\"long\":\n",
    "        return \"sell\"\n",
    "    elif position==\"long\":\n",
    "        return \"keep\"\n",
    "    else:\n",
    "        return \"none\""
   ]
  },
  {
   "cell_type": "code",
   "execution_count": 8,
   "metadata": {},
   "outputs": [],
   "source": [
    "# Set variables\n",
    "position = \"none\"\n",
    "# Leverage is 200:1 and amount entry is 100 so effective is 20000\n",
    "leverage = 20000  # two mini lots on FXCM is £20k and costs £100 to enter\n",
    "profit_loss = 0\n",
    "bought_at = 0\n",
    "account = 0\n",
    "all_advice = []"
   ]
  },
  {
   "cell_type": "code",
   "execution_count": null,
   "metadata": {},
   "outputs": [
    {
     "name": "stdout",
     "output_type": "stream",
     "text": [
      "Advice:  none\n",
      "Advice:  buy\n",
      "Buy at 1.22240\n",
      "Advice:  keep\n",
      "Advice:  keep\n",
      "Advice:  sell\n",
      "Sold at 1.22359\n",
      "P/L from trade:  23.800000000000487\n",
      "Balance:  23.800000000000487\n",
      "Advice:  none\n",
      "Advice:  none\n",
      "Advice:  none\n",
      "Advice:  none\n",
      "Advice:  none\n",
      "Advice:  none\n",
      "Advice:  none\n",
      "Advice:  none\n",
      "Advice:  none\n",
      "Advice:  none\n",
      "Advice:  none\n",
      "Advice:  none\n",
      "Advice:  none\n",
      "Advice:  none\n",
      "Advice:  none\n",
      "Advice:  none\n",
      "Advice:  buy\n",
      "Buy at 1.23652\n",
      "Advice:  keep\n",
      "Advice:  keep\n",
      "Advice:  keep\n",
      "Advice:  keep\n",
      "Advice:  keep\n",
      "Advice:  keep\n",
      "Advice:  keep\n",
      "Advice:  keep\n",
      "Advice:  keep\n",
      "Advice:  keep\n",
      "Advice:  keep\n",
      "Advice:  keep\n",
      "Advice:  keep\n",
      "Advice:  keep\n",
      "Advice:  keep\n",
      "Advice:  sell\n",
      "Sold at 1.26752\n",
      "P/L from trade:  619.9999999999983\n",
      "Balance:  643.7999999999988\n",
      "Advice:  none\n",
      "Advice:  none\n",
      "Advice:  none\n",
      "Advice:  none\n",
      "Advice:  none\n",
      "Advice:  none\n",
      "Advice:  none\n"
     ]
    }
   ],
   "source": [
    "# Run simulation\n",
    "for period in range(start_period, end_period-6):\n",
    "    # Assume we run this every morning on all data upto\n",
    "    # and including yesterday\n",
    "    # Then we assume market today opens at yesterday's close\n",
    "    # So we buy/sell yesterday's close = today's open\n",
    "    period_data = df[:period-1]\n",
    "    # Generate prediction on what to do\n",
    "    advice = rule(position, ret_predict_direction(period_data))\n",
    "    print(\"Advice: \", advice)\n",
    "    all_advice.append(advice)\n",
    "    # Perform trade\n",
    "    if advice == \"buy\":\n",
    "        # Enter long position\n",
    "        buy_at = period_data.tail(1)['y'].values[0]\n",
    "        print(\"Buy at %.5f\" % buy_at)\n",
    "        position = \"long\"\n",
    "        bought_at = buy_at\n",
    "    elif advice == \"sell\":\n",
    "        # Sell\n",
    "        sell_at = period_data.tail(1)['y'].values[0]\n",
    "        print(\"Sold at %.5f\" % sell_at)\n",
    "        profit_loss = leverage*(sell_at - buy_at)\n",
    "        account += profit_loss\n",
    "        position = \"none\"\n",
    "        print(\"P/L from trade: \", profit_loss)\n",
    "        print(\"Balance: \", account)"
   ]
  },
  {
   "cell_type": "code",
   "execution_count": null,
   "metadata": {},
   "outputs": [],
   "source": []
  }
 ],
 "metadata": {
  "kernelspec": {
   "display_name": "Python [conda env:py35]",
   "language": "python",
   "name": "conda-env-py35-py"
  },
  "language_info": {
   "codemirror_mode": {
    "name": "ipython",
    "version": 3
   },
   "file_extension": ".py",
   "mimetype": "text/x-python",
   "name": "python",
   "nbconvert_exporter": "python",
   "pygments_lexer": "ipython3",
   "version": "3.5.2"
  }
 },
 "nbformat": 4,
 "nbformat_minor": 2
}
