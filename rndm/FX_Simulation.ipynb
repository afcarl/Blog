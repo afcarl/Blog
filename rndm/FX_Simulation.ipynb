{
 "cells": [
  {
   "cell_type": "code",
   "execution_count": 1,
   "metadata": {},
   "outputs": [],
   "source": [
    "%matplotlib inline\n",
    "import pandas as pd\n",
    "import os\n",
    "import numpy as np\n",
    "from fbprophet import Prophet"
   ]
  },
  {
   "cell_type": "code",
   "execution_count": 2,
   "metadata": {},
   "outputs": [],
   "source": [
    "import warnings\n",
    "import logging\n",
    "warnings.filterwarnings('ignore')\n",
    "tracer = logging.getLogger()\n",
    "tracer.setLevel(logging.CRITICAL) # or desired level"
   ]
  },
  {
   "cell_type": "code",
   "execution_count": 3,
   "metadata": {},
   "outputs": [
    {
     "data": {
      "text/html": [
       "<div>\n",
       "<style scoped>\n",
       "    .dataframe tbody tr th:only-of-type {\n",
       "        vertical-align: middle;\n",
       "    }\n",
       "\n",
       "    .dataframe tbody tr th {\n",
       "        vertical-align: top;\n",
       "    }\n",
       "\n",
       "    .dataframe thead th {\n",
       "        text-align: right;\n",
       "    }\n",
       "</style>\n",
       "<table border=\"1\" class=\"dataframe\">\n",
       "  <thead>\n",
       "    <tr style=\"text-align: right;\">\n",
       "      <th></th>\n",
       "      <th>ds</th>\n",
       "      <th>y</th>\n",
       "    </tr>\n",
       "  </thead>\n",
       "  <tbody>\n",
       "    <tr>\n",
       "      <th>0</th>\n",
       "      <td>1998-12-31</td>\n",
       "      <td>1.6604</td>\n",
       "    </tr>\n",
       "    <tr>\n",
       "      <th>1</th>\n",
       "      <td>1999-01-01</td>\n",
       "      <td>1.6604</td>\n",
       "    </tr>\n",
       "    <tr>\n",
       "      <th>2</th>\n",
       "      <td>1999-01-04</td>\n",
       "      <td>1.6560</td>\n",
       "    </tr>\n",
       "    <tr>\n",
       "      <th>3</th>\n",
       "      <td>1999-01-05</td>\n",
       "      <td>1.6547</td>\n",
       "    </tr>\n",
       "    <tr>\n",
       "      <th>4</th>\n",
       "      <td>1999-01-06</td>\n",
       "      <td>1.6544</td>\n",
       "    </tr>\n",
       "  </tbody>\n",
       "</table>\n",
       "</div>"
      ],
      "text/plain": [
       "          ds       y\n",
       "0 1998-12-31  1.6604\n",
       "1 1999-01-01  1.6604\n",
       "2 1999-01-04  1.6560\n",
       "3 1999-01-05  1.6547\n",
       "4 1999-01-06  1.6544"
      ]
     },
     "execution_count": 3,
     "metadata": {},
     "output_type": "execute_result"
    }
   ],
   "source": [
    "df = pd.read_csv('gbpusd.csv', parse_dates=['Date'], dayfirst=True)\n",
    "df.rename(columns={\n",
    "    'GBP/USD Close':'y',\n",
    "    'Date':'ds'}, inplace=True)\n",
    "df.head()"
   ]
  },
  {
   "cell_type": "code",
   "execution_count": 4,
   "metadata": {},
   "outputs": [
    {
     "data": {
      "text/plain": [
       "<matplotlib.axes._subplots.AxesSubplot at 0x7f40dc7d6c50>"
      ]
     },
     "execution_count": 4,
     "metadata": {},
     "output_type": "execute_result"
    },
    {
     "data": {
      "image/png": "[encoded data removed]",
      "text/plain": [
       "<matplotlib.figure.Figure at 0x7f413c12ca90>"
      ]
     },
     "metadata": {},
     "output_type": "display_data"
    }
   ],
   "source": [
    "df['y'].plot()"
   ]
  },
  {
   "cell_type": "code",
   "execution_count": 5,
   "metadata": {},
   "outputs": [
    {
     "name": "stdout",
     "output_type": "stream",
     "text": [
      "4282\n"
     ]
    }
   ],
   "source": [
    "end_period = len(df)\n",
    "# Imagine we run this for two years\n",
    "test_duration = 365*2\n",
    "start_period = end_period - test_duration\n",
    "print(start_period)"
   ]
  },
  {
   "cell_type": "code",
   "execution_count": 6,
   "metadata": {},
   "outputs": [],
   "source": [
    "def ret_predict_direction(dta):\n",
    "    # Re-train every time period\n",
    "    m = Prophet()\n",
    "    # Train\n",
    "    m.fit(dta)\n",
    "    # Predict\n",
    "    future = m.make_future_dataframe(periods=6)\n",
    "    forecast = m.predict(future)\n",
    "    # Take diff between prediction for today and last_period\n",
    "    five_ahead = forecast['yhat'][-6:].values\n",
    "    predicted_direction = five_ahead[-1]-five_ahead[0]\n",
    "    return predicted_direction"
   ]
  },
  {
   "cell_type": "code",
   "execution_count": 7,
   "metadata": {},
   "outputs": [],
   "source": [
    "def rule(position, predicted_direction):\n",
    "    if (predicted_direction>0.005) and position==\"none\":\n",
    "        return \"buy\"\n",
    "    elif (predicted_direction<0.0005) and position==\"long\":\n",
    "        return \"sell\"\n",
    "    elif (predicted_direction<-0.005) and position==\"none\":\n",
    "        return \"short_sell\"\n",
    "    elif (predicted_direction>-0.0005) and position==\"short_sell\":\n",
    "        return \"close_short_sell\"\n",
    "    elif position==\"long\":\n",
    "        return \"keep long\"\n",
    "    elif position==\"short_sell\":\n",
    "        return \"keep short\"\n",
    "    else:\n",
    "        return \"none\""
   ]
  },
  {
   "cell_type": "code",
   "execution_count": 8,
   "metadata": {},
   "outputs": [],
   "source": [
    "# Set variables\n",
    "position = \"none\"\n",
    "# Leverage is 200:1 and amount entry is 100 so effective is 20000\n",
    "leverage = 200  # two mini lots on FXCM is £20k and costs £100 to enter\n",
    "amount_in_pounds = 100\n",
    "effective_amount = leverage*amount_in_pounds\n",
    "profit_loss = 0\n",
    "bought_at = 0\n",
    "account = 1000 # imagine we start account with £1000\n",
    "all_advice = []\n",
    "all_balance = []\n",
    "spread = 0.0003  # 3 point spread \n",
    "margin_call = 500"
   ]
  },
  {
   "cell_type": "code",
   "execution_count": 9,
   "metadata": {},
   "outputs": [
    {
     "name": "stdout",
     "output_type": "stream",
     "text": [
      "Buy at 1.5196\n",
      "Sold at 1.5267\n",
      "P/L from trade: 136.00\n",
      "Balance: 1136.00\n",
      "Buy at 1.5340\n",
      "Sold at 1.5552\n",
      "P/L from trade: 418.00\n",
      "Balance: 1554.00\n",
      "Buy at 1.5606\n",
      "Sold at 1.5648\n",
      "P/L from trade: 78.00\n",
      "Balance: 1632.00\n",
      "Short at 1.5871\n",
      "Leave short at 1.5815\n",
      "P/L from trade: 105.20\n",
      "Balance: 1737.20\n",
      "Short at 1.5739\n",
      "Leave short at 1.5727\n",
      "P/L from trade: 18.00\n",
      "Balance: 1755.20\n",
      "Buy at 1.5604\n",
      "Sold at 1.5513\n",
      "P/L from trade: -188.00\n",
      "Balance: 1567.20\n",
      "Buy at 1.5489\n",
      "Sold at 1.5611\n",
      "P/L from trade: 238.00\n",
      "Balance: 1805.20\n",
      "Buy at 1.5564\n",
      "Sold at 1.5622\n",
      "P/L from trade: 110.00\n",
      "Balance: 1915.20\n",
      "Short at 1.5490\n",
      "Leave short at 1.5586\n",
      "P/L from trade: -198.00\n",
      "Balance: 1717.20\n",
      "Short at 1.5645\n",
      "Leave short at 1.5590\n",
      "P/L from trade: 104.40\n",
      "Balance: 1821.60\n",
      "Short at 1.5689\n",
      "Leave short at 1.5759\n",
      "P/L from trade: -146.20\n",
      "Balance: 1675.40\n",
      "Short at 1.5398\n",
      "Leave short at 1.5351\n",
      "P/L from trade: 88.80\n",
      "Balance: 1764.20\n",
      "Buy at 1.5283\n",
      "Sold at 1.5424\n",
      "P/L from trade: 276.00\n",
      "Balance: 2040.20\n",
      "Buy at 1.5425\n",
      "Sold at 1.5528\n",
      "P/L from trade: 201.00\n",
      "Balance: 2241.20\n",
      "Buy at 1.5505\n",
      "Sold at 1.5244\n",
      "P/L from trade: -527.60\n",
      "Balance: 1713.60\n",
      "Short at 1.5192\n",
      "Leave short at 1.5168\n",
      "P/L from trade: 41.40\n",
      "Balance: 1755.00\n",
      "Short at 1.5180\n",
      "Leave short at 1.5151\n",
      "P/L from trade: 52.00\n",
      "Balance: 1807.00\n",
      "Buy at 1.5341\n",
      "Sold at 1.5444\n",
      "P/L from trade: 200.00\n",
      "Balance: 2007.00\n",
      "Buy at 1.5464\n",
      "Sold at 1.5311\n",
      "P/L from trade: -311.20\n",
      "Balance: 1695.80\n",
      "Buy at 1.5353\n",
      "Sold at 1.5302\n",
      "P/L from trade: -107.20\n",
      "Balance: 1588.60\n",
      "Short at 1.5418\n",
      "Leave short at 1.5411\n",
      "P/L from trade: 8.00\n",
      "Balance: 1596.60\n",
      "Short at 1.5050\n",
      "Leave short at 1.5116\n",
      "P/L from trade: -138.00\n",
      "Balance: 1458.60\n",
      "Short at 1.5227\n",
      "Leave short at 1.5203\n",
      "P/L from trade: 42.00\n",
      "Balance: 1500.60\n",
      "Short at 1.5190\n",
      "Leave short at 1.5117\n",
      "P/L from trade: 139.40\n",
      "Balance: 1640.00\n",
      "Buy at 1.5094\n",
      "Sold at 1.5030\n",
      "P/L from trade: -133.20\n",
      "Balance: 1506.80\n",
      "Buy at 1.5057\n",
      "Sold at 1.5103\n",
      "P/L from trade: 86.00\n",
      "Balance: 1592.80\n",
      "Buy at 1.5059\n",
      "Sold at 1.5227\n",
      "P/L from trade: 330.20\n",
      "Balance: 1923.00\n",
      "Buy at 1.5137\n",
      "Sold at 1.5033\n",
      "P/L from trade: -213.60\n",
      "Balance: 1709.40\n",
      "Short at 1.4914\n",
      "Leave short at 1.4882\n",
      "P/L from trade: 58.00\n",
      "Balance: 1767.40\n",
      "Buy at 1.4883\n",
      "Sold at 1.4738\n",
      "P/L from trade: -296.00\n",
      "Balance: 1471.40\n",
      "Buy at 1.4716\n",
      "Sold at 1.4523\n",
      "P/L from trade: -391.20\n",
      "Balance: 1080.20\n",
      "Buy at 1.4436\n",
      "Sold at 1.4597\n",
      "P/L from trade: 315.80\n",
      "Balance: 1396.00\n",
      "Buy at 1.4240\n",
      "Sold at 1.4534\n",
      "P/L from trade: 582.00\n",
      "Balance: 1978.00\n",
      "Short at 1.4426\n",
      "Leave short at 1.4393\n",
      "P/L from trade: 60.00\n",
      "Balance: 2038.00\n",
      "Buy at 1.4634\n",
      "Sold at 1.4256\n",
      "P/L from trade: -761.80\n",
      "Balance: 1276.20\n",
      "Buy at 1.3297\n",
      "Sold at 1.3313\n",
      "P/L from trade: 26.20\n",
      "Balance: 1302.40\n",
      "Short at 1.2876\n",
      "Leave short at 1.3133\n",
      "P/L from trade: -520.80\n",
      "Balance: 781.60\n",
      "Buy at 1.3335\n",
      "Sold at 1.3021\n",
      "P/L from trade: -634.00\n",
      "Balance: 147.60\n",
      "GAME OVER!\n",
      "GAME OVER!\n",
      "GAME OVER!\n",
      "GAME OVER!\n",
      "GAME OVER!\n",
      "GAME OVER!\n",
      "GAME OVER!\n",
      "GAME OVER!\n"
     ]
    },
    {
     "ename": "KeyboardInterrupt",
     "evalue": "",
     "output_type": "error",
     "traceback": [
      "\u001b[0;31m---------------------------------------------------------------------------\u001b[0m",
      "\u001b[0;31mKeyboardInterrupt\u001b[0m                         Traceback (most recent call last)",
      "\u001b[0;32m<timed exec>\u001b[0m in \u001b[0;36m<module>\u001b[0;34m()\u001b[0m\n",
      "\u001b[0;32m<ipython-input-6-7938b8029a92>\u001b[0m in \u001b[0;36mret_predict_direction\u001b[0;34m(dta)\u001b[0m\n\u001b[1;32m      6\u001b[0m     \u001b[0;31m# Predict\u001b[0m\u001b[0;34m\u001b[0m\u001b[0;34m\u001b[0m\u001b[0m\n\u001b[1;32m      7\u001b[0m     \u001b[0mfuture\u001b[0m \u001b[0;34m=\u001b[0m \u001b[0mm\u001b[0m\u001b[0;34m.\u001b[0m\u001b[0mmake_future_dataframe\u001b[0m\u001b[0;34m(\u001b[0m\u001b[0mperiods\u001b[0m\u001b[0;34m=\u001b[0m\u001b[0;36m6\u001b[0m\u001b[0;34m)\u001b[0m\u001b[0;34m\u001b[0m\u001b[0m\n\u001b[0;32m----> 8\u001b[0;31m     \u001b[0mforecast\u001b[0m \u001b[0;34m=\u001b[0m \u001b[0mm\u001b[0m\u001b[0;34m.\u001b[0m\u001b[0mpredict\u001b[0m\u001b[0;34m(\u001b[0m\u001b[0mfuture\u001b[0m\u001b[0;34m)\u001b[0m\u001b[0;34m\u001b[0m\u001b[0m\n\u001b[0m\u001b[1;32m      9\u001b[0m     \u001b[0;31m# Take diff between prediction for today and last_period\u001b[0m\u001b[0;34m\u001b[0m\u001b[0;34m\u001b[0m\u001b[0m\n\u001b[1;32m     10\u001b[0m     \u001b[0mfive_ahead\u001b[0m \u001b[0;34m=\u001b[0m \u001b[0mforecast\u001b[0m\u001b[0;34m[\u001b[0m\u001b[0;34m'yhat'\u001b[0m\u001b[0;34m]\u001b[0m\u001b[0;34m[\u001b[0m\u001b[0;34m-\u001b[0m\u001b[0;36m6\u001b[0m\u001b[0;34m:\u001b[0m\u001b[0;34m]\u001b[0m\u001b[0;34m.\u001b[0m\u001b[0mvalues\u001b[0m\u001b[0;34m\u001b[0m\u001b[0m\n",
      "\u001b[0;32m/anaconda/envs/py35/lib/python3.5/site-packages/fbprophet/forecaster.py\u001b[0m in \u001b[0;36mpredict\u001b[0;34m(self, df)\u001b[0m\n\u001b[1;32m    873\u001b[0m \u001b[0;34m\u001b[0m\u001b[0m\n\u001b[1;32m    874\u001b[0m         \u001b[0mdf\u001b[0m\u001b[0;34m[\u001b[0m\u001b[0;34m'trend'\u001b[0m\u001b[0;34m]\u001b[0m \u001b[0;34m=\u001b[0m \u001b[0mself\u001b[0m\u001b[0;34m.\u001b[0m\u001b[0mpredict_trend\u001b[0m\u001b[0;34m(\u001b[0m\u001b[0mdf\u001b[0m\u001b[0;34m)\u001b[0m\u001b[0;34m\u001b[0m\u001b[0m\n\u001b[0;32m--> 875\u001b[0;31m         \u001b[0mseasonal_components\u001b[0m \u001b[0;34m=\u001b[0m \u001b[0mself\u001b[0m\u001b[0;34m.\u001b[0m\u001b[0mpredict_seasonal_components\u001b[0m\u001b[0;34m(\u001b[0m\u001b[0mdf\u001b[0m\u001b[0;34m)\u001b[0m\u001b[0;34m\u001b[0m\u001b[0m\n\u001b[0m\u001b[1;32m    876\u001b[0m         \u001b[0mintervals\u001b[0m \u001b[0;34m=\u001b[0m \u001b[0mself\u001b[0m\u001b[0;34m.\u001b[0m\u001b[0mpredict_uncertainty\u001b[0m\u001b[0;34m(\u001b[0m\u001b[0mdf\u001b[0m\u001b[0;34m)\u001b[0m\u001b[0;34m\u001b[0m\u001b[0m\n\u001b[1;32m    877\u001b[0m \u001b[0;34m\u001b[0m\u001b[0m\n",
      "\u001b[0;32m/anaconda/envs/py35/lib/python3.5/site-packages/fbprophet/forecaster.py\u001b[0m in \u001b[0;36mpredict_seasonal_components\u001b[0;34m(self, df)\u001b[0m\n\u001b[1;32m   1020\u001b[0m             \u001b[0mdata\u001b[0m\u001b[0;34m[\u001b[0m\u001b[0mcomponent\u001b[0m\u001b[0;34m]\u001b[0m \u001b[0;34m=\u001b[0m \u001b[0mnp\u001b[0m\u001b[0;34m.\u001b[0m\u001b[0mnanmean\u001b[0m\u001b[0;34m(\u001b[0m\u001b[0mcomp\u001b[0m\u001b[0;34m,\u001b[0m \u001b[0maxis\u001b[0m\u001b[0;34m=\u001b[0m\u001b[0;36m1\u001b[0m\u001b[0;34m)\u001b[0m\u001b[0;34m\u001b[0m\u001b[0m\n\u001b[1;32m   1021\u001b[0m             data[component + '_lower'] = np.nanpercentile(comp, lower_p,\n\u001b[0;32m-> 1022\u001b[0;31m                                                             axis=1)\n\u001b[0m\u001b[1;32m   1023\u001b[0m             data[component + '_upper'] = np.nanpercentile(comp, upper_p,\n\u001b[1;32m   1024\u001b[0m                                                             axis=1)\n",
      "\u001b[0;32m/anaconda/envs/py35/lib/python3.5/site-packages/numpy/lib/nanfunctions.py\u001b[0m in \u001b[0;36mnanpercentile\u001b[0;34m(a, q, axis, out, overwrite_input, interpolation, keepdims)\u001b[0m\n\u001b[1;32m   1150\u001b[0m     r, k = _ureduce(a, func=_nanpercentile, q=q, axis=axis, out=out,\n\u001b[1;32m   1151\u001b[0m                     \u001b[0moverwrite_input\u001b[0m\u001b[0;34m=\u001b[0m\u001b[0moverwrite_input\u001b[0m\u001b[0;34m,\u001b[0m\u001b[0;34m\u001b[0m\u001b[0m\n\u001b[0;32m-> 1152\u001b[0;31m                     interpolation=interpolation)\n\u001b[0m\u001b[1;32m   1153\u001b[0m     \u001b[0;32mif\u001b[0m \u001b[0mkeepdims\u001b[0m \u001b[0;32mand\u001b[0m \u001b[0mkeepdims\u001b[0m \u001b[0;32mis\u001b[0m \u001b[0;32mnot\u001b[0m \u001b[0mnp\u001b[0m\u001b[0;34m.\u001b[0m\u001b[0m_NoValue\u001b[0m\u001b[0;34m:\u001b[0m\u001b[0;34m\u001b[0m\u001b[0m\n\u001b[1;32m   1154\u001b[0m         \u001b[0;32mreturn\u001b[0m \u001b[0mr\u001b[0m\u001b[0;34m.\u001b[0m\u001b[0mreshape\u001b[0m\u001b[0;34m(\u001b[0m\u001b[0mq\u001b[0m\u001b[0;34m.\u001b[0m\u001b[0mshape\u001b[0m \u001b[0;34m+\u001b[0m \u001b[0mk\u001b[0m\u001b[0;34m)\u001b[0m\u001b[0;34m\u001b[0m\u001b[0m\n",
      "\u001b[0;32m/anaconda/envs/py35/lib/python3.5/site-packages/numpy/lib/function_base.py\u001b[0m in \u001b[0;36m_ureduce\u001b[0;34m(a, func, **kwargs)\u001b[0m\n\u001b[1;32m   4031\u001b[0m         \u001b[0mkeepdim\u001b[0m \u001b[0;34m=\u001b[0m \u001b[0;34m(\u001b[0m\u001b[0;36m1\u001b[0m\u001b[0;34m,\u001b[0m\u001b[0;34m)\u001b[0m \u001b[0;34m*\u001b[0m \u001b[0ma\u001b[0m\u001b[0;34m.\u001b[0m\u001b[0mndim\u001b[0m\u001b[0;34m\u001b[0m\u001b[0m\n\u001b[1;32m   4032\u001b[0m \u001b[0;34m\u001b[0m\u001b[0m\n\u001b[0;32m-> 4033\u001b[0;31m     \u001b[0mr\u001b[0m \u001b[0;34m=\u001b[0m \u001b[0mfunc\u001b[0m\u001b[0;34m(\u001b[0m\u001b[0ma\u001b[0m\u001b[0;34m,\u001b[0m \u001b[0;34m**\u001b[0m\u001b[0mkwargs\u001b[0m\u001b[0;34m)\u001b[0m\u001b[0;34m\u001b[0m\u001b[0m\n\u001b[0m\u001b[1;32m   4034\u001b[0m     \u001b[0;32mreturn\u001b[0m \u001b[0mr\u001b[0m\u001b[0;34m,\u001b[0m \u001b[0mkeepdim\u001b[0m\u001b[0;34m\u001b[0m\u001b[0m\n\u001b[1;32m   4035\u001b[0m \u001b[0;34m\u001b[0m\u001b[0m\n",
      "\u001b[0;32m/anaconda/envs/py35/lib/python3.5/site-packages/numpy/lib/nanfunctions.py\u001b[0m in \u001b[0;36m_nanpercentile\u001b[0;34m(a, q, axis, out, overwrite_input, interpolation)\u001b[0m\n\u001b[1;32m   1170\u001b[0m     \u001b[0;32melse\u001b[0m\u001b[0;34m:\u001b[0m\u001b[0;34m\u001b[0m\u001b[0m\n\u001b[1;32m   1171\u001b[0m         result = np.apply_along_axis(_nanpercentile1d, axis, a, q,\n\u001b[0;32m-> 1172\u001b[0;31m                                      overwrite_input, interpolation)\n\u001b[0m\u001b[1;32m   1173\u001b[0m         \u001b[0;31m# apply_along_axis fills in collapsed axis with results.\u001b[0m\u001b[0;34m\u001b[0m\u001b[0;34m\u001b[0m\u001b[0m\n\u001b[1;32m   1174\u001b[0m         \u001b[0;31m# Move that axis to the beginning to match percentile's\u001b[0m\u001b[0;34m\u001b[0m\u001b[0;34m\u001b[0m\u001b[0m\n",
      "\u001b[0;32m/anaconda/envs/py35/lib/python3.5/site-packages/numpy/lib/shape_base.py\u001b[0m in \u001b[0;36mapply_along_axis\u001b[0;34m(func1d, axis, arr, *args, **kwargs)\u001b[0m\n\u001b[1;32m    153\u001b[0m     \u001b[0mbuff\u001b[0m\u001b[0;34m[\u001b[0m\u001b[0mind0\u001b[0m\u001b[0;34m]\u001b[0m \u001b[0;34m=\u001b[0m \u001b[0mres\u001b[0m\u001b[0;34m\u001b[0m\u001b[0m\n\u001b[1;32m    154\u001b[0m     \u001b[0;32mfor\u001b[0m \u001b[0mind\u001b[0m \u001b[0;32min\u001b[0m \u001b[0minds\u001b[0m\u001b[0;34m:\u001b[0m\u001b[0;34m\u001b[0m\u001b[0m\n\u001b[0;32m--> 155\u001b[0;31m         \u001b[0mbuff\u001b[0m\u001b[0;34m[\u001b[0m\u001b[0mind\u001b[0m\u001b[0;34m]\u001b[0m \u001b[0;34m=\u001b[0m \u001b[0masanyarray\u001b[0m\u001b[0;34m(\u001b[0m\u001b[0mfunc1d\u001b[0m\u001b[0;34m(\u001b[0m\u001b[0minarr_view\u001b[0m\u001b[0;34m[\u001b[0m\u001b[0mind\u001b[0m\u001b[0;34m]\u001b[0m\u001b[0;34m,\u001b[0m \u001b[0;34m*\u001b[0m\u001b[0margs\u001b[0m\u001b[0;34m,\u001b[0m \u001b[0;34m**\u001b[0m\u001b[0mkwargs\u001b[0m\u001b[0;34m)\u001b[0m\u001b[0;34m)\u001b[0m\u001b[0;34m\u001b[0m\u001b[0m\n\u001b[0m\u001b[1;32m    156\u001b[0m \u001b[0;34m\u001b[0m\u001b[0m\n\u001b[1;32m    157\u001b[0m     \u001b[0;32mif\u001b[0m \u001b[0;32mnot\u001b[0m \u001b[0misinstance\u001b[0m\u001b[0;34m(\u001b[0m\u001b[0mres\u001b[0m\u001b[0;34m,\u001b[0m \u001b[0mmatrix\u001b[0m\u001b[0;34m)\u001b[0m\u001b[0;34m:\u001b[0m\u001b[0;34m\u001b[0m\u001b[0m\n",
      "\u001b[0;32m/anaconda/envs/py35/lib/python3.5/site-packages/numpy/lib/nanfunctions.py\u001b[0m in \u001b[0;36m_nanpercentile1d\u001b[0;34m(arr1d, q, overwrite_input, interpolation)\u001b[0m\n\u001b[1;32m   1193\u001b[0m \u001b[0;34m\u001b[0m\u001b[0m\n\u001b[1;32m   1194\u001b[0m     return np.percentile(arr1d, q, overwrite_input=overwrite_input,\n\u001b[0;32m-> 1195\u001b[0;31m                          interpolation=interpolation)\n\u001b[0m\u001b[1;32m   1196\u001b[0m \u001b[0;34m\u001b[0m\u001b[0m\n\u001b[1;32m   1197\u001b[0m \u001b[0;34m\u001b[0m\u001b[0m\n",
      "\u001b[0;32m/anaconda/envs/py35/lib/python3.5/site-packages/numpy/lib/function_base.py\u001b[0m in \u001b[0;36mpercentile\u001b[0;34m(a, q, axis, out, overwrite_input, interpolation, keepdims)\u001b[0m\n\u001b[1;32m   4289\u001b[0m     r, k = _ureduce(a, func=_percentile, q=q, axis=axis, out=out,\n\u001b[1;32m   4290\u001b[0m                     \u001b[0moverwrite_input\u001b[0m\u001b[0;34m=\u001b[0m\u001b[0moverwrite_input\u001b[0m\u001b[0;34m,\u001b[0m\u001b[0;34m\u001b[0m\u001b[0m\n\u001b[0;32m-> 4291\u001b[0;31m                     interpolation=interpolation)\n\u001b[0m\u001b[1;32m   4292\u001b[0m     \u001b[0;32mif\u001b[0m \u001b[0mkeepdims\u001b[0m\u001b[0;34m:\u001b[0m\u001b[0;34m\u001b[0m\u001b[0m\n\u001b[1;32m   4293\u001b[0m         \u001b[0;32mreturn\u001b[0m \u001b[0mr\u001b[0m\u001b[0;34m.\u001b[0m\u001b[0mreshape\u001b[0m\u001b[0;34m(\u001b[0m\u001b[0mq\u001b[0m\u001b[0;34m.\u001b[0m\u001b[0mshape\u001b[0m \u001b[0;34m+\u001b[0m \u001b[0mk\u001b[0m\u001b[0;34m)\u001b[0m\u001b[0;34m\u001b[0m\u001b[0m\n",
      "\u001b[0;32m/anaconda/envs/py35/lib/python3.5/site-packages/numpy/lib/function_base.py\u001b[0m in \u001b[0;36m_ureduce\u001b[0;34m(a, func, **kwargs)\u001b[0m\n\u001b[1;32m   4031\u001b[0m         \u001b[0mkeepdim\u001b[0m \u001b[0;34m=\u001b[0m \u001b[0;34m(\u001b[0m\u001b[0;36m1\u001b[0m\u001b[0;34m,\u001b[0m\u001b[0;34m)\u001b[0m \u001b[0;34m*\u001b[0m \u001b[0ma\u001b[0m\u001b[0;34m.\u001b[0m\u001b[0mndim\u001b[0m\u001b[0;34m\u001b[0m\u001b[0m\n\u001b[1;32m   4032\u001b[0m \u001b[0;34m\u001b[0m\u001b[0m\n\u001b[0;32m-> 4033\u001b[0;31m     \u001b[0mr\u001b[0m \u001b[0;34m=\u001b[0m \u001b[0mfunc\u001b[0m\u001b[0;34m(\u001b[0m\u001b[0ma\u001b[0m\u001b[0;34m,\u001b[0m \u001b[0;34m**\u001b[0m\u001b[0mkwargs\u001b[0m\u001b[0;34m)\u001b[0m\u001b[0;34m\u001b[0m\u001b[0m\n\u001b[0m\u001b[1;32m   4034\u001b[0m     \u001b[0;32mreturn\u001b[0m \u001b[0mr\u001b[0m\u001b[0;34m,\u001b[0m \u001b[0mkeepdim\u001b[0m\u001b[0;34m\u001b[0m\u001b[0m\n\u001b[1;32m   4035\u001b[0m \u001b[0;34m\u001b[0m\u001b[0m\n",
      "\u001b[0;32m/anaconda/envs/py35/lib/python3.5/site-packages/numpy/lib/function_base.py\u001b[0m in \u001b[0;36m_percentile\u001b[0;34m(a, q, axis, out, overwrite_input, interpolation, keepdims)\u001b[0m\n\u001b[1;32m   4379\u001b[0m \u001b[0;34m\u001b[0m\u001b[0m\n\u001b[1;32m   4380\u001b[0m         \u001b[0;31m# Check if the array contains any nan's\u001b[0m\u001b[0;34m\u001b[0m\u001b[0;34m\u001b[0m\u001b[0m\n\u001b[0;32m-> 4381\u001b[0;31m         \u001b[0;32mif\u001b[0m \u001b[0mnp\u001b[0m\u001b[0;34m.\u001b[0m\u001b[0missubdtype\u001b[0m\u001b[0;34m(\u001b[0m\u001b[0ma\u001b[0m\u001b[0;34m.\u001b[0m\u001b[0mdtype\u001b[0m\u001b[0;34m,\u001b[0m \u001b[0mnp\u001b[0m\u001b[0;34m.\u001b[0m\u001b[0minexact\u001b[0m\u001b[0;34m)\u001b[0m\u001b[0;34m:\u001b[0m\u001b[0;34m\u001b[0m\u001b[0m\n\u001b[0m\u001b[1;32m   4382\u001b[0m             \u001b[0mindices_above\u001b[0m \u001b[0;34m=\u001b[0m \u001b[0mconcatenate\u001b[0m\u001b[0;34m(\u001b[0m\u001b[0;34m(\u001b[0m\u001b[0mindices_above\u001b[0m\u001b[0;34m,\u001b[0m \u001b[0;34m[\u001b[0m\u001b[0;34m-\u001b[0m\u001b[0;36m1\u001b[0m\u001b[0;34m]\u001b[0m\u001b[0;34m)\u001b[0m\u001b[0;34m)\u001b[0m\u001b[0;34m\u001b[0m\u001b[0m\n\u001b[1;32m   4383\u001b[0m \u001b[0;34m\u001b[0m\u001b[0m\n",
      "\u001b[0;32m/anaconda/envs/py35/lib/python3.5/site-packages/numpy/core/numerictypes.py\u001b[0m in \u001b[0;36missubdtype\u001b[0;34m(arg1, arg2)\u001b[0m\n\u001b[1;32m    724\u001b[0m     \"\"\"\n\u001b[1;32m    725\u001b[0m     \u001b[0;32mif\u001b[0m \u001b[0;32mnot\u001b[0m \u001b[0missubclass_\u001b[0m\u001b[0;34m(\u001b[0m\u001b[0marg1\u001b[0m\u001b[0;34m,\u001b[0m \u001b[0mgeneric\u001b[0m\u001b[0;34m)\u001b[0m\u001b[0;34m:\u001b[0m\u001b[0;34m\u001b[0m\u001b[0m\n\u001b[0;32m--> 726\u001b[0;31m         \u001b[0marg1\u001b[0m \u001b[0;34m=\u001b[0m \u001b[0mdtype\u001b[0m\u001b[0;34m(\u001b[0m\u001b[0marg1\u001b[0m\u001b[0;34m)\u001b[0m\u001b[0;34m.\u001b[0m\u001b[0mtype\u001b[0m\u001b[0;34m\u001b[0m\u001b[0m\n\u001b[0m\u001b[1;32m    727\u001b[0m     \u001b[0;32mif\u001b[0m \u001b[0;32mnot\u001b[0m \u001b[0missubclass_\u001b[0m\u001b[0;34m(\u001b[0m\u001b[0marg2\u001b[0m\u001b[0;34m,\u001b[0m \u001b[0mgeneric\u001b[0m\u001b[0;34m)\u001b[0m\u001b[0;34m:\u001b[0m\u001b[0;34m\u001b[0m\u001b[0m\n\u001b[1;32m    728\u001b[0m         \u001b[0marg2_orig\u001b[0m \u001b[0;34m=\u001b[0m \u001b[0marg2\u001b[0m\u001b[0;34m\u001b[0m\u001b[0m\n",
      "\u001b[0;31mKeyboardInterrupt\u001b[0m: "
     ]
    }
   ],
   "source": [
    "%%time\n",
    "# Run simulation\n",
    "# I'm not considering short-shelling which we can do\n",
    "for period in range(start_period, end_period-6):\n",
    "    # Assume we run this every morning on all data upto\n",
    "    # and including yesterday\n",
    "    # Then we assume market today opens at yesterday's close\n",
    "    # So we buy/sell yesterday's close = today's open\n",
    "    period_data = df[:period-1]\n",
    "    # Generate prediction on what to do\n",
    "    advice = rule(position, ret_predict_direction(period_data))\n",
    "    #print(\"Advice: \", advice)\n",
    "    all_advice.append(advice)\n",
    "    all_balance.append(account)\n",
    "    if account <= margin_call:\n",
    "        print(\"GAME OVER!\")\n",
    "    # Perform trade\n",
    "    # Enter positions\n",
    "    if advice == \"buy\":\n",
    "        # Enter long position\n",
    "        bought_at = period_data.tail(1)['y'].values[0]\n",
    "        print(\"Buy at %.4f\" % bought_at)\n",
    "        position = \"long\"\n",
    "    elif advice == \"short_sell\":\n",
    "        # Enter short position\n",
    "        bought_at = period_data.tail(1)['y'].values[0]\n",
    "        print(\"Short at %.4f\" % bought_at)\n",
    "        position = \"short_sell\"\n",
    "    # Close positions\n",
    "    elif advice == \"sell\":\n",
    "        # Close long\n",
    "        sell_at = period_data.tail(1)['y'].values[0]\n",
    "        print(\"Sold at %.4f\" % sell_at)\n",
    "        profit_loss = (effective_amount*(sell_at - bought_at - spread)) \n",
    "        account += profit_loss\n",
    "        position = \"none\"\n",
    "        print(\"P/L from trade: %.2f\" % profit_loss)\n",
    "        print(\"Balance: %.2f\" % account)\n",
    "    elif advice == \"close_short_sell\":\n",
    "        # Close short\n",
    "        sell_at = period_data.tail(1)['y'].values[0]\n",
    "        print(\"Leave short at %.4f\" % sell_at)\n",
    "        profit_loss = (effective_amount*(bought_at - sell_at - spread))\n",
    "        account += profit_loss\n",
    "        position = \"none\"\n",
    "        print(\"P/L from trade: %.2f\" % profit_loss)\n",
    "        print(\"Balance: %.2f\" % account)"
   ]
  },
  {
   "cell_type": "code",
   "execution_count": 13,
   "metadata": {},
   "outputs": [
    {
     "data": {
      "text/plain": [
       "<matplotlib.axes._subplots.AxesSubplot at 0x7f40f7b11630>"
      ]
     },
     "execution_count": 13,
     "metadata": {},
     "output_type": "execute_result"
    },
    {
     "data": {
      "image/png": "[encoded data removed]",
      "text/plain": [
       "<matplotlib.figure.Figure at 0x7f40f7b4f550>"
      ]
     },
     "metadata": {},
     "output_type": "display_data"
    }
   ],
   "source": [
    "pd.DataFrame(all_balance).plot()"
   ]
  }
 ],
 "metadata": {
  "kernelspec": {
   "display_name": "Python [conda env:py35]",
   "language": "python",
   "name": "conda-env-py35-py"
  },
  "language_info": {
   "codemirror_mode": {
    "name": "ipython",
    "version": 3
   },
   "file_extension": ".py",
   "mimetype": "text/x-python",
   "name": "python",
   "nbconvert_exporter": "python",
   "pygments_lexer": "ipython3",
   "version": "3.5.2"
  }
 },
 "nbformat": 4,
 "nbformat_minor": 2
}
