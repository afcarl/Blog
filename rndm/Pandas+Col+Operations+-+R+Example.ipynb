{
 "cells": [
  {
   "cell_type": "code",
   "execution_count": 21,
   "metadata": {
    "collapsed": true
   },
   "outputs": [],
   "source": [
    "df_plane_numeric <- data.frame(runif(1000*1000*1000, -10, 10))\n",
    "names(df_plane_numeric) <- \"ArrDelay\""
   ]
  },
  {
   "cell_type": "code",
   "execution_count": 22,
   "metadata": {},
   "outputs": [
    {
     "data": {
      "text/html": [
       "<table>\n",
       "<thead><tr><th scope=col>ArrDelay</th></tr></thead>\n",
       "<tbody>\n",
       "\t<tr><td> 3.703092</td></tr>\n",
       "\t<tr><td>-8.866225</td></tr>\n",
       "\t<tr><td>-1.765687</td></tr>\n",
       "\t<tr><td>-3.385952</td></tr>\n",
       "\t<tr><td> 8.824881</td></tr>\n",
       "\t<tr><td> 6.058133</td></tr>\n",
       "</tbody>\n",
       "</table>\n"
      ],
      "text/latex": [
       "\\begin{tabular}{r|l}\n",
       " ArrDelay\\\\\n",
       "\\hline\n",
       "\t  3.703092\\\\\n",
       "\t -8.866225\\\\\n",
       "\t -1.765687\\\\\n",
       "\t -3.385952\\\\\n",
       "\t  8.824881\\\\\n",
       "\t  6.058133\\\\\n",
       "\\end{tabular}\n"
      ],
      "text/markdown": [
       "\n",
       "ArrDelay | \n",
       "|---|---|---|---|---|---|\n",
       "|  3.703092 | \n",
       "| -8.866225 | \n",
       "| -1.765687 | \n",
       "| -3.385952 | \n",
       "|  8.824881 | \n",
       "|  6.058133 | \n",
       "\n",
       "\n"
      ],
      "text/plain": [
       "  ArrDelay \n",
       "1  3.703092\n",
       "2 -8.866225\n",
       "3 -1.765687\n",
       "4 -3.385952\n",
       "5  8.824881\n",
       "6  6.058133"
      ]
     },
     "metadata": {},
     "output_type": "display_data"
    }
   ],
   "source": [
    "head(df_plane_numeric)"
   ]
  },
  {
   "cell_type": "code",
   "execution_count": 25,
   "metadata": {},
   "outputs": [
    {
     "data": {
      "text/plain": [
       "   user  system elapsed \n",
       "  6.370   0.918   7.289 "
      ]
     },
     "metadata": {},
     "output_type": "display_data"
    }
   ],
   "source": [
    "# Start the clock!\n",
    "ptm <- proc.time()\n",
    "\n",
    "# Command\n",
    "df_plane_numeric$ArrDelayBinary <- df_plane_numeric$ArrDelay > 0\n",
    "\n",
    "# Stop the clock\n",
    "proc.time() - ptm"
   ]
  },
  {
   "cell_type": "code",
   "execution_count": 24,
   "metadata": {},
   "outputs": [
    {
     "data": {
      "text/html": [
       "<table>\n",
       "<thead><tr><th scope=col>ArrDelay</th><th scope=col>ArrDelayBinary</th></tr></thead>\n",
       "<tbody>\n",
       "\t<tr><td> 3.703092</td><td> TRUE    </td></tr>\n",
       "\t<tr><td>-8.866225</td><td>FALSE    </td></tr>\n",
       "\t<tr><td>-1.765687</td><td>FALSE    </td></tr>\n",
       "\t<tr><td>-3.385952</td><td>FALSE    </td></tr>\n",
       "\t<tr><td> 8.824881</td><td> TRUE    </td></tr>\n",
       "\t<tr><td> 6.058133</td><td> TRUE    </td></tr>\n",
       "</tbody>\n",
       "</table>\n"
      ],
      "text/latex": [
       "\\begin{tabular}{r|ll}\n",
       " ArrDelay & ArrDelayBinary\\\\\n",
       "\\hline\n",
       "\t  3.703092 &  TRUE    \\\\\n",
       "\t -8.866225 & FALSE    \\\\\n",
       "\t -1.765687 & FALSE    \\\\\n",
       "\t -3.385952 & FALSE    \\\\\n",
       "\t  8.824881 &  TRUE    \\\\\n",
       "\t  6.058133 &  TRUE    \\\\\n",
       "\\end{tabular}\n"
      ],
      "text/markdown": [
       "\n",
       "ArrDelay | ArrDelayBinary | \n",
       "|---|---|---|---|---|---|\n",
       "|  3.703092 |  TRUE     | \n",
       "| -8.866225 | FALSE     | \n",
       "| -1.765687 | FALSE     | \n",
       "| -3.385952 | FALSE     | \n",
       "|  8.824881 |  TRUE     | \n",
       "|  6.058133 |  TRUE     | \n",
       "\n",
       "\n"
      ],
      "text/plain": [
       "  ArrDelay  ArrDelayBinary\n",
       "1  3.703092  TRUE         \n",
       "2 -8.866225 FALSE         \n",
       "3 -1.765687 FALSE         \n",
       "4 -3.385952 FALSE         \n",
       "5  8.824881  TRUE         \n",
       "6  6.058133  TRUE         "
      ]
     },
     "metadata": {},
     "output_type": "display_data"
    }
   ],
   "source": [
    "head(df_plane_numeric)"
   ]
  }
 ],
 "metadata": {
  "anaconda-cloud": {},
  "kernelspec": {
   "display_name": "R",
   "language": "R",
   "name": "ir"
  },
  "language_info": {
   "codemirror_mode": "r",
   "file_extension": ".r",
   "mimetype": "text/x-r-source",
   "name": "R",
   "pygments_lexer": "r",
   "version": "3.3.2"
  }
 },
 "nbformat": 4,
 "nbformat_minor": 1
}
