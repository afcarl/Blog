{
 "cells": [
  {
   "cell_type": "markdown",
   "metadata": {},
   "source": [
    "# High-level CNTK Example"
   ]
  },
  {
   "cell_type": "code",
   "execution_count": 1,
   "metadata": {
    "collapsed": true
   },
   "outputs": [],
   "source": [
    "import numpy as np\n",
    "import os\n",
    "import sys\n",
    "import cntk\n",
    "from cntk.layers import Convolution2D, MaxPooling, Dense, Dropout\n",
    "from common.params import *\n",
    "from common.utils import *"
   ]
  },
  {
   "cell_type": "code",
   "execution_count": 2,
   "metadata": {},
   "outputs": [
    {
     "name": "stdout",
     "output_type": "stream",
     "text": [
      "OS:  linux\n",
      "Python:  3.5.2 |Anaconda custom (64-bit)| (default, Jul  2 2016, 17:53:06) \n",
      "[GCC 4.4.7 20120313 (Red Hat 4.4.7-1)]\n",
      "Numpy:  1.13.1\n",
      "CNTK:  2.0rc1\n"
     ]
    }
   ],
   "source": [
    "print(\"OS: \", sys.platform)\n",
    "print(\"Python: \", sys.version)\n",
    "print(\"Numpy: \", np.__version__)\n",
    "print(\"CNTK: \", cntk.__version__)"
   ]
  },
  {
   "cell_type": "code",
   "execution_count": 3,
   "metadata": {
    "collapsed": true
   },
   "outputs": [],
   "source": [
    "def create_lenet():\n",
    "    with cntk.layers.default_options(init = cntk.glorot_normal(), activation = cntk.relu):\n",
    "        x = Convolution2D(filter_shape=(3, 3), num_filters=48, pad=True)(features)\n",
    "        x = Convolution2D(filter_shape=(3, 3), num_filters=48)(x)\n",
    "        x = MaxPooling((2, 2), strides=(2, 2), pad=False)(x)\n",
    "        x = Dropout(0.25)(x)\n",
    "\n",
    "        x = Convolution2D(filter_shape=(3, 3), num_filters=96, pad=True)(x)\n",
    "        x = Convolution2D(filter_shape=(3, 3), num_filters=96)(x)\n",
    "        x = MaxPooling((2, 2), strides=(2, 2), pad=False)(x)\n",
    "        x = Dropout(0.25)(x)\n",
    "        \n",
    "        x = Convolution2D(filter_shape=(3, 3), num_filters=192, pad=True)(x)\n",
    "        x = Convolution2D(filter_shape=(3, 3), num_filters=192)(x)\n",
    "        x = MaxPooling((2, 2), strides=(2, 2), pad=False)(x)\n",
    "        x = Dropout(0.25)(x)        \n",
    "        \n",
    "        x = Dense(512)(x)\n",
    "        x = Dropout(0.5)(x)\n",
    "        x = Dense(N_CLASSES, activation=None)(x)\n",
    "        return x"
   ]
  },
  {
   "cell_type": "code",
   "execution_count": 4,
   "metadata": {
    "collapsed": true
   },
   "outputs": [],
   "source": [
    "def init_model(m):\n",
    "    # Loss\n",
    "    loss = cntk.cross_entropy_with_softmax(m, labels)\n",
    "    # Classification error\n",
    "    label_error = cntk.classification_error(m, labels)\n",
    "    # Init trainer object\n",
    "    lr_schedule = cntk.learning_rate_schedule(LR, cntk.UnitType.minibatch) \n",
    "    m_schedule = cntk.momentum_schedule(MOMENTUM)\n",
    "    # Where can I say no wd and no nesterov; where is momentum\n",
    "    learner = cntk.momentum_sgd(m.parameters, lr=lr_schedule, momentum=m_schedule)\n",
    "    trainer = cntk.Trainer(m, (loss, label_error), [learner])\n",
    "    return trainer"
   ]
  },
  {
   "cell_type": "code",
   "execution_count": 5,
   "metadata": {},
   "outputs": [
    {
     "name": "stdout",
     "output_type": "stream",
     "text": [
      "Downloading http://www.cs.toronto.edu/~kriz/cifar-10-python.tar.gz\n",
      "Done.\n",
      "Extracting files...\n",
      "Done.\n",
      "Preparing train set...\n",
      "Preparing test set...\n",
      "Done.\n",
      "(50000, 3, 32, 32) (10000, 3, 32, 32) (50000, 10) (10000, 10)\n",
      "float32 float32 float32 float32\n",
      "CPU times: user 3.05 s, sys: 1.38 s, total: 4.43 s\n",
      "Wall time: 21.1 s\n"
     ]
    }
   ],
   "source": [
    "%%time\n",
    "# Data into format for library\n",
    "#x_train, x_test, y_train, y_test = mnist_for_library(channel_first=True, one_hot=True)\n",
    "x_train, x_test, y_train, y_test = cifar_for_library(channel_first=True, one_hot=True)\n",
    "# CNTK format\n",
    "y_train = y_train.astype(np.float32)\n",
    "y_test = y_test.astype(np.float32)\n",
    "print(x_train.shape, x_test.shape, y_train.shape, y_test.shape)\n",
    "print(x_train.dtype, x_test.dtype, y_train.dtype, y_test.dtype)"
   ]
  },
  {
   "cell_type": "code",
   "execution_count": 6,
   "metadata": {},
   "outputs": [
    {
     "name": "stdout",
     "output_type": "stream",
     "text": [
      "CPU times: user 28 ms, sys: 208 ms, total: 236 ms\n",
      "Wall time: 610 ms\n"
     ]
    }
   ],
   "source": [
    "%%time\n",
    "# Placeholders\n",
    "features = cntk.input_variable((3, 32, 32), np.float32)\n",
    "labels = cntk.input_variable(N_CLASSES, np.float32)\n",
    "# Load symbol\n",
    "sym = create_lenet()"
   ]
  },
  {
   "cell_type": "code",
   "execution_count": 7,
   "metadata": {},
   "outputs": [
    {
     "name": "stdout",
     "output_type": "stream",
     "text": [
      "CPU times: user 36 ms, sys: 576 ms, total: 612 ms\n",
      "Wall time: 2.2 s\n"
     ]
    }
   ],
   "source": [
    "%%time\n",
    "trainer = init_model(sym)"
   ]
  },
  {
   "cell_type": "code",
   "execution_count": 8,
   "metadata": {},
   "outputs": [
    {
     "name": "stdout",
     "output_type": "stream",
     "text": [
      "Epoch 1  |  Accuracy: 0.140625\n",
      "Epoch 2  |  Accuracy: 0.171875\n",
      "Epoch 3  |  Accuracy: 0.265625\n",
      "Epoch 4  |  Accuracy: 0.421875\n",
      "Epoch 5  |  Accuracy: 0.437500\n",
      "Epoch 6  |  Accuracy: 0.437500\n",
      "Epoch 7  |  Accuracy: 0.484375\n",
      "Epoch 8  |  Accuracy: 0.531250\n",
      "Epoch 9  |  Accuracy: 0.546875\n",
      "Epoch 10  |  Accuracy: 0.531250\n",
      "Epoch 11  |  Accuracy: 0.531250\n",
      "Epoch 12  |  Accuracy: 0.609375\n",
      "Epoch 13  |  Accuracy: 0.468750\n",
      "Epoch 14  |  Accuracy: 0.640625\n",
      "Epoch 15  |  Accuracy: 0.656250\n",
      "Epoch 16  |  Accuracy: 0.640625\n",
      "Epoch 17  |  Accuracy: 0.656250\n",
      "Epoch 18  |  Accuracy: 0.703125\n",
      "Epoch 19  |  Accuracy: 0.625000\n",
      "Epoch 20  |  Accuracy: 0.640625\n",
      "CPU times: user 4min 56s, sys: 45.9 s, total: 5min 42s\n",
      "Wall time: 10min 25s\n"
     ]
    }
   ],
   "source": [
    "%%time\n",
    "# Train model\n",
    "for j in range(EPOCHS):\n",
    "    for data, label in yield_mb(x_train, y_train, BATCHSIZE, shuffle=True):\n",
    "        trainer.train_minibatch({features: data, labels: label})\n",
    "    # Log (this is just last batch in epoch, not average of batches)\n",
    "    eval_error = trainer.previous_minibatch_evaluation_average\n",
    "    print(\"Epoch %d  |  Accuracy: %.6f\" % (j+1, (1-eval_error)))"
   ]
  },
  {
   "cell_type": "code",
   "execution_count": 9,
   "metadata": {},
   "outputs": [
    {
     "name": "stdout",
     "output_type": "stream",
     "text": [
      "CPU times: user 960 ms, sys: 336 ms, total: 1.3 s\n",
      "Wall time: 2.69 s\n"
     ]
    }
   ],
   "source": [
    "%%time\n",
    "# Predict and then score accuracy\n",
    "# Apply softmax since that is only applied at training\n",
    "# with cross-entropy loss\n",
    "z = cntk.softmax(sym)\n",
    "n_samples = (y_test.shape[0]//BATCHSIZE)*BATCHSIZE\n",
    "y_guess = np.zeros(n_samples, dtype=np.int)\n",
    "y_truth = np.argmax(y_test[:n_samples], axis=-1)\n",
    "c = 0\n",
    "for data, label in yield_mb(x_test, y_test, BATCHSIZE):\n",
    "    predicted_label_probs = z.eval({features : data})\n",
    "    y_guess[c*BATCHSIZE:(c+1)*BATCHSIZE] = np.argmax(predicted_label_probs, axis=-1)\n",
    "    c += 1"
   ]
  },
  {
   "cell_type": "code",
   "execution_count": 10,
   "metadata": {},
   "outputs": [
    {
     "name": "stdout",
     "output_type": "stream",
     "text": [
      "Accuracy:  0.681991185897\n"
     ]
    }
   ],
   "source": [
    "print(\"Accuracy: \", sum(y_guess == y_truth)/len(y_guess))"
   ]
  }
 ],
 "metadata": {
  "anaconda-cloud": {},
  "kernelspec": {
   "display_name": "Python 3",
   "language": "python",
   "name": "python3"
  },
  "language_info": {
   "codemirror_mode": {
    "name": "ipython",
    "version": 3
   },
   "file_extension": ".py",
   "mimetype": "text/x-python",
   "name": "python",
   "nbconvert_exporter": "python",
   "pygments_lexer": "ipython3",
   "version": "3.5.2"
  }
 },
 "nbformat": 4,
 "nbformat_minor": 2
}
