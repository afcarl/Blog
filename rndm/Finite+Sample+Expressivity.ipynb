{
 "cells": [
  {
   "cell_type": "code",
   "execution_count": 15,
   "metadata": {
    "collapsed": true
   },
   "outputs": [],
   "source": [
    "import numpy as np\n",
    "from pulp import *"
   ]
  },
  {
   "cell_type": "code",
   "execution_count": 16,
   "metadata": {},
   "outputs": [],
   "source": [
    "# INPUT: 2D vector\n",
    "z = np.array([[7, 4], [14, 8], [21, 12], [28, 16], [35, 20], [42, 24]])"
   ]
  },
  {
   "cell_type": "code",
   "execution_count": 17,
   "metadata": {},
   "outputs": [],
   "source": [
    "# INPUT: FUNCTION\n",
    "def myfunc(x):\n",
    "    # This uses 2D\n",
    "    return np.cos(x[:,0])**3+np.tanh(x[:,1])"
   ]
  },
  {
   "cell_type": "code",
   "execution_count": 18,
   "metadata": {},
   "outputs": [
    {
     "data": {
      "text/plain": [
       "[1.4278236754404783,\n",
       " 1.0025563598384633,\n",
       " 0.83567720015193347,\n",
       " 0.10803972636796511,\n",
       " 0.26199108387231973,\n",
       " 0.93600704854681505]"
      ]
     },
     "execution_count": 18,
     "metadata": {},
     "output_type": "execute_result"
    }
   ],
   "source": [
    "# Results to replicate\n",
    "y = myfunc(z)\n",
    "list(y)"
   ]
  },
  {
   "cell_type": "code",
   "execution_count": 19,
   "metadata": {},
   "outputs": [],
   "source": [
    "def random_params_to_fit_constraints(X):\n",
    "    prob = LpProblem(\"Random Numbers to fit Constraints\", LpMinimize)\n",
    "    # Variables\n",
    "    # A is in R(d)\n",
    "    A = {}\n",
    "    for j in range(X.shape[1]):\n",
    "        A[j] = LpVariable(\"a_{}\".format(j))\n",
    "        \n",
    "    # B is in R(n)\n",
    "    B = {}\n",
    "    for i in range(X.shape[0]):\n",
    "        B[i] = LpVariable(\"beta_{}\".format(i))\n",
    "        \n",
    "    # Interleaving Constraints\n",
    "    # Tolerance for strict inequality\n",
    "    tolerance = -5\n",
    "    # b1 < x1 < b2 < x2 < b3 < x3 < b4 < x5\n",
    "    for i in range(X.shape[0]):\n",
    "        #b1 < x1, b2 < x2, b3 < x3, b4 < x5\n",
    "        prob += B[i] <= lpSum( X[i,j] * A[j] for j in range(X.shape[1])) + tolerance\n",
    "        # x1 < b2, x2 < b3, x3 < b4\n",
    "        if i < X.shape[0]-1:\n",
    "            prob += lpSum( X[i,j] * A[j] for j in range(X.shape[1])) <= B[i+1] + tolerance\n",
    "            \n",
    "    # Solve\n",
    "    #print(prob)\n",
    "    prob.solve()\n",
    "    #print(LpStatus[prob.status])\n",
    "    # Extract results\n",
    "    if prob.status == 1:        \n",
    "        A_opt = np.zeros(X.shape[1])\n",
    "        B_opt = np.zeros(X.shape[0])\n",
    "        for i in range(X.shape[0]):\n",
    "            B_opt[i] = B[i].varValue\n",
    "        for j in range(X.shape[1]):\n",
    "            A_opt[j] = A[j].varValue\n",
    "        return A_opt, [np.dot(X[i], A_opt) for i in range(X.shape[0])], B_opt\n",
    "    else:\n",
    "        return None"
   ]
  },
  {
   "cell_type": "code",
   "execution_count": 20,
   "metadata": {},
   "outputs": [
    {
     "name": "stdout",
     "output_type": "stream",
     "text": [
      "[9.9999998000000012, 19.999999600000002, 29.9999994, 39.999999200000005, 49.999999000000003, 59.9999988]\n",
      "[  0.  15.  25.  35.  45.  55.]\n"
     ]
    }
   ],
   "source": [
    "a, X, b = random_params_to_fit_constraints(z)\n",
    "#print(a)  # <a,z> = x\n",
    "print(X)  # Transformed to R1\n",
    "print(b)  # Bias"
   ]
  },
  {
   "cell_type": "code",
   "execution_count": 21,
   "metadata": {},
   "outputs": [
    {
     "data": {
      "text/plain": [
       "array([[  9.9999998,   0.       ,   0.       ,   0.       ,   0.       ,\n",
       "          0.       ],\n",
       "       [ 19.9999996,   4.9999996,   0.       ,   0.       ,   0.       ,\n",
       "          0.       ],\n",
       "       [ 29.9999994,  14.9999994,   4.9999994,   0.       ,   0.       ,\n",
       "          0.       ],\n",
       "       [ 39.9999992,  24.9999992,  14.9999992,   4.9999992,   0.       ,\n",
       "          0.       ],\n",
       "       [ 49.999999 ,  34.999999 ,  24.999999 ,  14.999999 ,   4.999999 ,\n",
       "          0.       ],\n",
       "       [ 59.9999988,  44.9999988,  34.9999988,  24.9999988,  14.9999988,\n",
       "          4.9999988]])"
      ]
     },
     "execution_count": 21,
     "metadata": {},
     "output_type": "execute_result"
    }
   ],
   "source": [
    "# Constructed nxn matrix\n",
    "A = np.transpose(np.ones((len(X), len(X)))*X) + np.ones((len(X), len(X)))*-b\n",
    "A[A<0] = 0\n",
    "A"
   ]
  },
  {
   "cell_type": "code",
   "execution_count": 22,
   "metadata": {},
   "outputs": [
    {
     "data": {
      "text/plain": [
       "array([ 0.14278237, -0.37061823,  0.42229592, -0.53444771,  0.71076568,\n",
       "       -0.60675302])"
      ]
     },
     "execution_count": 22,
     "metadata": {},
     "output_type": "execute_result"
    }
   ],
   "source": [
    "# Weights matrix\n",
    "w = np.linalg.solve(A, y) \n",
    "w"
   ]
  },
  {
   "cell_type": "code",
   "execution_count": 23,
   "metadata": {},
   "outputs": [
    {
     "data": {
      "text/plain": [
       "True"
      ]
     },
     "execution_count": 23,
     "metadata": {},
     "output_type": "execute_result"
    }
   ],
   "source": [
    "np.allclose(np.dot(A, w), y)"
   ]
  },
  {
   "cell_type": "code",
   "execution_count": 24,
   "metadata": {},
   "outputs": [
    {
     "data": {
      "text/plain": [
       "(1.4278236754404783, 1.4278236754404783)"
      ]
     },
     "execution_count": 24,
     "metadata": {},
     "output_type": "execute_result"
    }
   ],
   "source": [
    "# E.g, y1\n",
    "w[0]*(X[0]-b[0]), y[0]"
   ]
  },
  {
   "cell_type": "code",
   "execution_count": 25,
   "metadata": {},
   "outputs": [
    {
     "data": {
      "text/plain": [
       "(1.0025563598384628, 1.0025563598384633)"
      ]
     },
     "execution_count": 25,
     "metadata": {},
     "output_type": "execute_result"
    }
   ],
   "source": [
    "# E.g, y2\n",
    "(w[0]*(X[1]-b[0]))+(w[1]*(X[1]-b[1])), y[1]"
   ]
  },
  {
   "cell_type": "code",
   "execution_count": 27,
   "metadata": {},
   "outputs": [
    {
     "name": "stdout",
     "output_type": "stream",
     "text": [
      "2n + d = 14\n",
      "14\n"
     ]
    }
   ],
   "source": [
    "# Parameters:\n",
    "print(\"2n + d = {}\".format(z.shape[0]*2 + z.shape[1]))\n",
    "print(len(w) + len(b) + len(a))"
   ]
  }
 ],
 "metadata": {
  "kernelspec": {
   "display_name": "Python [conda root]",
   "language": "python",
   "name": "conda-root-py"
  },
  "language_info": {
   "codemirror_mode": {
    "name": "ipython",
    "version": 3
   },
   "file_extension": ".py",
   "mimetype": "text/x-python",
   "name": "python",
   "nbconvert_exporter": "python",
   "pygments_lexer": "ipython3",
   "version": "3.5.2"
  }
 },
 "nbformat": 4,
 "nbformat_minor": 2
}
