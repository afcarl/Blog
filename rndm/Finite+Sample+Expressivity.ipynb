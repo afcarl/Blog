{
 "cells": [
  {
   "cell_type": "code",
   "execution_count": 1,
   "metadata": {
    "collapsed": true
   },
   "outputs": [],
   "source": [
    "import numpy as np\n",
    "from pulp import *"
   ]
  },
  {
   "cell_type": "code",
   "execution_count": 2,
   "metadata": {},
   "outputs": [],
   "source": [
    "# INPUT: 2D vector\n",
    "z = np.array([[7, 1], [2, 2], [21, 3], [5, 5], [35, 3], [42, 20]])"
   ]
  },
  {
   "cell_type": "code",
   "execution_count": 3,
   "metadata": {},
   "outputs": [],
   "source": [
    "# INPUT: FUNCTION\n",
    "def myfunc(x):\n",
    "    # This uses 2D\n",
    "    return np.cos(x[:,0])**3+np.tanh(x[:,1])"
   ]
  },
  {
   "cell_type": "code",
   "execution_count": 4,
   "metadata": {},
   "outputs": [
    {
     "data": {
      "text/plain": [
       "[1.1900885316571761,\n",
       " 0.89196002432805166,\n",
       " 0.83073195391416665,\n",
       " 1.0227338651453095,\n",
       " 0.25704583755905019,\n",
       " 0.93600704854681505]"
      ]
     },
     "execution_count": 4,
     "metadata": {},
     "output_type": "execute_result"
    }
   ],
   "source": [
    "# Results to replicate\n",
    "y = myfunc(z)\n",
    "list(y)"
   ]
  },
  {
   "cell_type": "code",
   "execution_count": 5,
   "metadata": {},
   "outputs": [],
   "source": [
    "def random_params_to_fit_constraints(X):\n",
    "    prob = LpProblem(\"Random Numbers to fit Constraints\", LpMinimize)\n",
    "    # Variables\n",
    "    # A is in R(d)\n",
    "    A = {}\n",
    "    for j in range(X.shape[1]):\n",
    "        A[j] = LpVariable(\"a_{}\".format(j))\n",
    "        \n",
    "    # B is in R(n)\n",
    "    B = {}\n",
    "    for i in range(X.shape[0]):\n",
    "        B[i] = LpVariable(\"beta_{}\".format(i))\n",
    "        \n",
    "    # Interleaving Constraints\n",
    "    # Tolerance for strict inequality\n",
    "    tolerance = -5\n",
    "    # b1 < x1 < b2 < x2 < b3 < x3 < b4 < x5\n",
    "    for i in range(X.shape[0]):\n",
    "        #b1 < x1, b2 < x2, b3 < x3, b4 < x5\n",
    "        prob += B[i] <= lpSum( X[i,j] * A[j] for j in range(X.shape[1])) + tolerance\n",
    "        # x1 < b2, x2 < b3, x3 < b4\n",
    "        if i < X.shape[0]-1:\n",
    "            prob += lpSum( X[i,j] * A[j] for j in range(X.shape[1])) <= B[i+1] + tolerance\n",
    "            \n",
    "    # Solve\n",
    "    #print(prob)\n",
    "    prob.solve()\n",
    "    #print(LpStatus[prob.status])\n",
    "    # Extract results\n",
    "    if prob.status == 1:        \n",
    "        A_opt = np.zeros(X.shape[1])\n",
    "        B_opt = np.zeros(X.shape[0])\n",
    "        for i in range(X.shape[0]):\n",
    "            B_opt[i] = B[i].varValue\n",
    "        for j in range(X.shape[1]):\n",
    "            A_opt[j] = A[j].varValue\n",
    "        X_opt = np.array([np.dot(X[i], A_opt) for i in range(X.shape[0])], dtype=np.float32)\n",
    "        return A_opt, X_opt, B_opt\n",
    "    else:\n",
    "        return None"
   ]
  },
  {
   "cell_type": "code",
   "execution_count": 6,
   "metadata": {},
   "outputs": [
    {
     "name": "stdout",
     "output_type": "stream",
     "text": [
      "[  1.5  17.5]\n",
      "[  28.   38.   84.   95.  105.  413.]\n",
      "[   0.   33.   79.   90.  100.  408.]\n"
     ]
    }
   ],
   "source": [
    "a, X, b = random_params_to_fit_constraints(z)\n",
    "print(a)  # <a,z> = x\n",
    "print(X)  # Transformed to R1\n",
    "print(b)  # Bias"
   ]
  },
  {
   "cell_type": "code",
   "execution_count": 7,
   "metadata": {},
   "outputs": [
    {
     "data": {
      "text/plain": [
       "array([[  28.,    0.,    0.,    0.,    0.,    0.],\n",
       "       [  38.,    5.,    0.,    0.,    0.,    0.],\n",
       "       [  84.,   51.,    5.,    0.,    0.,    0.],\n",
       "       [  95.,   62.,   16.,    5.,    0.,    0.],\n",
       "       [ 105.,   72.,   26.,   15.,    5.,    0.],\n",
       "       [ 413.,  380.,  334.,  323.,  313.,    5.]])"
      ]
     },
     "execution_count": 7,
     "metadata": {},
     "output_type": "execute_result"
    }
   ],
   "source": [
    "# Constructed nxn matrix\n",
    "A = np.transpose(np.ones((len(X), len(X)))*X) + np.ones((len(X), len(X)))*-b\n",
    "A[A<0] = 0\n",
    "A"
   ]
  },
  {
   "cell_type": "code",
   "execution_count": 8,
   "metadata": {},
   "outputs": [
    {
     "data": {
      "text/plain": [
       "array([  4.25031618e-02,  -1.44632025e-01,   9.27339928e-01,\n",
       "        -1.77706396e+00,   1.75056819e+00,  -4.90650696e+01])"
      ]
     },
     "execution_count": 8,
     "metadata": {},
     "output_type": "execute_result"
    }
   ],
   "source": [
    "# Weights matrix\n",
    "w = np.linalg.solve(A, y) \n",
    "w"
   ]
  },
  {
   "cell_type": "code",
   "execution_count": 9,
   "metadata": {},
   "outputs": [
    {
     "data": {
      "text/plain": [
       "True"
      ]
     },
     "execution_count": 9,
     "metadata": {},
     "output_type": "execute_result"
    }
   ],
   "source": [
    "np.allclose(np.dot(A, w), y)"
   ]
  },
  {
   "cell_type": "code",
   "execution_count": 10,
   "metadata": {},
   "outputs": [
    {
     "data": {
      "text/plain": [
       "(1.1900885316571825, 1.1900885316571761)"
      ]
     },
     "execution_count": 10,
     "metadata": {},
     "output_type": "execute_result"
    }
   ],
   "source": [
    "# E.g, y1\n",
    "w[0]*(X[0]-b[0]), y[0]"
   ]
  },
  {
   "cell_type": "code",
   "execution_count": 11,
   "metadata": {},
   "outputs": [
    {
     "data": {
      "text/plain": [
       "(0.89196002432805221, 0.89196002432805166)"
      ]
     },
     "execution_count": 11,
     "metadata": {},
     "output_type": "execute_result"
    }
   ],
   "source": [
    "# E.g, y2\n",
    "(w[0]*(X[1]-b[0]))+(w[1]*(X[1]-b[1])), y[1]"
   ]
  },
  {
   "cell_type": "code",
   "execution_count": 12,
   "metadata": {},
   "outputs": [
    {
     "name": "stdout",
     "output_type": "stream",
     "text": [
      "2n + d = 14\n",
      "14\n"
     ]
    }
   ],
   "source": [
    "# Parameters:\n",
    "print(\"2n + d = {}\".format(z.shape[0]*2 + z.shape[1]))\n",
    "print(len(w) + len(b) + len(a))"
   ]
  }
 ],
 "metadata": {
  "kernelspec": {
   "display_name": "Python [conda root]",
   "language": "python",
   "name": "conda-root-py"
  },
  "language_info": {
   "codemirror_mode": {
    "name": "ipython",
    "version": 3
   },
   "file_extension": ".py",
   "mimetype": "text/x-python",
   "name": "python",
   "nbconvert_exporter": "python",
   "pygments_lexer": "ipython3",
   "version": "3.5.2"
  }
 },
 "nbformat": 4,
 "nbformat_minor": 2
}
