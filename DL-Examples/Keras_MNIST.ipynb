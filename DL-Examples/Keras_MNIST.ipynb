{
 "cells": [
  {
   "cell_type": "markdown",
   "metadata": {},
   "source": [
    "# High-level Keras (CNTK) MNIST Example"
   ]
  },
  {
   "cell_type": "code",
   "execution_count": 1,
   "metadata": {},
   "outputs": [
    {
     "name": "stderr",
     "output_type": "stream",
     "text": [
      "Using CNTK backend\n"
     ]
    }
   ],
   "source": [
    "import os\n",
    "import sys\n",
    "import numpy as np\n",
    "import keras as K\n",
    "from keras.models import Sequential\n",
    "from keras.layers import Dense, Dropout, Flatten\n",
    "from keras.layers import Conv2D, MaxPooling2D\n",
    "from keras.datasets import mnist  # Only to import MNIST data"
   ]
  },
  {
   "cell_type": "code",
   "execution_count": 5,
   "metadata": {},
   "outputs": [
    {
     "name": "stdout",
     "output_type": "stream",
     "text": [
      "2.0.4\n",
      "1.12.1\n",
      "channels_last\n"
     ]
    }
   ],
   "source": [
    "print(K.__version__)\n",
    "print(np.__version__)\n",
    "print(K.backend.image_data_format())"
   ]
  },
  {
   "cell_type": "code",
   "execution_count": 6,
   "metadata": {},
   "outputs": [
    {
     "name": "stdout",
     "output_type": "stream",
     "text": [
      "(60000, 28, 28, 1)\n",
      "(10000, 28, 28, 1)\n",
      "float32\n",
      "int32\n"
     ]
    }
   ],
   "source": [
    "(x_train, y_train), (x_test, y_test) = mnist.load_data()\n",
    "\n",
    "x_train = np.array(x_train, dtype=np.float32) / 256\n",
    "x_test = np.array(x_test, dtype=np.float32) / 256\n",
    "y_train = np.array(y_train, dtype=np.int32)\n",
    "y_test = np.array(y_test, dtype=np.int32)\n",
    "# Reshape to [N, H, W, C]\n",
    "x_train = np.expand_dims(x_train, axis=4)\n",
    "x_test = np.expand_dims(x_test, axis=4)\n",
    "print(x_train.shape)\n",
    "print(x_test.shape)\n",
    "print(x_train.dtype)\n",
    "print(y_train.dtype)"
   ]
  },
  {
   "cell_type": "code",
   "execution_count": 7,
   "metadata": {
    "collapsed": true
   },
   "outputs": [],
   "source": [
    "# Hyperparams\n",
    "epochs = 12\n",
    "batchsize = 32\n",
    "lr = 0.01\n",
    "momentum = 0.9\n",
    "n_classes = 10"
   ]
  },
  {
   "cell_type": "code",
   "execution_count": 8,
   "metadata": {},
   "outputs": [],
   "source": [
    "def create_lenet():\n",
    "    model = Sequential()\n",
    "    model.add(Conv2D(20, kernel_size=(5, 5), activation='tanh', input_shape=(28, 28, 1)))\n",
    "    model.add(MaxPooling2D(pool_size=(2, 2), strides=(2, 2)))\n",
    "    \n",
    "    model.add(Conv2D(50, (5, 5), activation='tanh'))\n",
    "    model.add(MaxPooling2D(pool_size=(2, 2), strides=(2, 2)))\n",
    "    \n",
    "    model.add(Flatten()\n",
    "             )\n",
    "    model.add(Dense(500, activation='relu'))\n",
    "    \n",
    "    model.add(Dense(n_classes, activation='softmax'))\n",
    "    return model"
   ]
  },
  {
   "cell_type": "code",
   "execution_count": 9,
   "metadata": {},
   "outputs": [],
   "source": [
    "y_train = K.utils.np_utils.to_categorical(y_train, n_classes)\n",
    "y_test = K.utils.to_categorical(y_test, n_classes)"
   ]
  },
  {
   "cell_type": "code",
   "execution_count": 10,
   "metadata": {},
   "outputs": [],
   "source": [
    "model = create_lenet()\n",
    "model.compile(\n",
    "    loss=K.losses.categorical_crossentropy,\n",
    "    optimizer=K.optimizers.SGD(\n",
    "        lr=lr, \n",
    "        momentum=momentum\n",
    "    ),\n",
    "    metrics=['accuracy']\n",
    ")"
   ]
  },
  {
   "cell_type": "code",
   "execution_count": 11,
   "metadata": {},
   "outputs": [
    {
     "name": "stdout",
     "output_type": "stream",
     "text": [
      "Epoch 1/12\n",
      "  544/60000 [..............................] - ETA: 120s - loss: 2.2318 - acc: 0.2592"
     ]
    },
    {
     "name": "stderr",
     "output_type": "stream",
     "text": [
      "/anaconda/envs/cntk/lib/python3.5/site-packages/cntk/core.py:351: UserWarning: your data is of type \"float64\", but your input variable (uid \"Input117\") expects \"<class 'numpy.float32'>\". Please convert your data beforehand to speed up training.\n",
      "  (sample.dtype, var.uid, str(var.dtype)))\n"
     ]
    },
    {
     "name": "stdout",
     "output_type": "stream",
     "text": [
      "60000/60000 [==============================] - 16s - loss: 0.1553 - acc: 0.9528    \n",
      "Epoch 2/12\n",
      "60000/60000 [==============================] - 15s - loss: 0.0442 - acc: 0.9861    \n",
      "Epoch 3/12\n",
      "60000/60000 [==============================] - 15s - loss: 0.0276 - acc: 0.9917    \n",
      "Epoch 4/12\n",
      "60000/60000 [==============================] - 15s - loss: 0.0186 - acc: 0.9944    \n",
      "Epoch 5/12\n",
      "60000/60000 [==============================] - 15s - loss: 0.0130 - acc: 0.9958    \n",
      "Epoch 6/12\n",
      "60000/60000 [==============================] - 15s - loss: 0.0083 - acc: 0.9975    \n",
      "Epoch 7/12\n",
      "60000/60000 [==============================] - 15s - loss: 0.0054 - acc: 0.9987    \n",
      "Epoch 8/12\n",
      "60000/60000 [==============================] - 15s - loss: 0.0039 - acc: 0.9992    \n",
      "Epoch 9/12\n",
      "60000/60000 [==============================] - 15s - loss: 0.0027 - acc: 0.9995    \n",
      "Epoch 10/12\n",
      "60000/60000 [==============================] - 15s - loss: 0.0017 - acc: 0.9997    \n",
      "Epoch 11/12\n",
      "60000/60000 [==============================] - 15s - loss: 0.0013 - acc: 0.9998    \n",
      "Epoch 12/12\n",
      "60000/60000 [==============================] - 15s - loss: 8.8915e-04 - acc: 0.9999    \n",
      "CPU times: user 2min 47s, sys: 21.8 s, total: 3min 9s\n",
      "Wall time: 3min 11s\n"
     ]
    },
    {
     "data": {
      "text/plain": [
       "<keras.callbacks.History at 0x7f6c75ff0d68>"
      ]
     },
     "execution_count": 11,
     "metadata": {},
     "output_type": "execute_result"
    }
   ],
   "source": [
    "%%time\n",
    "\n",
    "# Train\n",
    "model.fit(x_train,\n",
    "          y_train,\n",
    "          batch_size=batchsize,\n",
    "          epochs=epochs,\n",
    "          verbose=1)"
   ]
  },
  {
   "cell_type": "code",
   "execution_count": 13,
   "metadata": {},
   "outputs": [
    {
     "name": "stderr",
     "output_type": "stream",
     "text": [
      "/anaconda/envs/cntk/lib/python3.5/site-packages/cntk/core.py:351: UserWarning: your data is of type \"float64\", but your input variable (uid \"Input117\") expects \"<class 'numpy.float32'>\". Please convert your data beforehand to speed up training.\n",
      "  (sample.dtype, var.uid, str(var.dtype)))\n"
     ]
    },
    {
     "name": "stdout",
     "output_type": "stream",
     "text": [
      "Accuracy  0.9927\n"
     ]
    }
   ],
   "source": [
    "# Test model\n",
    "acc = model.evaluate(x_test, y_test, verbose=0)\n",
    "print(\"Accuracy \", acc[-1])"
   ]
  }
 ],
 "metadata": {
  "anaconda-cloud": {},
  "kernelspec": {
   "display_name": "Python [conda env:cntk]",
   "language": "python",
   "name": "conda-env-cntk-py"
  },
  "language_info": {
   "codemirror_mode": {
    "name": "ipython",
    "version": 3
   },
   "file_extension": ".py",
   "mimetype": "text/x-python",
   "name": "python",
   "nbconvert_exporter": "python",
   "pygments_lexer": "ipython3",
   "version": "3.5.3"
  }
 },
 "nbformat": 4,
 "nbformat_minor": 2
}
