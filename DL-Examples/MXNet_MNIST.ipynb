{
 "cells": [
  {
   "cell_type": "markdown",
   "metadata": {},
   "source": [
    "# High-level MXNet MNIST Example"
   ]
  },
  {
   "cell_type": "code",
   "execution_count": 1,
   "metadata": {},
   "outputs": [
    {
     "name": "stderr",
     "output_type": "stream",
     "text": [
      "Using CNTK backend\n",
      "/anaconda/envs/cntk/lib/python3.5/site-packages/cntk/default_options.py:83: DeprecationWarning: inspect.getargspec() is deprecated, use inspect.signature() instead\n",
      "  args, _, _, _ = getargspec(function_or_class) if isfunction(function_or_class) else getargspec(function_or_class.__init__)\n",
      "/anaconda/envs/cntk/lib/python3.5/site-packages/keras/legacy/interfaces.py:89: DeprecationWarning: inspect.getargspec() is deprecated, use inspect.signature() instead\n",
      "  wrapper._legacy_support_signature = inspect.getargspec(func)\n"
     ]
    }
   ],
   "source": [
    "import os\n",
    "import sys\n",
    "import numpy as np\n",
    "import mxnet as mx\n",
    "from keras.datasets import mnist  # Only to import MNIST data"
   ]
  },
  {
   "cell_type": "code",
   "execution_count": 2,
   "metadata": {},
   "outputs": [
    {
     "name": "stdout",
     "output_type": "stream",
     "text": [
      "0.10.0\n",
      "1.12.1\n"
     ]
    }
   ],
   "source": [
    "print(mx.__version__)\n",
    "print(np.__version__)"
   ]
  },
  {
   "cell_type": "code",
   "execution_count": 3,
   "metadata": {},
   "outputs": [
    {
     "name": "stdout",
     "output_type": "stream",
     "text": [
      "(60000, 1, 28, 28)\n",
      "(10000, 1, 28, 28)\n",
      "float32\n",
      "int32\n"
     ]
    }
   ],
   "source": [
    "(x_train, y_train), (x_test, y_test) = mnist.load_data()\n",
    "# Cast to caffe2 compatible\n",
    "x_train = np.array(x_train, dtype=np.float32) / 256\n",
    "x_test = np.array(x_test, dtype=np.float32) / 256\n",
    "y_train = np.array(y_train, dtype=np.int32)\n",
    "y_test = np.array(y_test, dtype=np.int32)\n",
    "# Reshape to [N, C, H, W]\n",
    "x_train = np.expand_dims(x_train, axis=1)\n",
    "x_test = np.expand_dims(x_test, axis=1)\n",
    "print(x_train.shape)\n",
    "print(x_test.shape)\n",
    "print(x_train.dtype)\n",
    "print(y_train.dtype)"
   ]
  },
  {
   "cell_type": "code",
   "execution_count": 4,
   "metadata": {
    "collapsed": true
   },
   "outputs": [],
   "source": [
    "# Hyperparams\n",
    "ctx = [mx.gpu(0)]\n",
    "epochs = 12\n",
    "batchsize = 32\n",
    "lr = 0.01\n",
    "momentum = 0.9\n",
    "n_classes = 10"
   ]
  },
  {
   "cell_type": "code",
   "execution_count": 5,
   "metadata": {
    "collapsed": true
   },
   "outputs": [],
   "source": [
    "def create_lenet():\n",
    "    # create symbolic representation\n",
    "    data = mx.symbol.Variable('data')\n",
    "    input_y = mx.symbol.Variable('softmax_label')  # placeholder for output\n",
    "\n",
    "    conv1 = mx.symbol.Convolution(\n",
    "        data=data, kernel=(5,5), num_filter=20)\n",
    "    tanh1 = mx.symbol.Activation(\n",
    "        data=conv1, act_type=\"tanh\")\n",
    "    pool1 = mx.symbol.Pooling(\n",
    "        data=tanh1, pool_type=\"max\", kernel=(2,2), stride=(2,2))\n",
    "\n",
    "    conv2 = mx.symbol.Convolution(\n",
    "        data=pool1, kernel=(5,5), num_filter=50)\n",
    "    tanh2 = mx.symbol.Activation(\n",
    "        data=conv2, act_type=\"tanh\")\n",
    "    pool2 = mx.symbol.Pooling(\n",
    "        data=tanh2, pool_type=\"max\", kernel=(2,2), stride=(2,2)) \n",
    "\n",
    "    flatten = mx.symbol.Flatten(\n",
    "        data=pool2)\n",
    "    \n",
    "    fc1 = mx.symbol.FullyConnected(\n",
    "        data=flatten, num_hidden=500) \n",
    "    tanh3 = mx.symbol.Activation(\n",
    "        data=fc1, act_type=\"tanh\")\n",
    "\n",
    "    fc2 = mx.symbol.FullyConnected(\n",
    "        data=tanh3, num_hidden=n_classes) \n",
    "\n",
    "    lenet = mx.symbol.SoftmaxOutput(\n",
    "        data=fc2, label=input_y, name=\"softmax\")\n",
    "    return lenet"
   ]
  },
  {
   "cell_type": "code",
   "execution_count": 6,
   "metadata": {},
   "outputs": [],
   "source": [
    "train_iter = mx.io.NDArrayIter(x_train, y_train, batch_size=batchsize, shuffle=True)"
   ]
  },
  {
   "cell_type": "code",
   "execution_count": 7,
   "metadata": {},
   "outputs": [],
   "source": [
    "model =  mx.mod.Module(context = ctx, symbol = create_lenet())"
   ]
  },
  {
   "cell_type": "code",
   "execution_count": 8,
   "metadata": {},
   "outputs": [
    {
     "name": "stdout",
     "output_type": "stream",
     "text": [
      "CPU times: user 2min 24s, sys: 18.3 s, total: 2min 42s\n",
      "Wall time: 2min 20s\n"
     ]
    }
   ],
   "source": [
    "%%time\n",
    "\n",
    "# Train\n",
    "model.fit(\n",
    "    train_iter,\n",
    "    optimizer='sgd',\n",
    "    optimizer_params={'learning_rate':lr,\n",
    "                      'momentum':momentum},\n",
    "    eval_metric='acc',\n",
    "    batch_end_callback = mx.callback.Speedometer(batchsize, 100), \n",
    "    num_epoch=epochs\n",
    ") "
   ]
  },
  {
   "cell_type": "code",
   "execution_count": 11,
   "metadata": {},
   "outputs": [
    {
     "name": "stdout",
     "output_type": "stream",
     "text": [
      "Accuracy  EvalMetric: {'accuracy': 0.9906150159744409}\n"
     ]
    }
   ],
   "source": [
    "# Test model\n",
    "test_iter = mx.io.NDArrayIter(x_test, y_test, batch_size=batchsize)\n",
    "# predict accuracy for lenet\n",
    "acc = mx.metric.Accuracy()\n",
    "model.score(test_iter, acc)\n",
    "print(\"Accuracy \", acc)"
   ]
  }
 ],
 "metadata": {
  "anaconda-cloud": {},
  "kernelspec": {
   "display_name": "Python [conda env:cntk]",
   "language": "python",
   "name": "conda-env-cntk-py"
  },
  "language_info": {
   "codemirror_mode": {
    "name": "ipython",
    "version": 3
   },
   "file_extension": ".py",
   "mimetype": "text/x-python",
   "name": "python",
   "nbconvert_exporter": "python",
   "pygments_lexer": "ipython3",
   "version": "3.5.3"
  }
 },
 "nbformat": 4,
 "nbformat_minor": 2
}
