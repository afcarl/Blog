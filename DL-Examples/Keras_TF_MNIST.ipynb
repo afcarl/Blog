{
 "cells": [
  {
   "cell_type": "markdown",
   "metadata": {},
   "source": [
    "# High-level Keras (TF) MNIST Example"
   ]
  },
  {
   "cell_type": "code",
   "execution_count": 1,
   "metadata": {},
   "outputs": [
    {
     "name": "stderr",
     "output_type": "stream",
     "text": [
      "Using TensorFlow backend.\n"
     ]
    }
   ],
   "source": [
    "import os\n",
    "import sys\n",
    "import numpy as np\n",
    "os.environ['KERAS_BACKEND'] = \"tensorflow\"\n",
    "import keras as K\n",
    "from keras.models import Sequential\n",
    "from keras.layers import Dense, Dropout, Flatten\n",
    "from keras.layers import Conv2D, MaxPooling2D\n",
    "from common.params import *\n",
    "from common.utils import *"
   ]
  },
  {
   "cell_type": "code",
   "execution_count": 2,
   "metadata": {},
   "outputs": [
    {
     "name": "stdout",
     "output_type": "stream",
     "text": [
      "2.0.6\n",
      "1.13.1\n",
      "tensorflow\n",
      "channels_last\n"
     ]
    }
   ],
   "source": [
    "print(K.__version__)\n",
    "print(np.__version__)\n",
    "print(K.backend.backend())\n",
    "print(K.backend.image_data_format())"
   ]
  },
  {
   "cell_type": "code",
   "execution_count": 3,
   "metadata": {
    "collapsed": true
   },
   "outputs": [],
   "source": [
    "def create_lenet():\n",
    "    model = Sequential()\n",
    "    model.add(Conv2D(20, kernel_size=(5, 5), activation='tanh', input_shape=(28, 28, 1)))\n",
    "    model.add(MaxPooling2D(pool_size=(2, 2), strides=(2, 2)))\n",
    "    model.add(Conv2D(50, (5, 5), activation='tanh'))\n",
    "    model.add(MaxPooling2D(pool_size=(2, 2), strides=(2, 2)))\n",
    "    model.add(Flatten())\n",
    "    model.add(Dense(500, activation='tanh'))\n",
    "    model.add(Dense(N_CLASSES, activation='softmax'))\n",
    "    return model"
   ]
  },
  {
   "cell_type": "code",
   "execution_count": 4,
   "metadata": {
    "collapsed": true
   },
   "outputs": [],
   "source": [
    "def init_model():\n",
    "    model = create_lenet()\n",
    "    model.compile(loss = \"categorical_crossentropy\",\n",
    "                  optimizer = K.optimizers.SGD(lr=LR, momentum=MOMENTUM, decay=0.0, nesterov=False),\n",
    "                  metrics = ['accuracy'])\n",
    "    return model"
   ]
  },
  {
   "cell_type": "code",
   "execution_count": 5,
   "metadata": {},
   "outputs": [
    {
     "name": "stdout",
     "output_type": "stream",
     "text": [
      "CPU times: user 216 ms, sys: 200 ms, total: 416 ms\n",
      "Wall time: 417 ms\n"
     ]
    }
   ],
   "source": [
    "%%time\n",
    "# Data into format for library\n",
    "x_train, x_test, y_train, y_test = mnist_for_library(channel_first=False, one_hot=True)"
   ]
  },
  {
   "cell_type": "code",
   "execution_count": 6,
   "metadata": {},
   "outputs": [
    {
     "name": "stdout",
     "output_type": "stream",
     "text": [
      "CPU times: user 68 ms, sys: 4 ms, total: 72 ms\n",
      "Wall time: 69.2 ms\n"
     ]
    }
   ],
   "source": [
    "%%time\n",
    "# Initialise model\n",
    "model = init_model()"
   ]
  },
  {
   "cell_type": "code",
   "execution_count": 7,
   "metadata": {},
   "outputs": [
    {
     "name": "stdout",
     "output_type": "stream",
     "text": [
      "Epoch 1/12\n",
      "60000/60000 [==============================] - 15s - loss: 0.1511 - acc: 0.9535    \n",
      "Epoch 2/12\n",
      "60000/60000 [==============================] - 13s - loss: 0.0479 - acc: 0.9848    \n",
      "Epoch 3/12\n",
      "60000/60000 [==============================] - 13s - loss: 0.0302 - acc: 0.9904    \n",
      "Epoch 4/12\n",
      "60000/60000 [==============================] - 13s - loss: 0.0209 - acc: 0.9933    \n",
      "Epoch 5/12\n",
      "60000/60000 [==============================] - 13s - loss: 0.0147 - acc: 0.9957    \n",
      "Epoch 6/12\n",
      "60000/60000 [==============================] - 13s - loss: 0.0097 - acc: 0.9976    \n",
      "Epoch 7/12\n",
      "60000/60000 [==============================] - 13s - loss: 0.0066 - acc: 0.9986    \n",
      "Epoch 8/12\n",
      "60000/60000 [==============================] - 13s - loss: 0.0048 - acc: 0.9991    \n",
      "Epoch 9/12\n",
      "60000/60000 [==============================] - 13s - loss: 0.0037 - acc: 0.9993    \n",
      "Epoch 10/12\n",
      "60000/60000 [==============================] - 13s - loss: 0.0027 - acc: 0.9996    \n",
      "Epoch 11/12\n",
      "60000/60000 [==============================] - 13s - loss: 0.0022 - acc: 0.9997    \n",
      "Epoch 12/12\n",
      "60000/60000 [==============================] - 13s - loss: 0.0017 - acc: 0.9998    \n",
      "CPU times: user 2min 16s, sys: 38.9 s, total: 2min 55s\n",
      "Wall time: 2min 43s\n"
     ]
    },
    {
     "data": {
      "text/plain": [
       "<keras.callbacks.History at 0x7fa9ee4e1f28>"
      ]
     },
     "execution_count": 7,
     "metadata": {},
     "output_type": "execute_result"
    }
   ],
   "source": [
    "%%time\n",
    "# Train model\n",
    "model.fit(x_train,\n",
    "          y_train,\n",
    "          batch_size=BATCHSIZE,\n",
    "          epochs=EPOCHS,\n",
    "          verbose=1)"
   ]
  },
  {
   "cell_type": "code",
   "execution_count": 8,
   "metadata": {},
   "outputs": [
    {
     "name": "stdout",
     "output_type": "stream",
     "text": [
      "Accuracy  0.9902\n",
      "CPU times: user 1.01 s, sys: 328 ms, total: 1.34 s\n",
      "Wall time: 1.1 s\n"
     ]
    }
   ],
   "source": [
    "%%time\n",
    "# Test model\n",
    "acc = model.evaluate(x_test, y_test, verbose=0)\n",
    "print(\"Accuracy \", acc[-1])"
   ]
  }
 ],
 "metadata": {
  "anaconda-cloud": {},
  "kernelspec": {
   "display_name": "Python [conda env:cntk]",
   "language": "python",
   "name": "conda-env-cntk-py"
  },
  "language_info": {
   "codemirror_mode": {
    "name": "ipython",
    "version": 3
   },
   "file_extension": ".py",
   "mimetype": "text/x-python",
   "name": "python",
   "nbconvert_exporter": "python",
   "pygments_lexer": "ipython3",
   "version": "3.5.3"
  }
 },
 "nbformat": 4,
 "nbformat_minor": 2
}
