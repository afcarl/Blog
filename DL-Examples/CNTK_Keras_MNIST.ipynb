{
 "cells": [
  {
   "cell_type": "markdown",
   "metadata": {},
   "source": [
    "# High-level Keras (CNTK) MNIST Example"
   ]
  },
  {
   "cell_type": "code",
   "execution_count": 1,
   "metadata": {},
   "outputs": [
    {
     "name": "stderr",
     "output_type": "stream",
     "text": [
      "Using CNTK backend\n"
     ]
    }
   ],
   "source": [
    "import os\n",
    "import sys\n",
    "import numpy as np\n",
    "import keras as K\n",
    "from keras.models import Sequential\n",
    "from keras.layers import Dense, Dropout, Flatten\n",
    "from keras.layers import Conv2D, MaxPooling2D\n",
    "from common.params import *\n",
    "from common.utils import *"
   ]
  },
  {
   "cell_type": "code",
   "execution_count": 2,
   "metadata": {},
   "outputs": [
    {
     "name": "stdout",
     "output_type": "stream",
     "text": [
      "2.0.6\n",
      "1.13.1\n",
      "cntk\n",
      "channels_last\n"
     ]
    }
   ],
   "source": [
    "print(K.__version__)\n",
    "print(np.__version__)\n",
    "print(K.backend.backend())\n",
    "print(K.backend.image_data_format())"
   ]
  },
  {
   "cell_type": "code",
   "execution_count": 3,
   "metadata": {
    "collapsed": true
   },
   "outputs": [],
   "source": [
    "def create_lenet():\n",
    "    model = Sequential()\n",
    "    model.add(Conv2D(20, kernel_size=(5, 5), activation='tanh', input_shape=(28, 28, 1)))\n",
    "    model.add(MaxPooling2D(pool_size=(2, 2), strides=(2, 2)))\n",
    "    model.add(Conv2D(50, (5, 5), activation='tanh'))\n",
    "    model.add(MaxPooling2D(pool_size=(2, 2), strides=(2, 2)))\n",
    "    model.add(Flatten())\n",
    "    model.add(Dense(500, activation='tanh'))\n",
    "    model.add(Dense(N_CLASSES, activation='softmax'))\n",
    "    return model"
   ]
  },
  {
   "cell_type": "code",
   "execution_count": 4,
   "metadata": {
    "collapsed": true
   },
   "outputs": [],
   "source": [
    "def init_model():\n",
    "    model = create_lenet()\n",
    "    model.compile(loss = \"categorical_crossentropy\",\n",
    "                  optimizer = K.optimizers.SGD(lr=LR, momentum=MOMENTUM, decay=0.0, nesterov=False),\n",
    "                  metrics = ['accuracy'])\n",
    "    return model"
   ]
  },
  {
   "cell_type": "code",
   "execution_count": 5,
   "metadata": {},
   "outputs": [
    {
     "name": "stdout",
     "output_type": "stream",
     "text": [
      "CPU times: user 272 ms, sys: 168 ms, total: 440 ms\n",
      "Wall time: 440 ms\n"
     ]
    }
   ],
   "source": [
    "%%time\n",
    "# Data into format for library\n",
    "x_train, x_test, y_train, y_test = mnist_for_library(channel_first=False, one_hot=True)"
   ]
  },
  {
   "cell_type": "code",
   "execution_count": 6,
   "metadata": {},
   "outputs": [
    {
     "name": "stdout",
     "output_type": "stream",
     "text": [
      "CPU times: user 136 ms, sys: 352 ms, total: 488 ms\n",
      "Wall time: 517 ms\n"
     ]
    }
   ],
   "source": [
    "%%time\n",
    "# Initialise model\n",
    "model = init_model()"
   ]
  },
  {
   "cell_type": "code",
   "execution_count": 7,
   "metadata": {},
   "outputs": [
    {
     "name": "stdout",
     "output_type": "stream",
     "text": [
      "Epoch 1/12\n",
      "60000/60000 [==============================] - 16s - loss: 0.1532 - acc: 0.9521    \n",
      "Epoch 2/12\n",
      "60000/60000 [==============================] - 16s - loss: 0.0484 - acc: 0.9847    \n",
      "Epoch 3/12\n",
      "60000/60000 [==============================] - 16s - loss: 0.0317 - acc: 0.9906    \n",
      "Epoch 4/12\n",
      "60000/60000 [==============================] - 16s - loss: 0.0217 - acc: 0.9930    \n",
      "Epoch 5/12\n",
      "60000/60000 [==============================] - 16s - loss: 0.0161 - acc: 0.9954    \n",
      "Epoch 6/12\n",
      "60000/60000 [==============================] - 16s - loss: 0.0107 - acc: 0.9969    \n",
      "Epoch 7/12\n",
      "60000/60000 [==============================] - 16s - loss: 0.0074 - acc: 0.9982    \n",
      "Epoch 8/12\n",
      "60000/60000 [==============================] - 16s - loss: 0.0053 - acc: 0.9988    \n",
      "Epoch 9/12\n",
      "60000/60000 [==============================] - 16s - loss: 0.0041 - acc: 0.9992    \n",
      "Epoch 10/12\n",
      "60000/60000 [==============================] - 16s - loss: 0.0030 - acc: 0.9995    \n",
      "Epoch 11/12\n",
      "60000/60000 [==============================] - 16s - loss: 0.0020 - acc: 0.9998    \n",
      "Epoch 12/12\n",
      "60000/60000 [==============================] - 16s - loss: 0.0017 - acc: 0.9999    \n",
      "CPU times: user 2min 47s, sys: 24.3 s, total: 3min 12s\n",
      "Wall time: 3min 14s\n"
     ]
    },
    {
     "data": {
      "text/plain": [
       "<keras.callbacks.History at 0x7fbde0874dd8>"
      ]
     },
     "execution_count": 7,
     "metadata": {},
     "output_type": "execute_result"
    }
   ],
   "source": [
    "%%time\n",
    "# Train model\n",
    "model.fit(x_train,\n",
    "          y_train,\n",
    "          batch_size=BATCHSIZE,\n",
    "          epochs=EPOCHS,\n",
    "          verbose=1)"
   ]
  },
  {
   "cell_type": "code",
   "execution_count": 8,
   "metadata": {},
   "outputs": [
    {
     "name": "stdout",
     "output_type": "stream",
     "text": [
      "Accuracy  0.9897\n",
      "CPU times: user 820 ms, sys: 96 ms, total: 916 ms\n",
      "Wall time: 928 ms\n"
     ]
    }
   ],
   "source": [
    "%%time\n",
    "# Test model\n",
    "acc = model.evaluate(x_test, y_test, verbose=0)\n",
    "print(\"Accuracy \", acc[-1])"
   ]
  }
 ],
 "metadata": {
  "anaconda-cloud": {},
  "kernelspec": {
   "display_name": "Python [conda env:cntk]",
   "language": "python",
   "name": "conda-env-cntk-py"
  },
  "language_info": {
   "codemirror_mode": {
    "name": "ipython",
    "version": 3
   },
   "file_extension": ".py",
   "mimetype": "text/x-python",
   "name": "python",
   "nbconvert_exporter": "python",
   "pygments_lexer": "ipython3",
   "version": "3.5.3"
  }
 },
 "nbformat": 4,
 "nbformat_minor": 2
}
