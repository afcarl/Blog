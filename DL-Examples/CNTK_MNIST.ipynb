{
 "cells": [
  {
   "cell_type": "markdown",
   "metadata": {},
   "source": [
    "# High-level CNTK MNIST Example"
   ]
  },
  {
   "cell_type": "code",
   "execution_count": 1,
   "metadata": {},
   "outputs": [],
   "source": [
    "import numpy as np\n",
    "import os\n",
    "import cntk\n",
    "from cntk.layers import Convolution2D, MaxPooling, Dense\n",
    "from common.params import *\n",
    "from common.utils import *"
   ]
  },
  {
   "cell_type": "code",
   "execution_count": 2,
   "metadata": {},
   "outputs": [
    {
     "name": "stdout",
     "output_type": "stream",
     "text": [
      "1.13.1\n",
      "2.0\n"
     ]
    }
   ],
   "source": [
    "print(np.__version__)\n",
    "print(cntk.__version__)"
   ]
  },
  {
   "cell_type": "code",
   "execution_count": 3,
   "metadata": {},
   "outputs": [],
   "source": [
    "def create_model():\n",
    "    # I need to fix all init distributions!!!!\n",
    "    with cntk.layers.default_options(init = cntk.glorot_uniform(), activation = cntk.tanh):\n",
    "        x = Convolution2D((5,5), 30)(features)\n",
    "        x = MaxPooling((2,2), strides=(2,2), pad=False)(x)\n",
    "        x = Convolution2D((5,5), 50)(x)\n",
    "        x = MaxPooling((2,2), strides=(2,2), pad=False)(x)\n",
    "        x = Dense(500)(x)\n",
    "        x = Dense(N_CLASSES, activation=None)(x)\n",
    "        return x"
   ]
  },
  {
   "cell_type": "code",
   "execution_count": 4,
   "metadata": {
    "collapsed": true
   },
   "outputs": [],
   "source": [
    "def init_model(m):\n",
    "    # Loss\n",
    "    loss = cntk.cross_entropy_with_softmax(m, labels)\n",
    "    # Classification error\n",
    "    label_error = cntk.classification_error(m, labels)\n",
    "    # Init trainer object\n",
    "    lr_schedule = cntk.learning_rate_schedule(LR, cntk.UnitType.minibatch) \n",
    "    # Where can I say no wd and no nesterov; where is momentum\n",
    "    learner = cntk.sgd(m.parameters, lr_schedule)\n",
    "    trainer = cntk.Trainer(m, (loss, label_error), [learner])\n",
    "    return trainer"
   ]
  },
  {
   "cell_type": "code",
   "execution_count": 5,
   "metadata": {},
   "outputs": [
    {
     "name": "stdout",
     "output_type": "stream",
     "text": [
      "CPU times: user 212 ms, sys: 216 ms, total: 428 ms\n",
      "Wall time: 427 ms\n"
     ]
    }
   ],
   "source": [
    "%%time\n",
    "# Data into format for library\n",
    "x_train, x_test, y_train, y_test = mnist_for_library(channel_first=True, one_hot=True)\n",
    "y_train = y_train.astype(np.float32)\n",
    "y_test = y_test.astype(np.float32)"
   ]
  },
  {
   "cell_type": "code",
   "execution_count": 6,
   "metadata": {
    "collapsed": true
   },
   "outputs": [],
   "source": [
    "# Placeholders\n",
    "features = cntk.input_variable((1, 28, 28), np.float32)\n",
    "labels = cntk.input_variable(N_CLASSES, np.float32)"
   ]
  },
  {
   "cell_type": "code",
   "execution_count": 7,
   "metadata": {},
   "outputs": [
    {
     "name": "stdout",
     "output_type": "stream",
     "text": [
      "CPU times: user 8 ms, sys: 52 ms, total: 60 ms\n",
      "Wall time: 60.9 ms\n"
     ]
    }
   ],
   "source": [
    "%%time\n",
    "# Initialise model\n",
    "output = create_model()"
   ]
  },
  {
   "cell_type": "code",
   "execution_count": 8,
   "metadata": {},
   "outputs": [
    {
     "name": "stdout",
     "output_type": "stream",
     "text": [
      "CPU times: user 24 ms, sys: 160 ms, total: 184 ms\n",
      "Wall time: 196 ms\n"
     ]
    }
   ],
   "source": [
    "%%time\n",
    "trainer = init_model(output)"
   ]
  },
  {
   "cell_type": "code",
   "execution_count": 9,
   "metadata": {},
   "outputs": [
    {
     "name": "stdout",
     "output_type": "stream",
     "text": [
      "Epoch 1  |  Loss: 0.211584  |  Error: 0.093750\n",
      "Epoch 2  |  Loss: 0.094639  |  Error: 0.031250\n",
      "Epoch 3  |  Loss: 0.057478  |  Error: 0.031250\n",
      "Epoch 4  |  Loss: 0.045195  |  Error: 0.031250\n",
      "Epoch 5  |  Loss: 0.039907  |  Error: 0.031250\n",
      "Epoch 6  |  Loss: 0.036843  |  Error: 0.031250\n",
      "Epoch 7  |  Loss: 0.034491  |  Error: 0.031250\n",
      "Epoch 8  |  Loss: 0.032263  |  Error: 0.031250\n",
      "Epoch 9  |  Loss: 0.030176  |  Error: 0.031250\n",
      "Epoch 10  |  Loss: 0.028200  |  Error: 0.031250\n",
      "Epoch 11  |  Loss: 0.026208  |  Error: 0.031250\n",
      "Epoch 12  |  Loss: 0.024494  |  Error: 0.000000\n",
      "CPU times: user 1min 5s, sys: 6.12 s, total: 1min 12s\n",
      "Wall time: 1min 12s\n"
     ]
    }
   ],
   "source": [
    "%%time\n",
    "# Train model\n",
    "for j in range(EPOCHS):\n",
    "    for data, label in yield_mb(x_train, y_train, BATCHSIZE):\n",
    "        trainer.train_minibatch({features: data, labels: label})\n",
    "    # Log\n",
    "    training_loss = trainer.previous_minibatch_loss_average\n",
    "    eval_error = trainer.previous_minibatch_evaluation_average\n",
    "    print(\"Epoch %d  |  Loss: %.6f  |  Error: %.6f\" % (j+1, training_loss, eval_error))"
   ]
  },
  {
   "cell_type": "code",
   "execution_count": 10,
   "metadata": {},
   "outputs": [
    {
     "name": "stdout",
     "output_type": "stream",
     "text": [
      "CPU times: user 320 ms, sys: 48 ms, total: 368 ms\n",
      "Wall time: 405 ms\n"
     ]
    }
   ],
   "source": [
    "%%time\n",
    "# Predict and then score accuracy\n",
    "z = cntk.softmax(output)\n",
    "y_guess = np.zeros(y_test.shape[0], dtype=np.int)\n",
    "y_truth = np.zeros(y_test.shape[0], dtype=np.int)\n",
    "\n",
    "c = 0\n",
    "for data, label in yield_mb(x_test, y_test, BATCHSIZE):\n",
    "    predicted_label_probs = z.eval({features : data})\n",
    "    y_guess[c*BATCHSIZE:(c+1)*BATCHSIZE] = np.argmax(predicted_label_probs, axis=-1)\n",
    "    y_truth[c*BATCHSIZE:(c+1)*BATCHSIZE] = np.argmax(label, axis=-1)                               \n",
    "    c += 1"
   ]
  },
  {
   "cell_type": "code",
   "execution_count": 11,
   "metadata": {},
   "outputs": [
    {
     "name": "stdout",
     "output_type": "stream",
     "text": [
      "Accuracy:  0.9849\n"
     ]
    }
   ],
   "source": [
    "print(\"Accuracy: \", sum(y_guess == y_truth)/len(y_guess))"
   ]
  }
 ],
 "metadata": {
  "anaconda-cloud": {},
  "kernelspec": {
   "display_name": "Python [conda env:cntk]",
   "language": "python",
   "name": "conda-env-cntk-py"
  },
  "language_info": {
   "codemirror_mode": {
    "name": "ipython",
    "version": 3
   },
   "file_extension": ".py",
   "mimetype": "text/x-python",
   "name": "python",
   "nbconvert_exporter": "python",
   "pygments_lexer": "ipython3",
   "version": "3.5.3"
  }
 },
 "nbformat": 4,
 "nbformat_minor": 2
}
