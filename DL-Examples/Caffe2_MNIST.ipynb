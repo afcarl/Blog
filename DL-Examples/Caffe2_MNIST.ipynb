{
 "cells": [
  {
   "cell_type": "markdown",
   "metadata": {},
   "source": [
    "# High-level Caffe2 MNIST Example"
   ]
  },
  {
   "cell_type": "code",
   "execution_count": null,
   "metadata": {},
   "outputs": [
    {
     "name": "stderr",
     "output_type": "stream",
     "text": [
      "WARNING:root:This caffe2 python run does not have GPU support. Will run in CPU only mode.\n",
      "WARNING:root:Debug message: dynamic module does not define module export function (PyInit_caffe2_pybind11_state_gpu)\n"
     ]
    }
   ],
   "source": [
    "import numpy as np\n",
    "import os\n",
    "import caffe2\n",
    "from caffe2.python import core, model_helper, net_drawer, workspace, visualize, brew, optimizer, utils\n",
    "from caffe2.proto import caffe2_pb2\n",
    "from common.params import *\n",
    "from common.utils import *"
   ]
  },
  {
   "cell_type": "code",
   "execution_count": null,
   "metadata": {
    "collapsed": true
   },
   "outputs": [],
   "source": [
    "print(np.__version__)\n",
    "if GPU:\n",
    "    device_opts = core.DeviceOption(caffe2_pb2.CUDA, 0)  # Run on GPU\n",
    "else:\n",
    "    device_opts = core.DeviceOption(caffe2_pb2.CPU, 0)  # Run on CPU"
   ]
  },
  {
   "cell_type": "code",
   "execution_count": null,
   "metadata": {
    "collapsed": true
   },
   "outputs": [],
   "source": [
    "def create_model(m, device_opts) :\n",
    "    with core.DeviceScope(device_opts):\n",
    "        # Image size: 28 x 28 -> 24 x 24\n",
    "        conv1 = brew.conv(m, 'data', 'conv1', dim_in=1, dim_out=20, kernel=5)\n",
    "        # Image size: 24 x 24 -> 12 x 12\n",
    "        pool1 = brew.max_pool(m, conv1, 'pool1', kernel=2, stride=2)\n",
    "        # Image size: 12 x 12 -> 8 x 8\n",
    "        conv2 = brew.conv(m, pool1, 'conv2', dim_in=20, dim_out=50, kernel=5)\n",
    "        # Image size: 8 x 8 -> 4 x 4\n",
    "        pool2 = brew.max_pool(m, conv2, 'pool2', kernel=2, stride=2)\n",
    "        # 50 * 4 * 4 stands for dim_out from previous layer multiplied by the image size\n",
    "        fc3 = brew.fc(m, pool2, 'fc3', dim_in=50 * 4 * 4, dim_out=500)\n",
    "        fc3 = brew.relu(m, fc3, fc3)\n",
    "        pred = brew.fc(m, fc3, 'pred', 500, N_CLASSES)\n",
    "        softmax = brew.softmax(m, pred, 'softmax')\n",
    "        return softmax"
   ]
  },
  {
   "cell_type": "code",
   "execution_count": null,
   "metadata": {
    "collapsed": true
   },
   "outputs": [],
   "source": [
    "def add_training_operators(softmax, m, device_opts) :\n",
    "    with core.DeviceScope(device_opts):\n",
    "        xent = m.LabelCrossEntropy([softmax, \"label\"], 'xent')\n",
    "        loss = m.AveragedLoss(xent, \"loss\")\n",
    "        brew.accuracy(m, [softmax, \"label\"], \"accuracy\")\n",
    "        m.AddGradientOperators([loss])\n",
    "        opt = optimizer.build_sgd(\n",
    "            m,\n",
    "            base_learning_rate=LR, \n",
    "            policy='fixed',\n",
    "            momentum=MOMENTUM)"
   ]
  },
  {
   "cell_type": "code",
   "execution_count": null,
   "metadata": {
    "collapsed": true
   },
   "outputs": [],
   "source": [
    "def init_model():\n",
    "    # Create Place-holder for data\n",
    "    workspace.FeedBlob(\"data\", x_train[:BATCHSIZE], device_option=device_opts)\n",
    "    workspace.FeedBlob(\"label\", y_train[:BATCHSIZE], device_option=device_opts)\n",
    "    \n",
    "    # Initialise model\n",
    "    train_model = model_helper.ModelHelper(name=\"train_net\")\n",
    "    softmax = create_model(train_model, device_opts=device_opts)\n",
    "    add_training_operators(softmax, train_model, device_opts=device_opts)\n",
    "\n",
    "    # Initialise workspace\n",
    "    workspace.RunNetOnce(train_model.param_init_net)\n",
    "    workspace.CreateNet(train_model.net)\n",
    "    return train_model"
   ]
  },
  {
   "cell_type": "code",
   "execution_count": null,
   "metadata": {
    "collapsed": true
   },
   "outputs": [],
   "source": [
    "def yield_mb(X, y, batchsize=64):\n",
    "    assert len(X) == len(y)\n",
    "    # Only complete batches are submitted\n",
    "    for i in range(len(X)//batchsize):\n",
    "        yield X[i*batchsize:(i+1)*batchsize], y[i*batchsize:(i+1)*batchsize]"
   ]
  },
  {
   "cell_type": "code",
   "execution_count": null,
   "metadata": {
    "collapsed": true
   },
   "outputs": [],
   "source": [
    "%%time\n",
    "# Data into format for library\n",
    "x_train, x_test, y_train, y_test = mnist_for_library(channel_first=True)\n",
    "# Caffe2-specific\n",
    "y_train = y_train.astype(np.int32)\n",
    "y_test = y_test.astype(np.int32)"
   ]
  },
  {
   "cell_type": "code",
   "execution_count": null,
   "metadata": {
    "collapsed": true
   },
   "outputs": [],
   "source": [
    "%%time\n",
    "# Initialise model\n",
    "model = init_model()"
   ]
  },
  {
   "cell_type": "code",
   "execution_count": null,
   "metadata": {
    "collapsed": true
   },
   "outputs": [],
   "source": [
    "%%time\n",
    "# Train model\n",
    "for j in range(EPOCHS):\n",
    "    for data, label in yield_mb(x_train, y_train, BATCHSIZE):\n",
    "        # Run one mini-batch at time\n",
    "        # IS THIS SLOWER THAN ITERATOR???\n",
    "        workspace.FeedBlob(\"data\", data, device_option=device_opts)\n",
    "        workspace.FeedBlob(\"label\", label, device_option=device_opts)\n",
    "        workspace.RunNet(model.net, 1)       \n",
    "    print(\"Finished epoch: \", j)\n",
    "    print(str(j) + ': ' + str(workspace.FetchBlob(\"loss\")))"
   ]
  },
  {
   "cell_type": "code",
   "execution_count": null,
   "metadata": {
    "collapsed": true
   },
   "outputs": [],
   "source": [
    "%%time\n",
    "# Test model\n",
    "test_model= model_helper.ModelHelper(name=\"test_net\", init_params=False)\n",
    "create_model(test_model, device_opts=device_opts)\n",
    "workspace.RunNetOnce(test_model.param_init_net)\n",
    "workspace.CreateNet(test_model.net, overwrite=True)\n",
    "\n",
    "# Test one-minibatch\n",
    "y_guess = np.zeros(y_test.shape, dtype=np.int)\n",
    "y_truth = np.zeros(y_test.shape, dtype=np.int)\n",
    "c = 0\n",
    "for data, label in yield_mb(x_test, y_test, BATCHSIZE):\n",
    "    workspace.FeedBlob(\"data\", data, device_option=device_opts)\n",
    "    workspace.RunNet(test_model.net, 1)\n",
    "    y_guess[c*BATCHSIZE:(c+1)*BATCHSIZE] = (np.argmax(workspace.FetchBlob(\"softmax\"), axis=-1))\n",
    "    y_truth[c*BATCHSIZE:(c+1)*BATCHSIZE] = y_test[c*BATCHSIZE:(c+1)*BATCHSIZE]\n",
    "    c += 1"
   ]
  },
  {
   "cell_type": "code",
   "execution_count": null,
   "metadata": {
    "collapsed": true
   },
   "outputs": [],
   "source": [
    "print(\"Accuracy: \", sum(y_guess == y_truth)/len(y_guess))"
   ]
  }
 ],
 "metadata": {
  "anaconda-cloud": {},
  "kernelspec": {
   "display_name": "Python 3",
   "language": "python",
   "name": "python3"
  },
  "language_info": {
   "codemirror_mode": {
    "name": "ipython",
    "version": 3
   },
   "file_extension": ".py",
   "mimetype": "text/x-python",
   "name": "python",
   "nbconvert_exporter": "python",
   "pygments_lexer": "ipython3",
   "version": "3.5.2"
  }
 },
 "nbformat": 4,
 "nbformat_minor": 2
}
