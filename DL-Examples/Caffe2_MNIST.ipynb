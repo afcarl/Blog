{
 "cells": [
  {
   "cell_type": "markdown",
   "metadata": {},
   "source": [
    "# High-level Caffe2 MNIST Example"
   ]
  },
  {
   "cell_type": "code",
   "execution_count": 1,
   "metadata": {},
   "outputs": [
    {
     "name": "stderr",
     "output_type": "stream",
     "text": [
      "Using CNTK backend\n"
     ]
    }
   ],
   "source": [
    "%matplotlib inline\n",
    "import numpy as np\n",
    "import sklearn.preprocessing\n",
    "import os\n",
    "from matplotlib import pyplot\n",
    "from IPython import display\n",
    "from caffe2.python import core, model_helper, net_drawer, workspace, visualize, brew, optimizer, utils\n",
    "from caffe2.proto import caffe2_pb2\n",
    "from keras.datasets import mnist  # Only to import MNIST data"
   ]
  },
  {
   "cell_type": "code",
   "execution_count": 2,
   "metadata": {},
   "outputs": [
    {
     "name": "stdout",
     "output_type": "stream",
     "text": [
      "(60000, 1, 28, 28)\n",
      "(10000, 1, 28, 28)\n",
      "float32\n",
      "int32\n"
     ]
    }
   ],
   "source": [
    "(x_train, y_train), (x_test, y_test) = mnist.load_data()\n",
    "# Cast to caffe2 compatible\n",
    "x_train = np.array(x_train, dtype=np.float32) / 256\n",
    "x_test = np.array(x_test, dtype=np.float32) / 256\n",
    "y_train = np.array(y_train, dtype=np.int32)\n",
    "y_test = np.array(y_test, dtype=np.int32)\n",
    "# Reshape to [N, C, H, W]\n",
    "x_train = np.expand_dims(x_train, axis=1)\n",
    "x_test = np.expand_dims(x_test, axis=1)\n",
    "print(x_train.shape)\n",
    "print(x_test.shape)\n",
    "print(x_train.dtype)\n",
    "print(y_train.dtype)"
   ]
  },
  {
   "cell_type": "code",
   "execution_count": 3,
   "metadata": {
    "collapsed": true
   },
   "outputs": [],
   "source": [
    "# Hyperparams\n",
    "device_opts = core.DeviceOption(caffe2_pb2.CUDA, 0)  # Run on GPU\n",
    "#device_opts = core.DeviceOption(caffe2_pb2.CPU, 0)  # Run on CPU\n",
    "epochs = 12\n",
    "batchsize = 32\n",
    "n_classes = 10"
   ]
  },
  {
   "cell_type": "code",
   "execution_count": 4,
   "metadata": {
    "collapsed": true
   },
   "outputs": [],
   "source": [
    "def create_model(m, device_opts) :\n",
    "    with core.DeviceScope(device_opts):\n",
    "        # Image size: 28 x 28 -> 24 x 24\n",
    "        conv1 = brew.conv(m, 'data', 'conv1', dim_in=1, dim_out=20, kernel=5)\n",
    "        # Image size: 24 x 24 -> 12 x 12\n",
    "        pool1 = brew.max_pool(m, conv1, 'pool1', kernel=2, stride=2)\n",
    "        # Image size: 12 x 12 -> 8 x 8\n",
    "        conv2 = brew.conv(m, pool1, 'conv2', dim_in=20, dim_out=50, kernel=5)\n",
    "        # Image size: 8 x 8 -> 4 x 4\n",
    "        pool2 = brew.max_pool(m, conv2, 'pool2', kernel=2, stride=2)\n",
    "        # 50 * 4 * 4 stands for dim_out from previous layer multiplied by the image size\n",
    "        fc3 = brew.fc(m, pool2, 'fc3', dim_in=50 * 4 * 4, dim_out=500)\n",
    "        fc3 = brew.relu(m, fc3, fc3)\n",
    "        pred = brew.fc(m, fc3, 'pred', 500, n_classes)\n",
    "        softmax = brew.softmax(m, pred, 'softmax')\n",
    "        return softmax"
   ]
  },
  {
   "cell_type": "code",
   "execution_count": 5,
   "metadata": {
    "collapsed": true
   },
   "outputs": [],
   "source": [
    "def add_training_operators(softmax, model, device_opts) :\n",
    "    with core.DeviceScope(device_opts):\n",
    "        xent = model.LabelCrossEntropy([softmax, \"label\"], 'xent')\n",
    "        loss = model.AveragedLoss(xent, \"loss\")\n",
    "        brew.accuracy(model, [softmax, \"label\"], \"accuracy\")\n",
    "\n",
    "        model.AddGradientOperators([loss])\n",
    "        opt = optimizer.build_sgd(\n",
    "            model,\n",
    "            base_learning_rate=0.01, \n",
    "            policy='fixed',\n",
    "            momentum=0.9)\n",
    "        #opt = optimizer.build_adam(model, base_learning_rate=0.001)\n",
    "        #opt = optimizer.build_sgd(model, base_learning_rate=0.01)"
   ]
  },
  {
   "cell_type": "code",
   "execution_count": 6,
   "metadata": {
    "collapsed": true
   },
   "outputs": [],
   "source": [
    "def yield_mb(X, y, batchsize=64):\n",
    "    assert len(X) == len(y)\n",
    "    # Only complete batches are submitted\n",
    "    for i in range(len(X)//batchsize):\n",
    "        yield X[i*batchsize:(i+1)*batchsize], y[i*batchsize:(i+1)*batchsize]"
   ]
  },
  {
   "cell_type": "code",
   "execution_count": 7,
   "metadata": {},
   "outputs": [
    {
     "name": "stdout",
     "output_type": "stream",
     "text": [
      "(32, 1, 28, 28)\n",
      "(32,)\n",
      "[5 0 4 1 9 2 1 3 1 4 3 5 3 6 1 7 2 8 6 9 4 0 9 1 1 2 4 3 2 7 3 8]\n"
     ]
    },
    {
     "data": {
      "text/plain": [
       "True"
      ]
     },
     "execution_count": 7,
     "metadata": {},
     "output_type": "execute_result"
    }
   ],
   "source": [
    "# Create Place-holder for data\n",
    "for data, label in yield_mb(x_train, y_train, batchsize):\n",
    "    print(data.shape)\n",
    "    print(label.shape)\n",
    "    print(label)\n",
    "    break\n",
    "    \n",
    "workspace.FeedBlob(\"data\", data, device_option=device_opts)\n",
    "workspace.FeedBlob(\"label\", label, device_option=device_opts)"
   ]
  },
  {
   "cell_type": "code",
   "execution_count": 8,
   "metadata": {},
   "outputs": [
    {
     "data": {
      "text/plain": [
       "True"
      ]
     },
     "execution_count": 8,
     "metadata": {},
     "output_type": "execute_result"
    }
   ],
   "source": [
    "# Initialise \n",
    "train_model= model_helper.ModelHelper(name=\"train_net\")\n",
    "softmax = create_model(train_model, device_opts=device_opts)\n",
    "add_training_operators(softmax, train_model, device_opts=device_opts)\n",
    "\n",
    "workspace.RunNetOnce(train_model.param_init_net)\n",
    "workspace.CreateNet(train_model.net)"
   ]
  },
  {
   "cell_type": "code",
   "execution_count": 9,
   "metadata": {},
   "outputs": [
    {
     "name": "stdout",
     "output_type": "stream",
     "text": [
      "Finished epoch:  0\n",
      "0: 0.02713099680840969\n",
      "Finished epoch:  1\n",
      "1: 0.00245861173607409\n",
      "Finished epoch:  2\n",
      "2: 0.00026570609770715237\n",
      "Finished epoch:  3\n",
      "3: 0.00016440160106867552\n",
      "Finished epoch:  4\n",
      "4: 0.000303918233839795\n",
      "Finished epoch:  5\n",
      "5: 2.8865648346254602e-05\n",
      "Finished epoch:  6\n",
      "6: 0.00018870935309678316\n",
      "Finished epoch:  7\n",
      "7: 9.760783541423734e-06\n",
      "Finished epoch:  8\n",
      "8: 1.5010802599135786e-05\n",
      "Finished epoch:  9\n",
      "9: 8.060461368586402e-06\n",
      "Finished epoch:  10\n",
      "10: 1.119515309255803e-05\n",
      "Finished epoch:  11\n",
      "11: 5.875043825653847e-06\n",
      "Wall time: 1min 27s\n"
     ]
    }
   ],
   "source": [
    "%%time\n",
    "\n",
    "# Train\n",
    "total_iters = (len(x_train)//batchsize)*epochs\n",
    "loss = np.zeros(total_iters)\n",
    "c = 0\n",
    "\n",
    "for j in range(epochs):\n",
    "    for data, label in yield_mb(x_train, y_train, batchsize):\n",
    "        # Run one min-batch\n",
    "        workspace.FeedBlob(\"data\", data, device_option=device_opts)\n",
    "        workspace.FeedBlob(\"label\", label, device_option=device_opts)\n",
    "        workspace.RunNet(train_model.net, 1)\n",
    "        loss[c] = workspace.FetchBlob('loss')\n",
    "        c+= 1\n",
    "        \n",
    "    print(\"Finished epoch: \", j)\n",
    "    print(str(j) + ': ' + str(workspace.FetchBlob(\"loss\")))"
   ]
  },
  {
   "cell_type": "code",
   "execution_count": 10,
   "metadata": {},
   "outputs": [
    {
     "data": {
      "text/plain": [
       "<matplotlib.legend.Legend at 0x2360167c080>"
      ]
     },
     "execution_count": 10,
     "metadata": {},
     "output_type": "execute_result"
    },
    {
     "data": {
      "image/png": "[encoded data removed]",
      "text/plain": [
       "<matplotlib.figure.Figure at 0x2360167c048>"
      ]
     },
     "metadata": {},
     "output_type": "display_data"
    }
   ],
   "source": [
    "# After the execution is done, let's plot the values.\n",
    "pyplot.plot(loss, 'b')\n",
    "pyplot.legend(('Loss'), loc='upper right')"
   ]
  },
  {
   "cell_type": "code",
   "execution_count": 11,
   "metadata": {},
   "outputs": [
    {
     "data": {
      "text/plain": [
       "True"
      ]
     },
     "execution_count": 11,
     "metadata": {},
     "output_type": "execute_result"
    }
   ],
   "source": [
    "# Test model\n",
    "test_model= model_helper.ModelHelper(name=\"test_net\", init_params=False)\n",
    "create_model(test_model, device_opts=device_opts)\n",
    "workspace.RunNetOnce(test_model.param_init_net)\n",
    "workspace.CreateNet(test_model.net, overwrite=True)"
   ]
  },
  {
   "cell_type": "code",
   "execution_count": 12,
   "metadata": {
    "collapsed": true
   },
   "outputs": [],
   "source": [
    "# Test one-minibatch\n",
    "y_guess = np.zeros(y_test.shape, dtype=np.int)\n",
    "y_truth = np.zeros(y_test.shape, dtype=np.int)\n",
    "c = 0\n",
    "for data, label in yield_mb(x_test, y_test, batchsize):\n",
    "    workspace.FeedBlob(\"data\", data, device_option=device_opts)\n",
    "    workspace.RunNet(test_model.net, 1)\n",
    "    y_guess[c*batchsize:(c+1)*batchsize] = (np.argmax(workspace.FetchBlob(\"softmax\"), axis=-1))\n",
    "    y_truth[c*batchsize:(c+1)*batchsize] = y_test[c*batchsize:(c+1)*batchsize]\n",
    "    c += 1"
   ]
  },
  {
   "cell_type": "code",
   "execution_count": 13,
   "metadata": {},
   "outputs": [
    {
     "name": "stdout",
     "output_type": "stream",
     "text": [
      "Accuracy:  0.991\n"
     ]
    }
   ],
   "source": [
    "print(\"Accuracy: \", sum(y_guess == y_truth)/len(y_guess))"
   ]
  }
 ],
 "metadata": {
  "kernelspec": {
   "display_name": "Python 3",
   "language": "python",
   "name": "python3"
  },
  "language_info": {
   "codemirror_mode": {
    "name": "ipython",
    "version": 3
   },
   "file_extension": ".py",
   "mimetype": "text/x-python",
   "name": "python",
   "nbconvert_exporter": "python",
   "pygments_lexer": "ipython3",
   "version": "3.5.2"
  }
 },
 "nbformat": 4,
 "nbformat_minor": 2
}
