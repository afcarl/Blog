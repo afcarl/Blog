{
 "cells": [
  {
   "cell_type": "markdown",
   "metadata": {},
   "source": [
    "## Part 3 - Towing planes"
   ]
  },
  {
   "cell_type": "markdown",
   "metadata": {},
   "source": [
    "We now relax the assumption that a turn is only assigned to one gate for the whole duration of its stay. If the airport is particularly busy and gates are in short supply it can be the case that a plane arrives at gate A1, is then towed to a 'rest' area, and just before departure is towed back to A1 or perhaps another gate.\n",
    "\n",
    "We can thus define a tow as the condition that:\n",
    "\n",
    "`NOT(x[t1_p1, gate] == x[t1_p2, gate]) OR\n",
    "NOT(x[t1_p2, gate] == x[t1_p3, gate]) for any gate`\n",
    "\n",
    "That means that if we have a turn with an original turn-id of (for example) 33, and we split this into three turns called turn-97, turn-98, turn-99, we can create a tow-variable `(w)` (similar to the allocation-variable: `x`) that will allow a tow if it's equal to 1, otherwise 0.\n",
    "\n",
    "The idea is that this variable let's us directly control whether we allow a tow or not and can be endogenous to the optimiser (perhaps with a high cost in the objective to discourage tows)\n",
    "\n",
    "`tow_turns = [97, 98, 99]`\n",
    "\n",
    "`\n",
    "for stand in all_stands:\n",
    "    prob += x[tow_turns[0], stand] - x[tow_turns[1], stand] <= w[tow_turns[0]]\n",
    "    prob += x[tow_turns[1], stand] - x[tow_turns[2], stand] <= w[tow_turns[1]]\n",
    "`\n",
    "\n",
    "Focusing just on the tow-out (and noting that tow-in will have the same logic):\n",
    "\n",
    "`prob += x[tow_turns[0], stand] - x[tow_turns[1], stand] <= w[tow_turns[0]]`\n",
    "\n",
    "We see that we don't need to also include:\n",
    "\n",
    "`prob += -x[tow_turns[0], stand] + x[tow_turns[1], stand] <= w[tow_turns[0]]`\n",
    "\n",
    "Like we would if we wanted to include `abs()` in our model. Because this will occur when we examine the 'other' gate through symmetry:\n",
    "\n",
    "`e.g. all_stands = [A3, A4, A5]`\n",
    "\n",
    "Means we get these three conditions:\n",
    "\n",
    "`\n",
    "x[97,A3] - x[98,A3] <= w[97]\n",
    "x[97,A4] - x[98,A4] <= w[97]\n",
    "x[97,A5] - x[98,A5] <= w[97]\n",
    "`\n",
    "\n",
    "If 97 and 98 assigned to same gate e.g. A4:\n",
    "\n",
    "`\n",
    "0-0 = 0 <= w[97]\n",
    "1-1 = 0 <= w[97]\n",
    "0-0 = 0 <= w[97]\n",
    "`\n",
    "\n",
    "Means w[97] == 0 and thus no tow\n",
    "\n",
    "If 97 assigned to A3 and 98 assigned to A5:\n",
    "\n",
    "`\n",
    "1-0 = 1 <= w[97]\n",
    "0-0 = 0 <= w[97]\n",
    "0-1 = -1 <= w[97]\n",
    "`\n",
    "\n",
    "Means w[97] == 1 and thus we have a tow\n",
    "\n",
    "If 97 assigned to A5 and 98 assigned to A3:\n",
    "\n",
    "`\n",
    "0-1 = -1 <= w[97]\n",
    "0-0 = 0 <= w[97]\n",
    "1-0 = 1 <= w[97]\n",
    "`\n",
    "\n",
    "Means w[97] == 1 and we have a tow\n",
    "\n",
    "Thus this condition is enough to create a tow-out variable (`w[97]`) which controls whether the turn can be towed. We can imagine if we add `+ 100.w[97]` to our objective function that will allow but discourage a tow."
   ]
  },
  {
   "cell_type": "code",
   "execution_count": 78,
   "metadata": {
    "collapsed": true
   },
   "outputs": [],
   "source": [
    "%matplotlib inline\n",
    "import pandas as pd\n",
    "import seaborn as sns\n",
    "import matplotlib.pyplot as plt\n",
    "from pulp import *\n",
    "import pickle"
   ]
  },
  {
   "cell_type": "code",
   "execution_count": 79,
   "metadata": {
    "collapsed": false
   },
   "outputs": [],
   "source": [
    "# Load previous\n",
    "airport = pickle.load(open(\"airport.p\", \"rb\"))\n",
    "\n",
    "turns2 = pickle.load(open(\"turns2.p\", \"rb\"))\n",
    "turns2.drop('gate', axis=1, inplace=True)\n",
    "\n",
    "occupancy = pickle.load(open(\"occupancy.p\", \"rb\"))"
   ]
  },
  {
   "cell_type": "code",
   "execution_count": 80,
   "metadata": {
    "collapsed": true
   },
   "outputs": [],
   "source": [
    "def plot_gantt_chart(allocated_turns, lp_variable_outcomes, min_bucket=5):\n",
    "    for alloc in lp_variable_outcomes:\n",
    "        if lp_variable_outcomes[alloc].varValue:\n",
    "            allocated_turns.set_value(allocated_turns['turn_no'] == alloc[0], 'gate', alloc[-1])\n",
    "    time_series = pd.Series(True, index= pd.date_range(\n",
    "            start=turns2.inbound_arrival.min(),\n",
    "            end=turns2.outbound_departure.max(),\n",
    "            freq=pd.offsets.Minute(min_bucket)))\n",
    "    def trunc_ts(series):\n",
    "        return time_series.truncate(series['inbound_arrival'], series['outbound_departure'])\n",
    "    allocheatmapdf = allocated_turns.apply(trunc_ts, axis=1).T\n",
    "    allocheatmapdf.columns = allocated_turns['turn_no'].get_values()\n",
    "    allocheatmapdf = allocheatmapdf.fillna(0).astype(int)\n",
    "    allocheatmapdf.index = allocheatmapdf.index.time\n",
    "    for col in list(allocheatmapdf.columns):\n",
    "        allocheatmapdf.loc[allocheatmapdf[col] > 0, col] = col\n",
    "    allocheatmapdf.columns = allocated_turns['gate'].get_values()  \n",
    "    trans = allocheatmapdf.T\n",
    "    plt_df = trans.groupby(trans.index).sum()\n",
    "    sns.set()\n",
    "    plt.figure(figsize=(20, 10))\n",
    "    g = sns.heatmap(plt_df, xticklabels=10, cmap='nipy_spectral')"
   ]
  },
  {
   "cell_type": "code",
   "execution_count": 81,
   "metadata": {
    "collapsed": false
   },
   "outputs": [
    {
     "data": {
      "text/html": [
       "<div>\n",
       "<table border=\"1\" class=\"dataframe\">\n",
       "  <thead>\n",
       "    <tr style=\"text-align: right;\">\n",
       "      <th></th>\n",
       "      <th>terminal</th>\n",
       "      <th>gate</th>\n",
       "      <th>max_size</th>\n",
       "    </tr>\n",
       "  </thead>\n",
       "  <tbody>\n",
       "    <tr>\n",
       "      <th>0</th>\n",
       "      <td>A</td>\n",
       "      <td>A1</td>\n",
       "      <td>3</td>\n",
       "    </tr>\n",
       "    <tr>\n",
       "      <th>1</th>\n",
       "      <td>A</td>\n",
       "      <td>A2</td>\n",
       "      <td>1</td>\n",
       "    </tr>\n",
       "    <tr>\n",
       "      <th>2</th>\n",
       "      <td>A</td>\n",
       "      <td>A3</td>\n",
       "      <td>2</td>\n",
       "    </tr>\n",
       "    <tr>\n",
       "      <th>3</th>\n",
       "      <td>B</td>\n",
       "      <td>B1</td>\n",
       "      <td>3</td>\n",
       "    </tr>\n",
       "    <tr>\n",
       "      <th>4</th>\n",
       "      <td>C</td>\n",
       "      <td>C1</td>\n",
       "      <td>1</td>\n",
       "    </tr>\n",
       "    <tr>\n",
       "      <th>5</th>\n",
       "      <td>C</td>\n",
       "      <td>C2</td>\n",
       "      <td>1</td>\n",
       "    </tr>\n",
       "  </tbody>\n",
       "</table>\n",
       "</div>"
      ],
      "text/plain": [
       "  terminal gate  max_size\n",
       "0        A   A1         3\n",
       "1        A   A2         1\n",
       "2        A   A3         2\n",
       "3        B   B1         3\n",
       "4        C   C1         1\n",
       "5        C   C2         1"
      ]
     },
     "execution_count": 81,
     "metadata": {},
     "output_type": "execute_result"
    }
   ],
   "source": [
    "# Add two special 'rest' gates for towing\n",
    "extra_gates = pd.DataFrame({\n",
    "    'terminal':['rest','rest'],\n",
    "    'gate':['R1','R2',],\n",
    "    'max_size':[3, 3]\n",
    "    }, columns=['terminal', 'gate', 'max_size'])\n",
    "\n",
    "#airport = airport.append(extra_gates, ignore_index = True)\n",
    "airport"
   ]
  },
  {
   "cell_type": "code",
   "execution_count": 82,
   "metadata": {
    "collapsed": false
   },
   "outputs": [
    {
     "data": {
      "text/html": [
       "<div>\n",
       "<table border=\"1\" class=\"dataframe\">\n",
       "  <thead>\n",
       "    <tr style=\"text-align: right;\">\n",
       "      <th></th>\n",
       "      <th>turn_no</th>\n",
       "      <th>plane_size</th>\n",
       "      <th>from_country</th>\n",
       "      <th>to_country</th>\n",
       "      <th>inbound_arrival</th>\n",
       "      <th>outbound_departure</th>\n",
       "    </tr>\n",
       "  </thead>\n",
       "  <tbody>\n",
       "    <tr>\n",
       "      <th>0</th>\n",
       "      <td>1</td>\n",
       "      <td>2</td>\n",
       "      <td>GB</td>\n",
       "      <td>CZ</td>\n",
       "      <td>2016-02-01 06:05:00</td>\n",
       "      <td>2016-02-01 07:05:00</td>\n",
       "    </tr>\n",
       "    <tr>\n",
       "      <th>1</th>\n",
       "      <td>2</td>\n",
       "      <td>3</td>\n",
       "      <td>GB</td>\n",
       "      <td>CZ</td>\n",
       "      <td>2016-02-01 06:05:00</td>\n",
       "      <td>2016-02-01 09:05:00</td>\n",
       "    </tr>\n",
       "    <tr>\n",
       "      <th>2</th>\n",
       "      <td>3</td>\n",
       "      <td>2</td>\n",
       "      <td>US</td>\n",
       "      <td>CZ</td>\n",
       "      <td>2016-02-01 09:10:00</td>\n",
       "      <td>2016-02-01 15:10:00</td>\n",
       "    </tr>\n",
       "    <tr>\n",
       "      <th>3</th>\n",
       "      <td>4</td>\n",
       "      <td>1</td>\n",
       "      <td>TR</td>\n",
       "      <td>FR</td>\n",
       "      <td>2016-02-01 09:10:00</td>\n",
       "      <td>2016-02-01 13:10:00</td>\n",
       "    </tr>\n",
       "    <tr>\n",
       "      <th>4</th>\n",
       "      <td>5</td>\n",
       "      <td>1</td>\n",
       "      <td>RU</td>\n",
       "      <td>FR</td>\n",
       "      <td>2016-02-01 09:10:00</td>\n",
       "      <td>2016-02-01 17:10:00</td>\n",
       "    </tr>\n",
       "    <tr>\n",
       "      <th>5</th>\n",
       "      <td>6</td>\n",
       "      <td>1</td>\n",
       "      <td>FR</td>\n",
       "      <td>GB</td>\n",
       "      <td>2016-02-01 12:15:00</td>\n",
       "      <td>2016-02-01 15:15:00</td>\n",
       "    </tr>\n",
       "    <tr>\n",
       "      <th>6</th>\n",
       "      <td>7</td>\n",
       "      <td>3</td>\n",
       "      <td>CZ</td>\n",
       "      <td>GB</td>\n",
       "      <td>2016-02-01 12:15:00</td>\n",
       "      <td>2016-02-01 15:15:00</td>\n",
       "    </tr>\n",
       "    <tr>\n",
       "      <th>7</th>\n",
       "      <td>8</td>\n",
       "      <td>1</td>\n",
       "      <td>US</td>\n",
       "      <td>GB</td>\n",
       "      <td>2016-02-01 15:20:00</td>\n",
       "      <td>2016-02-01 21:20:00</td>\n",
       "    </tr>\n",
       "    <tr>\n",
       "      <th>8</th>\n",
       "      <td>9</td>\n",
       "      <td>1</td>\n",
       "      <td>FR</td>\n",
       "      <td>FR</td>\n",
       "      <td>2016-02-01 16:20:00</td>\n",
       "      <td>2016-02-01 21:20:00</td>\n",
       "    </tr>\n",
       "    <tr>\n",
       "      <th>9</th>\n",
       "      <td>10</td>\n",
       "      <td>1</td>\n",
       "      <td>RU</td>\n",
       "      <td>RU</td>\n",
       "      <td>2016-02-01 16:30:00</td>\n",
       "      <td>2016-02-01 17:30:00</td>\n",
       "    </tr>\n",
       "  </tbody>\n",
       "</table>\n",
       "</div>"
      ],
      "text/plain": [
       "   turn_no  plane_size from_country to_country     inbound_arrival  \\\n",
       "0        1           2           GB         CZ 2016-02-01 06:05:00   \n",
       "1        2           3           GB         CZ 2016-02-01 06:05:00   \n",
       "2        3           2           US         CZ 2016-02-01 09:10:00   \n",
       "3        4           1           TR         FR 2016-02-01 09:10:00   \n",
       "4        5           1           RU         FR 2016-02-01 09:10:00   \n",
       "5        6           1           FR         GB 2016-02-01 12:15:00   \n",
       "6        7           3           CZ         GB 2016-02-01 12:15:00   \n",
       "7        8           1           US         GB 2016-02-01 15:20:00   \n",
       "8        9           1           FR         FR 2016-02-01 16:20:00   \n",
       "9       10           1           RU         RU 2016-02-01 16:30:00   \n",
       "\n",
       "   outbound_departure  \n",
       "0 2016-02-01 07:05:00  \n",
       "1 2016-02-01 09:05:00  \n",
       "2 2016-02-01 15:10:00  \n",
       "3 2016-02-01 13:10:00  \n",
       "4 2016-02-01 17:10:00  \n",
       "5 2016-02-01 15:15:00  \n",
       "6 2016-02-01 15:15:00  \n",
       "7 2016-02-01 21:20:00  \n",
       "8 2016-02-01 21:20:00  \n",
       "9 2016-02-01 17:30:00  "
      ]
     },
     "execution_count": 82,
     "metadata": {},
     "output_type": "execute_result"
    }
   ],
   "source": [
    "turns2"
   ]
  },
  {
   "cell_type": "markdown",
   "metadata": {},
   "source": [
    "**We need to change the format of our turns slightly**\n",
    "\n",
    "We can assume that a tow can only happen for flights longer than 5 hours, also that the first and last part of a two have to be an hour long - this can account for boarding, departing the plane and the physical process of towing"
   ]
  },
  {
   "cell_type": "code",
   "execution_count": 83,
   "metadata": {
    "collapsed": true
   },
   "outputs": [],
   "source": [
    "TOW_MIN = 5\n",
    "dur = (turns2.outbound_departure - turns2.inbound_arrival).astype('timedelta64[h]')\n",
    "\n",
    "# Filter on more than 2 hours and duplicate\n",
    "eligible_for_tow = turns2[dur > TOW_MIN]\n",
    "eligible_for_tow = eligible_for_tow.append(eligible_for_tow, ignore_index=True)\n",
    "\n",
    "# Add back to original\n",
    "turns2 = turns2.append(eligible_for_tow, ignore_index=True)\n",
    "\n",
    "# Turn_part\n",
    "turns2['turn_part'] = turns2.groupby('turn_no')['turn_no'].rank(method='first')\n",
    "# Zero if no tow\n",
    "cnt_parts = turns2.groupby(\"turn_no\")[\"turn_no\"].transform('count')\n",
    "turns2.loc[cnt_parts==1, \"turn_part\"] = 0\n",
    "# Sort\n",
    "turns2.sort_values(['turn_no', 'turn_part'], inplace=True)"
   ]
  },
  {
   "cell_type": "code",
   "execution_count": 84,
   "metadata": {
    "collapsed": false
   },
   "outputs": [],
   "source": [
    "# Part 1\n",
    "turns2.loc[turns2.turn_part==1, \"outbound_departure\"] = turns2.inbound_arrival + pd.offsets.Hour(1)\n",
    "# Part 2\n",
    "turns2.loc[turns2.turn_part==2, \"inbound_arrival\"] = turns2.inbound_arrival + pd.offsets.Hour(1)\n",
    "turns2.loc[turns2.turn_part==2, \"outbound_departure\"] = turns2.outbound_departure - pd.offsets.Hour(1)\n",
    "# Part 3\n",
    "turns2.loc[turns2.turn_part==3, \"inbound_arrival\"] = turns2.outbound_departure - pd.offsets.Hour(1)"
   ]
  },
  {
   "cell_type": "code",
   "execution_count": 85,
   "metadata": {
    "collapsed": true
   },
   "outputs": [],
   "source": [
    "# Create new-id and reset columns\n",
    "turns2.reset_index(drop=True, inplace=True)\n",
    "turns2.rename(columns={'turn_no': 'original_turn'}, inplace=True)\n",
    "turns2['turn_no'] = turns2.index"
   ]
  },
  {
   "cell_type": "code",
   "execution_count": 86,
   "metadata": {
    "collapsed": false
   },
   "outputs": [],
   "source": [
    "turn_list = turns2.turn_no.get_values()\n",
    "gate_list = airport.gate.get_values()\n",
    "\n",
    "compatible_gates = {}\n",
    "for idx, row in turns2.iterrows():\n",
    "    gates_lst = airport[airport.max_size >= row.plane_size].gate.get_values()\n",
    "    compatible_gates[row.turn_no] = gates_lst"
   ]
  },
  {
   "cell_type": "code",
   "execution_count": 87,
   "metadata": {
    "collapsed": false
   },
   "outputs": [
    {
     "data": {
      "text/html": [
       "<div>\n",
       "<table border=\"1\" class=\"dataframe\">\n",
       "  <thead>\n",
       "    <tr style=\"text-align: right;\">\n",
       "      <th></th>\n",
       "      <th>original_turn</th>\n",
       "      <th>plane_size</th>\n",
       "      <th>from_country</th>\n",
       "      <th>to_country</th>\n",
       "      <th>inbound_arrival</th>\n",
       "      <th>outbound_departure</th>\n",
       "      <th>turn_part</th>\n",
       "      <th>turn_no</th>\n",
       "    </tr>\n",
       "  </thead>\n",
       "  <tbody>\n",
       "    <tr>\n",
       "      <th>0</th>\n",
       "      <td>1</td>\n",
       "      <td>2</td>\n",
       "      <td>GB</td>\n",
       "      <td>CZ</td>\n",
       "      <td>2016-02-01 06:05:00</td>\n",
       "      <td>2016-02-01 07:05:00</td>\n",
       "      <td>0.0</td>\n",
       "      <td>0</td>\n",
       "    </tr>\n",
       "    <tr>\n",
       "      <th>1</th>\n",
       "      <td>2</td>\n",
       "      <td>3</td>\n",
       "      <td>GB</td>\n",
       "      <td>CZ</td>\n",
       "      <td>2016-02-01 06:05:00</td>\n",
       "      <td>2016-02-01 09:05:00</td>\n",
       "      <td>0.0</td>\n",
       "      <td>1</td>\n",
       "    </tr>\n",
       "    <tr>\n",
       "      <th>2</th>\n",
       "      <td>3</td>\n",
       "      <td>2</td>\n",
       "      <td>US</td>\n",
       "      <td>CZ</td>\n",
       "      <td>2016-02-01 09:10:00</td>\n",
       "      <td>2016-02-01 10:10:00</td>\n",
       "      <td>1.0</td>\n",
       "      <td>2</td>\n",
       "    </tr>\n",
       "    <tr>\n",
       "      <th>3</th>\n",
       "      <td>3</td>\n",
       "      <td>2</td>\n",
       "      <td>US</td>\n",
       "      <td>CZ</td>\n",
       "      <td>2016-02-01 10:10:00</td>\n",
       "      <td>2016-02-01 14:10:00</td>\n",
       "      <td>2.0</td>\n",
       "      <td>3</td>\n",
       "    </tr>\n",
       "    <tr>\n",
       "      <th>4</th>\n",
       "      <td>3</td>\n",
       "      <td>2</td>\n",
       "      <td>US</td>\n",
       "      <td>CZ</td>\n",
       "      <td>2016-02-01 14:10:00</td>\n",
       "      <td>2016-02-01 15:10:00</td>\n",
       "      <td>3.0</td>\n",
       "      <td>4</td>\n",
       "    </tr>\n",
       "    <tr>\n",
       "      <th>5</th>\n",
       "      <td>4</td>\n",
       "      <td>1</td>\n",
       "      <td>TR</td>\n",
       "      <td>FR</td>\n",
       "      <td>2016-02-01 09:10:00</td>\n",
       "      <td>2016-02-01 13:10:00</td>\n",
       "      <td>0.0</td>\n",
       "      <td>5</td>\n",
       "    </tr>\n",
       "    <tr>\n",
       "      <th>6</th>\n",
       "      <td>5</td>\n",
       "      <td>1</td>\n",
       "      <td>RU</td>\n",
       "      <td>FR</td>\n",
       "      <td>2016-02-01 09:10:00</td>\n",
       "      <td>2016-02-01 10:10:00</td>\n",
       "      <td>1.0</td>\n",
       "      <td>6</td>\n",
       "    </tr>\n",
       "    <tr>\n",
       "      <th>7</th>\n",
       "      <td>5</td>\n",
       "      <td>1</td>\n",
       "      <td>RU</td>\n",
       "      <td>FR</td>\n",
       "      <td>2016-02-01 10:10:00</td>\n",
       "      <td>2016-02-01 16:10:00</td>\n",
       "      <td>2.0</td>\n",
       "      <td>7</td>\n",
       "    </tr>\n",
       "    <tr>\n",
       "      <th>8</th>\n",
       "      <td>5</td>\n",
       "      <td>1</td>\n",
       "      <td>RU</td>\n",
       "      <td>FR</td>\n",
       "      <td>2016-02-01 16:10:00</td>\n",
       "      <td>2016-02-01 17:10:00</td>\n",
       "      <td>3.0</td>\n",
       "      <td>8</td>\n",
       "    </tr>\n",
       "    <tr>\n",
       "      <th>9</th>\n",
       "      <td>6</td>\n",
       "      <td>1</td>\n",
       "      <td>FR</td>\n",
       "      <td>GB</td>\n",
       "      <td>2016-02-01 12:15:00</td>\n",
       "      <td>2016-02-01 15:15:00</td>\n",
       "      <td>0.0</td>\n",
       "      <td>9</td>\n",
       "    </tr>\n",
       "    <tr>\n",
       "      <th>10</th>\n",
       "      <td>7</td>\n",
       "      <td>3</td>\n",
       "      <td>CZ</td>\n",
       "      <td>GB</td>\n",
       "      <td>2016-02-01 12:15:00</td>\n",
       "      <td>2016-02-01 15:15:00</td>\n",
       "      <td>0.0</td>\n",
       "      <td>10</td>\n",
       "    </tr>\n",
       "    <tr>\n",
       "      <th>11</th>\n",
       "      <td>8</td>\n",
       "      <td>1</td>\n",
       "      <td>US</td>\n",
       "      <td>GB</td>\n",
       "      <td>2016-02-01 15:20:00</td>\n",
       "      <td>2016-02-01 16:20:00</td>\n",
       "      <td>1.0</td>\n",
       "      <td>11</td>\n",
       "    </tr>\n",
       "    <tr>\n",
       "      <th>12</th>\n",
       "      <td>8</td>\n",
       "      <td>1</td>\n",
       "      <td>US</td>\n",
       "      <td>GB</td>\n",
       "      <td>2016-02-01 16:20:00</td>\n",
       "      <td>2016-02-01 20:20:00</td>\n",
       "      <td>2.0</td>\n",
       "      <td>12</td>\n",
       "    </tr>\n",
       "    <tr>\n",
       "      <th>13</th>\n",
       "      <td>8</td>\n",
       "      <td>1</td>\n",
       "      <td>US</td>\n",
       "      <td>GB</td>\n",
       "      <td>2016-02-01 20:20:00</td>\n",
       "      <td>2016-02-01 21:20:00</td>\n",
       "      <td>3.0</td>\n",
       "      <td>13</td>\n",
       "    </tr>\n",
       "    <tr>\n",
       "      <th>14</th>\n",
       "      <td>9</td>\n",
       "      <td>1</td>\n",
       "      <td>FR</td>\n",
       "      <td>FR</td>\n",
       "      <td>2016-02-01 16:20:00</td>\n",
       "      <td>2016-02-01 21:20:00</td>\n",
       "      <td>0.0</td>\n",
       "      <td>14</td>\n",
       "    </tr>\n",
       "    <tr>\n",
       "      <th>15</th>\n",
       "      <td>10</td>\n",
       "      <td>1</td>\n",
       "      <td>RU</td>\n",
       "      <td>RU</td>\n",
       "      <td>2016-02-01 16:30:00</td>\n",
       "      <td>2016-02-01 17:30:00</td>\n",
       "      <td>0.0</td>\n",
       "      <td>15</td>\n",
       "    </tr>\n",
       "  </tbody>\n",
       "</table>\n",
       "</div>"
      ],
      "text/plain": [
       "    original_turn  plane_size from_country to_country     inbound_arrival  \\\n",
       "0               1           2           GB         CZ 2016-02-01 06:05:00   \n",
       "1               2           3           GB         CZ 2016-02-01 06:05:00   \n",
       "2               3           2           US         CZ 2016-02-01 09:10:00   \n",
       "3               3           2           US         CZ 2016-02-01 10:10:00   \n",
       "4               3           2           US         CZ 2016-02-01 14:10:00   \n",
       "5               4           1           TR         FR 2016-02-01 09:10:00   \n",
       "6               5           1           RU         FR 2016-02-01 09:10:00   \n",
       "7               5           1           RU         FR 2016-02-01 10:10:00   \n",
       "8               5           1           RU         FR 2016-02-01 16:10:00   \n",
       "9               6           1           FR         GB 2016-02-01 12:15:00   \n",
       "10              7           3           CZ         GB 2016-02-01 12:15:00   \n",
       "11              8           1           US         GB 2016-02-01 15:20:00   \n",
       "12              8           1           US         GB 2016-02-01 16:20:00   \n",
       "13              8           1           US         GB 2016-02-01 20:20:00   \n",
       "14              9           1           FR         FR 2016-02-01 16:20:00   \n",
       "15             10           1           RU         RU 2016-02-01 16:30:00   \n",
       "\n",
       "    outbound_departure  turn_part  turn_no  \n",
       "0  2016-02-01 07:05:00        0.0        0  \n",
       "1  2016-02-01 09:05:00        0.0        1  \n",
       "2  2016-02-01 10:10:00        1.0        2  \n",
       "3  2016-02-01 14:10:00        2.0        3  \n",
       "4  2016-02-01 15:10:00        3.0        4  \n",
       "5  2016-02-01 13:10:00        0.0        5  \n",
       "6  2016-02-01 10:10:00        1.0        6  \n",
       "7  2016-02-01 16:10:00        2.0        7  \n",
       "8  2016-02-01 17:10:00        3.0        8  \n",
       "9  2016-02-01 15:15:00        0.0        9  \n",
       "10 2016-02-01 15:15:00        0.0       10  \n",
       "11 2016-02-01 16:20:00        1.0       11  \n",
       "12 2016-02-01 20:20:00        2.0       12  \n",
       "13 2016-02-01 21:20:00        3.0       13  \n",
       "14 2016-02-01 21:20:00        0.0       14  \n",
       "15 2016-02-01 17:30:00        0.0       15  "
      ]
     },
     "execution_count": 87,
     "metadata": {},
     "output_type": "execute_result"
    }
   ],
   "source": [
    "turns2"
   ]
  },
  {
   "cell_type": "code",
   "execution_count": 88,
   "metadata": {
    "collapsed": false
   },
   "outputs": [
    {
     "data": {
      "image/png": "[encoded data removed]",
      "text/plain": [
       "<matplotlib.figure.Figure at 0x260bc7a1eb8>"
      ]
     },
     "metadata": {},
     "output_type": "display_data"
    }
   ],
   "source": [
    "# Here we create the discrete time-buckets dataframe just like before ...\n",
    "# (\"Example-1\") ...\n",
    "min_bucket=5\n",
    "\n",
    "# Create time-series between arrival of first plane and departure of last\n",
    "time_series = pd.Series(True, index= pd.date_range(\n",
    "        start=turns2.inbound_arrival.min(),\n",
    "        end=turns2.outbound_departure.max(),\n",
    "        freq=pd.offsets.Minute(min_bucket)))\n",
    "    \n",
    "# Truncate full time-series to [inbound_arrival, outbound_departure]\n",
    "def trunc_ts(series):\n",
    "    return time_series.truncate(series['inbound_arrival'], series['outbound_departure'])\n",
    "    \n",
    "heatmapdf = turns2.apply(trunc_ts, axis=1).T\n",
    "    \n",
    "# Convert columns from index to turn_no\n",
    "heatmapdf.columns = turns2['turn_no'].get_values()\n",
    "# Cast to integer\n",
    "heatmapdf = heatmapdf.fillna(0).astype(int)\n",
    "heatmapdf.index = heatmapdf.index.time\n",
    "\n",
    "heatmapdf['tot'] = heatmapdf.sum(axis=1)\n",
    "heatmapdf = heatmapdf[heatmapdf.tot > 1]\n",
    "heatmapdf.drop(['tot'], axis=1, inplace=True)\n",
    "\n",
    "# Plot the turns in the airport\n",
    "sns.set()\n",
    "plt.figure(figsize=(20, 10))\n",
    "\n",
    "snsdf = heatmapdf.T\n",
    "g = sns.heatmap(snsdf, rasterized=True, xticklabels=10, linewidths=1)"
   ]
  },
  {
   "cell_type": "code",
   "execution_count": 89,
   "metadata": {
    "collapsed": false
   },
   "outputs": [],
   "source": [
    "# We also set-up the model just before:\n",
    "# 0. Initialise model\n",
    "prob = LpProblem(\"Airport Gate Allocation\", LpMinimize)  # minimize cost\n",
    "\n",
    "# 1. Objective Function (ignore for now)\n",
    "prob += 0\n",
    "\n",
    "# 2. Variable: x[i,j] = (0,1)\n",
    "# Binary = turn_i allocated to gate_j\n",
    "x = {}\n",
    "for t in turn_list:\n",
    "    # For compatible gates\n",
    "    for g in compatible_gates[t]:\n",
    "        if g in occupancy.gate.get_values():\n",
    "            \n",
    "            t_dep = turns2.loc[turns2['turn_no']== t, 'outbound_departure'].values[0]\n",
    "            t_arr = turns2.loc[turns2['turn_no']== t, 'inbound_arrival'].values[0]\n",
    "            oc_from = occupancy.loc[occupancy['gate']== g, 'occupied_from'].values[0]\n",
    "            oc_to = occupancy.loc[occupancy['gate']== g, 'occupied_to'].values[0]\n",
    "            \n",
    "            if (oc_to >= t_arr) and (oc_from <= t_dep):\n",
    "                continue\n",
    "                \n",
    "        # Gate not occupied so create variable\n",
    "        x[t, g] = LpVariable(\"t%i_g%s\" % (t, g), 0, 1, LpBinary)\n",
    "\n",
    "# 3. Constraints\n",
    "# i. Each turn must be assigned to one compatible gate\n",
    "for t in turn_list:\n",
    "    prob += lpSum(x[t, g] for g in gate_list if (t, g) in x) == 1\n",
    "    \n",
    "# ii. Gates cannot have more than one turn/plane per time_bucket\n",
    "for idx, row in heatmapdf.iterrows():\n",
    "    # Get all the turns for time-bucket\n",
    "    turns_in_time_bucket = set(dict(row[row==1]).keys())\n",
    "    # For all gates\n",
    "    for g in gate_list:\n",
    "        # Constraints may be blank\n",
    "        cons = [x[t, g] for t in turns_in_time_bucket if (t, g) in x]\n",
    "        if len(cons) > 1:\n",
    "            constraint_for_time_bucket = lpSum(cons) <= 1\n",
    "            # These will occur when the plane overlaps change\n",
    "            prob += constraint_for_time_bucket"
   ]
  },
  {
   "cell_type": "code",
   "execution_count": 90,
   "metadata": {
    "collapsed": false
   },
   "outputs": [
    {
     "name": "stdout",
     "output_type": "stream",
     "text": [
      "{2: towing(2), 3: towing(3), 4: towing(4), 6: towing(6), 7: towing(7), 8: towing(8), 11: towing(11), 12: towing(12), 13: towing(13)}\n"
     ]
    }
   ],
   "source": [
    "w = {} # Create dictionary for tows\n",
    "tow_turns = turns2[turns2.turn_part>0].turn_no.get_values() # List of potential tows\n",
    "for tow_turn in tow_turns:\n",
    "    w[tow_turn] = LpVariable(\"towing(%s)\" % (tow_turn), 0, 1, LpBinary)\n",
    "print(w)"
   ]
  },
  {
   "cell_type": "code",
   "execution_count": 91,
   "metadata": {
    "collapsed": false
   },
   "outputs": [
    {
     "name": "stdout",
     "output_type": "stream",
     "text": [
      "{8: [11, 12, 13], 3: [2, 3, 4], 5: [6, 7, 8]}\n"
     ]
    }
   ],
   "source": [
    "# Map original turn to new turns\n",
    "tow_dic = {k: g[\"turn_no\"].tolist() for k,g in turns2[turns2.turn_part>0].groupby(\"original_turn\")}\n",
    "print(tow_dic)  # Original turns 3, 5, 8 are eligible for towing"
   ]
  },
  {
   "cell_type": "code",
   "execution_count": 92,
   "metadata": {
    "collapsed": false
   },
   "outputs": [
    {
     "name": "stdout",
     "output_type": "stream",
     "text": [
      "8 [11, 12, 13]\n",
      "t11_gA1 - t12_gA1 - towing(11) <= 0\n",
      "t12_gA1 - t13_gA1 - towing(12) <= 0\n",
      "t11_gA2 - t12_gA2 - towing(11) <= 0\n",
      "t12_gA2 - t13_gA2 - towing(12) <= 0\n",
      "t11_gB1 - t12_gB1 - towing(11) <= 0\n",
      "t12_gB1 - t13_gB1 - towing(12) <= 0\n",
      "t11_gC1 - t12_gC1 - towing(11) <= 0\n",
      "t12_gC1 - t13_gC1 - towing(12) <= 0\n",
      "t11_gC2 - t12_gC2 - towing(11) <= 0\n",
      "t12_gC2 - t13_gC2 - towing(12) <= 0\n",
      "3 [2, 3, 4]\n",
      "t2_gA1 - t3_gA1 - towing(2) <= 0\n",
      "t3_gA1 - t4_gA1 - towing(3) <= 0\n",
      "t2_gA3 - t3_gA3 - towing(2) <= 0\n",
      "t3_gA3 - t4_gA3 - towing(3) <= 0\n",
      "t2_gB1 - t3_gB1 - towing(2) <= 0\n",
      "t3_gB1 - t4_gB1 - towing(3) <= 0\n",
      "5 [6, 7, 8]\n",
      "t6_gA1 - t7_gA1 - towing(6) <= 0\n",
      "t7_gA1 - t8_gA1 - towing(7) <= 0\n",
      "t6_gB1 - t7_gB1 - towing(6) <= 0\n",
      "t7_gB1 - t8_gB1 - towing(7) <= 0\n",
      "t6_gC1 - t7_gC1 - towing(6) <= 0\n",
      "t7_gC1 - t8_gC1 - towing(7) <= 0\n",
      "t6_gC2 - t7_gC2 - towing(6) <= 0\n",
      "t7_gC2 - t8_gC2 - towing(7) <= 0\n"
     ]
    }
   ],
   "source": [
    "# Create tow-constraint\n",
    "for k, v in tow_dic.items():\n",
    "    print(k, v)\n",
    "    for stand in gate_list:\n",
    "        if ((v[0], stand) in x) and ((v[1], stand) in x):\n",
    "            tow_out = x[v[0], stand] - x[v[1], stand] <= w[v[0]]\n",
    "            print(tow_out)\n",
    "            prob += tow_out\n",
    "        if ((v[1], stand) in x) and ((v[2], stand) in x):\n",
    "            tow_in =  x[v[1], stand] - x[v[2], stand] <= w[v[1]]\n",
    "            print(tow_in)\n",
    "            prob += tow_in"
   ]
  },
  {
   "cell_type": "code",
   "execution_count": 93,
   "metadata": {
    "collapsed": false
   },
   "outputs": [
    {
     "ename": "KeyError",
     "evalue": "(0, 'C2')",
     "output_type": "error",
     "traceback": [
      "\u001b[1;31m---------------------------------------------------------------------------\u001b[0m",
      "\u001b[1;31mKeyError\u001b[0m                                  Traceback (most recent call last)",
      "\u001b[1;32m<ipython-input-93-590d144c12c1>\u001b[0m in \u001b[0;36m<module>\u001b[1;34m()\u001b[0m\n\u001b[0;32m      3\u001b[0m     \u001b[1;32mif\u001b[0m \u001b[0mt\u001b[0m \u001b[1;32mnot\u001b[0m \u001b[1;32min\u001b[0m \u001b[0mtow_turns\u001b[0m\u001b[1;33m:\u001b[0m\u001b[1;33m\u001b[0m\u001b[0m\n\u001b[0;32m      4\u001b[0m         \u001b[1;32mfor\u001b[0m \u001b[0mstands\u001b[0m \u001b[1;32min\u001b[0m \u001b[1;33m[\u001b[0m\u001b[1;34m\"R1\"\u001b[0m\u001b[1;33m,\u001b[0m \u001b[1;34m\"R2\"\u001b[0m\u001b[1;33m]\u001b[0m\u001b[1;33m:\u001b[0m\u001b[1;33m\u001b[0m\u001b[0m\n\u001b[1;32m----> 5\u001b[1;33m             \u001b[0mprob\u001b[0m \u001b[1;33m+=\u001b[0m \u001b[0mx\u001b[0m\u001b[1;33m[\u001b[0m\u001b[0mt\u001b[0m\u001b[1;33m,\u001b[0m \u001b[0mstand\u001b[0m\u001b[1;33m]\u001b[0m \u001b[1;33m==\u001b[0m \u001b[1;36m0\u001b[0m\u001b[1;33m\u001b[0m\u001b[0m\n\u001b[0m",
      "\u001b[1;31mKeyError\u001b[0m: (0, 'C2')"
     ]
    }
   ],
   "source": [
    "# Only tows can go to the 'rest-gates'\n",
    "for t in turn_list:\n",
    "    if t not in tow_turns:\n",
    "        for stands in [\"R1\", \"R2\"]:\n",
    "            prob += x[t, stand] == 0"
   ]
  },
  {
   "cell_type": "code",
   "execution_count": 94,
   "metadata": {
    "collapsed": false
   },
   "outputs": [
    {
     "name": "stdout",
     "output_type": "stream",
     "text": [
      "10*towing(11) + 10*towing(12) + 10*towing(13) + 10*towing(2) + 10*towing(3) + 10*towing(4) + 10*towing(6) + 10*towing(7) + 10*towing(8)\n"
     ]
    }
   ],
   "source": [
    "# Add to objective with positive cost\n",
    "# We should get no tows because they are costly and since no new turns are added we know\n",
    "# ... the previous gates can handle them all\n",
    "# If the cost is negative or 0 then tows can occur ...\n",
    "pos_cost_coefficient = 10\n",
    "tow_objective = lpSum(pos_cost_coefficient*w[t] for t in w)  \n",
    "print(tow_objective)\n",
    "prob += tow_objective"
   ]
  },
  {
   "cell_type": "code",
   "execution_count": 95,
   "metadata": {
    "collapsed": false
   },
   "outputs": [
    {
     "name": "stdout",
     "output_type": "stream",
     "text": [
      "Status:  Optimal\n",
      "Minimised Cost:  50.0\n",
      "Turn 5 assigned to gate A2\n",
      "Turn 15 assigned to gate A1\n",
      "Turn 14 assigned to gate B1\n",
      "Turn 11 assigned to gate A1\n",
      "Turn 7 assigned to gate C2\n",
      "Turn 0 assigned to gate A3\n",
      "Turn 12 assigned to gate A2\n",
      "Turn 6 assigned to gate A3\n",
      "Turn 10 assigned to gate B1\n",
      "Turn 8 assigned to gate C1\n",
      "Turn 3 assigned to gate A1\n",
      "Turn 1 assigned to gate B1\n",
      "Turn 9 assigned to gate C1\n",
      "Turn 4 assigned to gate A3\n",
      "Turn 13 assigned to gate A1\n",
      "Turn 2 assigned to gate B1\n"
     ]
    }
   ],
   "source": [
    "# Solve\n",
    "prob.solve()\n",
    "\n",
    "# Report\n",
    "print(\"Status: \", LpStatus[prob.status])\n",
    "print(\"Minimised Cost: \", value(prob.objective))\n",
    "\n",
    "# Allocations\n",
    "for alloc in x:\n",
    "    if x[alloc].varValue:\n",
    "        print(\"Turn %i assigned to gate %s\" % (alloc[0], alloc[-1]))  "
   ]
  },
  {
   "cell_type": "code",
   "execution_count": 96,
   "metadata": {
    "collapsed": false
   },
   "outputs": [
    {
     "name": "stdout",
     "output_type": "stream",
     "text": [
      "Towing turn 2\n",
      "Towing turn 3\n",
      "Towing turn 7\n",
      "Towing turn 11\n",
      "Towing turn 12\n"
     ]
    }
   ],
   "source": [
    "for tow in w:\n",
    "    if w[tow].varValue:\n",
    "        print(\"Towing turn %i\" % tow)"
   ]
  },
  {
   "cell_type": "code",
   "execution_count": 97,
   "metadata": {
    "collapsed": false
   },
   "outputs": [
    {
     "data": {
      "image/png": "[encoded data removed]",
      "text/plain": [
       "<matplotlib.figure.Figure at 0x260bfd63470>"
      ]
     },
     "metadata": {},
     "output_type": "display_data"
    }
   ],
   "source": [
    "plot_gantt_chart(turns2, x)"
   ]
  },
  {
   "cell_type": "code",
   "execution_count": null,
   "metadata": {
    "collapsed": true
   },
   "outputs": [],
   "source": []
  }
 ],
 "metadata": {
  "anaconda-cloud": {},
  "kernelspec": {
   "display_name": "Python [Root]",
   "language": "python",
   "name": "Python [Root]"
  },
  "language_info": {
   "codemirror_mode": {
    "name": "ipython",
    "version": 3
   },
   "file_extension": ".py",
   "mimetype": "text/x-python",
   "name": "python",
   "nbconvert_exporter": "python",
   "pygments_lexer": "ipython3",
   "version": "3.5.2"
  }
 },
 "nbformat": 4,
 "nbformat_minor": 0
}
