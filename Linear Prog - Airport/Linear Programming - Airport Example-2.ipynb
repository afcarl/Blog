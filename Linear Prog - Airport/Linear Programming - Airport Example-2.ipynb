{
 "cells": [
  {
   "cell_type": "markdown",
   "metadata": {
    "collapsed": true
   },
   "source": [
    "## Part 2 - The soft-rules"
   ]
  },
  {
   "cell_type": "markdown",
   "metadata": {},
   "source": [
    "It may help to visualise the soft-rules by introducing some more gates to empthasise that we can 'choose' rather than take what we get"
   ]
  },
  {
   "cell_type": "code",
   "execution_count": 1,
   "metadata": {
    "collapsed": true
   },
   "outputs": [],
   "source": [
    "%matplotlib inline\n",
    "import pandas as pd\n",
    "import seaborn as sns\n",
    "import matplotlib.pyplot as plt\n",
    "from pulp import *\n",
    "import pickle"
   ]
  },
  {
   "cell_type": "code",
   "execution_count": 2,
   "metadata": {
    "collapsed": true
   },
   "outputs": [],
   "source": [
    "# Load previous\n",
    "airport = pickle.load(open(\"airport.p\", \"rb\"))\n",
    "turns2 = pickle.load(open(\"turns2.p\", \"rb\"))\n",
    "occupancy = pickle.load(open(\"occupancy.p\", \"rb\"))\n",
    "heatmapdf = pickle.load(open(\"heatmapdf.p\", \"rb\"))"
   ]
  },
  {
   "cell_type": "code",
   "execution_count": 3,
   "metadata": {
    "collapsed": true
   },
   "outputs": [],
   "source": [
    "def plot_gantt_chart(allocated_turns, lp_variable_outcomes, min_bucket=5):\n",
    "    for alloc in lp_variable_outcomes:\n",
    "        if lp_variable_outcomes[alloc].varValue:\n",
    "            allocated_turns.set_value(allocated_turns['turn_no'] == alloc[0], 'gate', alloc[-1])\n",
    "    time_series = pd.Series(True, index= pd.date_range(\n",
    "            start=turns2.inbound_arrival.min(),\n",
    "            end=turns2.outbound_departure.max(),\n",
    "            freq=pd.offsets.Minute(min_bucket)))\n",
    "    def trunc_ts(series):\n",
    "        return time_series.truncate(series['inbound_arrival'], series['outbound_departure'])\n",
    "    allocheatmapdf = allocated_turns.apply(trunc_ts, axis=1).T\n",
    "    allocheatmapdf.columns = allocated_turns['turn_no'].get_values()\n",
    "    allocheatmapdf = allocheatmapdf.fillna(0).astype(int)\n",
    "    allocheatmapdf.index = allocheatmapdf.index.time\n",
    "    for col in list(allocheatmapdf.columns):\n",
    "        allocheatmapdf.loc[allocheatmapdf[col] > 0, col] = col\n",
    "    allocheatmapdf.columns = allocated_turns['gate'].get_values()  \n",
    "    trans = allocheatmapdf.T\n",
    "    plt_df = trans.groupby(trans.index).sum()\n",
    "    sns.set()\n",
    "    plt.figure(figsize=(20, 10))\n",
    "    g = sns.heatmap(plt_df, xticklabels=10, cmap='nipy_spectral')"
   ]
  },
  {
   "cell_type": "code",
   "execution_count": 4,
   "metadata": {
    "collapsed": false
   },
   "outputs": [],
   "source": [
    "# Let's add some more gates\n",
    "extra_gates = pd.DataFrame({\n",
    "    'terminal':['C','C','D','D','E','E','E','E','E','E','E','E','E'],\n",
    "    'gate':['C3','C4','D1','E1','E2','E3','E4','E5','E6','E7','E8','E9','E10'],\n",
    "    'max_size':[2,3,2,1,3,3,1,1,2,3,2,1,2]\n",
    "    }, columns=['terminal', 'gate', 'max_size'])\n",
    "\n",
    "airport2 = airport.append(extra_gates, ignore_index = True)"
   ]
  },
  {
   "cell_type": "code",
   "execution_count": 5,
   "metadata": {
    "collapsed": false
   },
   "outputs": [
    {
     "data": {
      "text/plain": [
       "array(['A1', 'A2', 'A3', 'B1', 'C1', 'C2', 'C3', 'C4', 'D1', 'E1', 'E2',\n",
       "       'E3', 'E4', 'E5', 'E6', 'E7', 'E8', 'E9', 'E10'], dtype=object)"
      ]
     },
     "execution_count": 5,
     "metadata": {},
     "output_type": "execute_result"
    }
   ],
   "source": [
    "turn_list = turns2.turn_no.get_values()\n",
    "gate_list = airport2.gate.get_values()\n",
    "\n",
    "compatible_gates = {}\n",
    "for idx, row in turns2.iterrows():\n",
    "    gates_lst = airport2[airport2.max_size >= row.plane_size].gate.get_values()\n",
    "    compatible_gates[row.turn_no] = gates_lst\n",
    "    \n",
    "# New gate list\n",
    "gate_list"
   ]
  },
  {
   "cell_type": "markdown",
   "metadata": {},
   "source": [
    "## Model F - Explicit Desires (want a certain terminal)"
   ]
  },
  {
   "cell_type": "code",
   "execution_count": 6,
   "metadata": {
    "collapsed": false
   },
   "outputs": [],
   "source": [
    "# 0. Initialise model\n",
    "prob = LpProblem(\"Airport Gate Allocation\", LpMinimize)  # minimize cost\n",
    "\n",
    "# 1. Objective Function (ignore for now)\n",
    "prob += 0\n",
    "\n",
    "# 2. Variable: x[i,j] = (0,1)\n",
    "# Binary = turn_i allocated to gate_j\n",
    "x = {}\n",
    "for t in turn_list:\n",
    "    # For compatible gates\n",
    "    for g in compatible_gates[t]:\n",
    "        if g in occupancy.gate.get_values():\n",
    "            \n",
    "            t_dep = turns2.loc[turns2['turn_no']== t, 'outbound_departure'].values[0]\n",
    "            t_arr = turns2.loc[turns2['turn_no']== t, 'inbound_arrival'].values[0]\n",
    "            oc_from = occupancy.loc[occupancy['gate']== g, 'occupied_from'].values[0]\n",
    "            oc_to = occupancy.loc[occupancy['gate']== g, 'occupied_to'].values[0]\n",
    "            \n",
    "            if (oc_to >= t_arr) and (oc_from <= t_dep):\n",
    "                continue\n",
    "                \n",
    "        # Gate not occupied so create variable\n",
    "        x[t, g] = LpVariable(\"t%i_g%s\" % (t, g), 0, 1, LpBinary)\n",
    "\n",
    "# 3. Constraints\n",
    "# i. Each turn must be assigned to one compatible gate\n",
    "for t in turn_list:\n",
    "    prob += lpSum(x[t, g] for g in gate_list if (t, g) in x) == 1\n",
    "    \n",
    "# ii. Gates cannot have more than one turn/plane per time_bucket\n",
    "for idx, row in heatmapdf.iterrows():\n",
    "    # Get all the turns for time-bucket\n",
    "    turns_in_time_bucket = set(dict(row[row==1]).keys())\n",
    "    # For all gates\n",
    "    for g in gate_list:\n",
    "        # Constraints may be blank\n",
    "        cons = [x[t, g] for t in turns_in_time_bucket if (t, g) in x]\n",
    "        if len(cons) > 1:\n",
    "            constraint_for_time_bucket = lpSum(cons) <= 1\n",
    "            # These will occur when the plane overlaps change\n",
    "            prob += constraint_for_time_bucket"
   ]
  },
  {
   "cell_type": "code",
   "execution_count": 7,
   "metadata": {
    "collapsed": false
   },
   "outputs": [],
   "source": [
    "# Imagine we really like the E terminal and would prefer to use those gates\n",
    "# Add all turns under those gates with a negative cost coefficient\n",
    "neg_cost_coefficient = -5\n",
    "prob += lpSum(neg_cost_coefficient*x[t, g] for t, g in x if g.startswith('E'))  "
   ]
  },
  {
   "cell_type": "code",
   "execution_count": 8,
   "metadata": {
    "collapsed": false
   },
   "outputs": [
    {
     "name": "stdout",
     "output_type": "stream",
     "text": [
      "Status:  Optimal\n",
      "Minimised Cost:  -50.0\n",
      "Turn 6 assigned to gate E9\n",
      "Turn 10 assigned to gate E8\n",
      "Turn 2 assigned to gate E2\n",
      "Turn 3 assigned to gate E8\n",
      "Turn 8 assigned to gate E2\n",
      "Turn 9 assigned to gate E4\n",
      "Turn 7 assigned to gate E3\n",
      "Turn 5 assigned to gate E5\n",
      "Turn 4 assigned to gate E1\n",
      "Turn 1 assigned to gate E8\n"
     ]
    },
    {
     "data": {
      "image/png": "[encoded data removed]",
      "text/plain": [
       "<matplotlib.figure.Figure at 0x201bba40cc0>"
      ]
     },
     "metadata": {},
     "output_type": "display_data"
    }
   ],
   "source": [
    "# Solve\n",
    "prob.solve()\n",
    "\n",
    "# Report\n",
    "print(\"Status: \", LpStatus[prob.status])\n",
    "print(\"Minimised Cost: \", value(prob.objective))\n",
    "\n",
    "# We only get the desired 'E' gates\n",
    "for alloc in x:\n",
    "    if x[alloc].varValue:\n",
    "        print(\"Turn %i assigned to gate %s\" % (alloc[0], alloc[-1]))  \n",
    "        \n",
    "# Visualise outcome\n",
    "plot_gantt_chart(turns2, x)"
   ]
  },
  {
   "cell_type": "markdown",
   "metadata": {
    "collapsed": true
   },
   "source": [
    "## Model G - Minimise number of gates (Max Function)\n",
    "\n",
    "Imagine that now we want to use as few gates as possible (and so ideally fit all flights to just one gate). We can introduce this into the model by using the max function, e.g.\n",
    "\n",
    "`gate_A1_used = max(turn_1_to_A1, turn_2_to_A1, turn_3_to_A1, ...)`\n",
    "\n",
    "And then adding gate_A1_used to the objective function with a positive coefficient. Because of the max() function the cost will only be incurred for the first flight to use the gate (and not the subsequent flights) and hence it will be preferred to pick a gate that can be used for another flight and another ... over one that can only be used for one flight.\n",
    "\n",
    "To use max() in our linear programming model we notice that:\n",
    "\n",
    "`gate_A1_used = max(A, B, C)`\n",
    "\n",
    "is equivalent to:\n",
    "\n",
    "`gate_A1_used >= A`\n",
    "\n",
    "`gate_A1_used >= B`\n",
    "\n",
    "`gate_A1_used >= C`\n",
    "\n",
    "`gate_A1_used <= A + B + C`\n",
    "\n",
    "We can add thus add these extra constraints to fit it into our **linear programming model**"
   ]
  },
  {
   "cell_type": "code",
   "execution_count": 9,
   "metadata": {
    "collapsed": true
   },
   "outputs": [],
   "source": [
    "# 0. Initialise model\n",
    "prob = LpProblem(\"Airport Gate Allocation\", LpMinimize)  # minimize cost\n",
    "\n",
    "# 1. Objective Function (ignore for now)\n",
    "prob += 0\n",
    "\n",
    "# 2. Variable: x[i,j] = (0,1)\n",
    "# Binary = turn_i allocated to gate_j\n",
    "x = {}\n",
    "for t in turn_list:\n",
    "    # For compatible gates\n",
    "    for g in compatible_gates[t]:\n",
    "        if g in occupancy.gate.get_values():\n",
    "            \n",
    "            t_dep = turns2.loc[turns2['turn_no']== t, 'outbound_departure'].values[0]\n",
    "            t_arr = turns2.loc[turns2['turn_no']== t, 'inbound_arrival'].values[0]\n",
    "            oc_from = occupancy.loc[occupancy['gate']== g, 'occupied_from'].values[0]\n",
    "            oc_to = occupancy.loc[occupancy['gate']== g, 'occupied_to'].values[0]\n",
    "            \n",
    "            if (oc_to >= t_arr) and (oc_from <= t_dep):\n",
    "                continue\n",
    "                \n",
    "        # Gate not occupied so create variable\n",
    "        x[t, g] = LpVariable(\"t%i_g%s\" % (t, g), 0, 1, LpBinary)\n",
    "\n",
    "# 3. Constraints\n",
    "# i. Each turn must be assigned to one compatible gate\n",
    "for t in turn_list:\n",
    "    prob += lpSum(x[t, g] for g in gate_list if (t, g) in x) == 1\n",
    "    \n",
    "# ii. Gates cannot have more than one turn/plane per time_bucket\n",
    "for idx, row in heatmapdf.iterrows():\n",
    "    # Get all the turns for time-bucket\n",
    "    turns_in_time_bucket = set(dict(row[row==1]).keys())\n",
    "    # For all gates\n",
    "    for g in gate_list:\n",
    "        # Constraints may be blank\n",
    "        cons = [x[t, g] for t in turns_in_time_bucket if (t, g) in x]\n",
    "        if len(cons) > 1:\n",
    "            constraint_for_time_bucket = lpSum(cons) <= 1\n",
    "            # These will occur when the plane overlaps change\n",
    "            prob += constraint_for_time_bucket"
   ]
  },
  {
   "cell_type": "code",
   "execution_count": 10,
   "metadata": {
    "collapsed": false
   },
   "outputs": [
    {
     "name": "stdout",
     "output_type": "stream",
     "text": [
      "5*gate_A1_used + 5*gate_A2_used + 5*gate_A3_used + 5*gate_B1_used + 5*gate_C1_used + 5*gate_C2_used + 5*gate_C3_used + 5*gate_C4_used + 5*gate_D1_used + 5*gate_E10_used + 5*gate_E1_used + 5*gate_E2_used + 5*gate_E3_used + 5*gate_E4_used + 5*gate_E5_used + 5*gate_E6_used + 5*gate_E7_used + 5*gate_E8_used + 5*gate_E9_used\n"
     ]
    }
   ],
   "source": [
    "gate_used_max = {}  # Dictionary to hold new variables\n",
    "\n",
    "# Create the new variables\n",
    "for g in gate_list:\n",
    "        gate_used_max[g] = LpVariable(\"gate_%s_used\" % g, 0, 1, LpBinary)\n",
    "        # Gate_A1_used = max(turn_1_to_A1, turn_2_to_A1, turn_3_to_A1, ...)\n",
    "        # Set lower-bound\n",
    "        for t in turn_list:\n",
    "            if (t, g) in x:\n",
    "                prob += gate_used_max[g] >= x[t, g]\n",
    "        # Set upper-bound\n",
    "        prob += gate_used_max[g] <= lpSum(x[t, g] for t in turn_list if (t, g) in x)\n",
    "        \n",
    "                \n",
    "# Add with positive coefficient to objective\n",
    "pos_cost_coeff = 5\n",
    "max_gates = lpSum(pos_cost_coeff*gate_used_max[g] for g in gate_used_max)\n",
    "\n",
    "print(max_gates)\n",
    "prob += max_gates"
   ]
  },
  {
   "cell_type": "code",
   "execution_count": 11,
   "metadata": {
    "collapsed": false
   },
   "outputs": [
    {
     "name": "stdout",
     "output_type": "stream",
     "text": [
      "Status:  Optimal\n",
      "Minimised Cost:  25.0\n",
      "Turn 10 assigned to gate A1\n",
      "Turn 7 assigned to gate E2\n",
      "Turn 1 assigned to gate E2\n",
      "Turn 4 assigned to gate C2\n",
      "Turn 2 assigned to gate A1\n",
      "Turn 5 assigned to gate E5\n",
      "Turn 9 assigned to gate E2\n",
      "Turn 6 assigned to gate A1\n",
      "Turn 3 assigned to gate A3\n",
      "Turn 8 assigned to gate C2\n"
     ]
    },
    {
     "data": {
      "image/png": "[encoded data removed]",
      "text/plain": [
       "<matplotlib.figure.Figure at 0x201bce88c50>"
      ]
     },
     "metadata": {},
     "output_type": "display_data"
    }
   ],
   "source": [
    "# Solve\n",
    "prob.solve()\n",
    "\n",
    "# Report\n",
    "print(\"Status: \", LpStatus[prob.status])\n",
    "print(\"Minimised Cost: \", value(prob.objective))\n",
    "\n",
    "for alloc in x:\n",
    "    if x[alloc].varValue:\n",
    "        print(\"Turn %i assigned to gate %s\" % (alloc[0], alloc[-1]))  \n",
    "\n",
    "# This example uses just 5 gates (E5, A1, E9, E3, E10)\n",
    "plot_gantt_chart(turns2, x)"
   ]
  },
  {
   "cell_type": "markdown",
   "metadata": {},
   "source": [
    "## Model H - Maximise number of gates (Max Function)\n",
    "\n",
    "We can accomplish the opposite just by flipping the coefficient and rewarding it for each new gate allocated"
   ]
  },
  {
   "cell_type": "code",
   "execution_count": 12,
   "metadata": {
    "collapsed": false
   },
   "outputs": [
    {
     "name": "stdout",
     "output_type": "stream",
     "text": [
      "Status:  Optimal\n",
      "Minimised Cost:  -50.0\n",
      "Turn 1 assigned to gate A3\n",
      "Turn 2 assigned to gate E7\n",
      "Turn 5 assigned to gate E4\n",
      "Turn 8 assigned to gate C1\n",
      "Turn 10 assigned to gate C2\n",
      "Turn 4 assigned to gate A2\n",
      "Turn 3 assigned to gate C3\n",
      "Turn 6 assigned to gate E8\n",
      "Turn 9 assigned to gate E5\n",
      "Turn 7 assigned to gate A1\n"
     ]
    },
    {
     "data": {
      "image/png": "[encoded data removed]",
      "text/plain": [
       "<matplotlib.figure.Figure at 0x201bce88ef0>"
      ]
     },
     "metadata": {},
     "output_type": "display_data"
    }
   ],
   "source": [
    "# 0. Initialise model\n",
    "prob = LpProblem(\"Airport Gate Allocation\", LpMinimize)  # minimize cost\n",
    "\n",
    "# 1. Objective Function (ignore for now)\n",
    "prob += 0\n",
    "\n",
    "# 2. Variable: x[i,j] = (0,1)\n",
    "# Binary = turn_i allocated to gate_j\n",
    "x = {}\n",
    "for t in turn_list:\n",
    "    # For compatible gates\n",
    "    for g in compatible_gates[t]:\n",
    "        if g in occupancy.gate.get_values():\n",
    "            \n",
    "            t_dep = turns2.loc[turns2['turn_no']== t, 'outbound_departure'].values[0]\n",
    "            t_arr = turns2.loc[turns2['turn_no']== t, 'inbound_arrival'].values[0]\n",
    "            oc_from = occupancy.loc[occupancy['gate']== g, 'occupied_from'].values[0]\n",
    "            oc_to = occupancy.loc[occupancy['gate']== g, 'occupied_to'].values[0]\n",
    "            \n",
    "            if (oc_to >= t_arr) and (oc_from <= t_dep):\n",
    "                continue\n",
    "                \n",
    "        # Gate not occupied so create variable\n",
    "        x[t, g] = LpVariable(\"t%i_g%s\" % (t, g), 0, 1, LpBinary)\n",
    "\n",
    "# 3. Constraints\n",
    "# i. Each turn must be assigned to one compatible gate\n",
    "for t in turn_list:\n",
    "    prob += lpSum(x[t, g] for g in gate_list if (t, g) in x) == 1\n",
    "    \n",
    "# ii. Gates cannot have more than one turn/plane per time_bucket\n",
    "for idx, row in heatmapdf.iterrows():\n",
    "    # Get all the turns for time-bucket\n",
    "    turns_in_time_bucket = set(dict(row[row==1]).keys())\n",
    "    # For all gates\n",
    "    for g in gate_list:\n",
    "        # Constraints may be blank\n",
    "        cons = [x[t, g] for t in turns_in_time_bucket if (t, g) in x]\n",
    "        if len(cons) > 1:\n",
    "            constraint_for_time_bucket = lpSum(cons) <= 1\n",
    "            # These will occur when the plane overlaps change\n",
    "            prob += constraint_for_time_bucket\n",
    "            \n",
    "gate_used_max = {}  # Dictionary to hold new variables\n",
    "\n",
    "# Create the new variables\n",
    "for g in gate_list:\n",
    "        gate_used_max[g] = LpVariable(\"gate_%s_used\" % g, 0, 1, LpBinary)\n",
    "        # Gate_A1_used = max(turn_1_to_A1, turn_2_to_A1, turn_3_to_A1, ...)\n",
    "        # Set lower-bound\n",
    "        for t in turn_list:\n",
    "            if (t, g) in x:\n",
    "                prob += gate_used_max[g] >= x[t, g]\n",
    "        # Set upper-bound\n",
    "        prob += gate_used_max[g] <= lpSum(x[t, g] for t in turn_list if (t, g) in x)\n",
    "                \n",
    "# Add with negative coefficient to objective\n",
    "neg_cost_coeff = -5\n",
    "max_gates = lpSum(neg_cost_coeff*gate_used_max[g] for g in gate_used_max)\n",
    "\n",
    "prob += max_gates\n",
    "\n",
    "# Solve\n",
    "prob.solve()\n",
    "\n",
    "# Report\n",
    "print(\"Status: \", LpStatus[prob.status])\n",
    "print(\"Minimised Cost: \", value(prob.objective))\n",
    "\n",
    "for alloc in x:\n",
    "    if x[alloc].varValue:\n",
    "        print(\"Turn %i assigned to gate %s\" % (alloc[0], alloc[-1]))  \n",
    "\n",
    "# This example uses all different gates for different turns\n",
    "plot_gantt_chart(turns2, x)"
   ]
  },
  {
   "cell_type": "markdown",
   "metadata": {},
   "source": [
    "## Model I - Connecting Flights (Min Function)\n",
    "\n",
    "Imagine that turns 7 and 8 are connecting-flights and that we have lots of passengers going from turn 7 to turn 8. We may want to put them on the same terminal so that passengers don't have to travel very far. We don't really care which terminal it is as long as it can accommodate both of them.\n",
    "\n",
    "We can create two variables for each terminal (imagine terminal A for now) like so:\n",
    "\n",
    "`a = min(turn_7_to_A1, turn_7_to_A2, turn_7_to_A3, ...)`\n",
    "\n",
    "`b = min(turn_8_to_A1, turn_8_to_A2, turn_8_to_A3, ...)`\n",
    "\n",
    "`t7_t8_same_terminal_A = AND(a,b) = min(a,b)`\n",
    "\n",
    "And then add them to objective function with a negative loss (because we want one of those to occur)\n",
    "\n",
    "`objective += -10*t7_t8_same_terminal_A + -10*t7_t8_same_terminal_B + -10*t7_t8_same_terminal_B + ...`\n",
    "\n",
    "The key is that we only want to get this negative loss if both turns take gates on the same terminal.\n",
    "\n",
    "Just like with the Max function previously we can convert this into a linear-programming model:\n",
    "\n",
    "`a = sum(turn_7_to_A1, turn_7_to_A2, turn_7_to_A3, ...)`\n",
    "\n",
    "`b = sum(turn_8_to_A1, turn_8_to_A2, turn_8_to_A3, ...)`\n",
    "\n",
    "Since we already have the constraint that a turn is only ever allocated to one gate the variables a and b will be either 0 or 1\n",
    "\n",
    "Then to recreate the Min function:\n",
    "\n",
    "`t7_t8_same_terminal_A >= a + b - 1`\n",
    "\n",
    "`t7_t8_same_terminal_A <= a`\n",
    "\n",
    "`t7_t8_same_terminal_A <= b`\n",
    "\n",
    "So if either a or b is 0 then our new variable has to be equal to 0 (since it is binary and bounded to 0,1) and only if both are 1 do we get the condition:\n",
    "\n",
    "`t7_t8_same_terminal_A >= 1 + 1 - 1`\n",
    "\n",
    "`t7_t8_same_terminal_A >= 1`\n",
    "\n",
    "Which can only be equal to 1 given the binary bounding"
   ]
  },
  {
   "cell_type": "code",
   "execution_count": 13,
   "metadata": {
    "collapsed": true
   },
   "outputs": [],
   "source": [
    "# 0. Initialise model\n",
    "prob = LpProblem(\"Airport Gate Allocation\", LpMinimize)  # minimize cost\n",
    "\n",
    "# 1. Objective Function (ignore for now)\n",
    "prob += 0\n",
    "\n",
    "# 2. Variable: x[i,j] = (0,1)\n",
    "# Binary = turn_i allocated to gate_j\n",
    "x = {}\n",
    "for t in turn_list:\n",
    "    # For compatible gates\n",
    "    for g in compatible_gates[t]:\n",
    "        if g in occupancy.gate.get_values():\n",
    "            \n",
    "            t_dep = turns2.loc[turns2['turn_no']== t, 'outbound_departure'].values[0]\n",
    "            t_arr = turns2.loc[turns2['turn_no']== t, 'inbound_arrival'].values[0]\n",
    "            oc_from = occupancy.loc[occupancy['gate']== g, 'occupied_from'].values[0]\n",
    "            oc_to = occupancy.loc[occupancy['gate']== g, 'occupied_to'].values[0]\n",
    "            \n",
    "            if (oc_to >= t_arr) and (oc_from <= t_dep):\n",
    "                continue\n",
    "                \n",
    "        # Gate not occupied so create variable\n",
    "        x[t, g] = LpVariable(\"t%i_g%s\" % (t, g), 0, 1, LpBinary)\n",
    "\n",
    "# 3. Constraints\n",
    "# i. Each turn must be assigned to one compatible gate\n",
    "for t in turn_list:\n",
    "    prob += lpSum(x[t, g] for g in gate_list if (t, g) in x) == 1\n",
    "    \n",
    "# ii. Gates cannot have more than one turn/plane per time_bucket\n",
    "for idx, row in heatmapdf.iterrows():\n",
    "    # Get all the turns for time-bucket\n",
    "    turns_in_time_bucket = set(dict(row[row==1]).keys())\n",
    "    # For all gates\n",
    "    for g in gate_list:\n",
    "        # Constraints may be blank\n",
    "        cons = [x[t, g] for t in turns_in_time_bucket if (t, g) in x]\n",
    "        if len(cons) > 1:\n",
    "            constraint_for_time_bucket = lpSum(cons) <= 1\n",
    "            # These will occur when the plane overlaps change\n",
    "            prob += constraint_for_time_bucket"
   ]
  },
  {
   "cell_type": "code",
   "execution_count": 14,
   "metadata": {
    "collapsed": false
   },
   "outputs": [
    {
     "name": "stdout",
     "output_type": "stream",
     "text": [
      "con_A_t7_t8 - t7_gA1 - t8_gA1 - t8_gA2 >= -1\n",
      "con_A_t7_t8 - t7_gA1 <= 0\n",
      "con_A_t7_t8 - t8_gA1 - t8_gA2 <= 0\n",
      "con_B_t7_t8 - t7_gB1 - t8_gB1 >= -1\n",
      "con_B_t7_t8 - t7_gB1 <= 0\n",
      "con_B_t7_t8 - t8_gB1 <= 0\n",
      "con_C_t7_t8 - t7_gC4 - t8_gC1 - t8_gC2 - t8_gC3 - t8_gC4 >= -1\n",
      "con_C_t7_t8 - t7_gC4 <= 0\n",
      "con_C_t7_t8 - t8_gC1 - t8_gC2 - t8_gC3 - t8_gC4 <= 0\n",
      "con_E_t7_t8 - t7_gE2 - t7_gE3 - t7_gE7 - t8_gE10 - t8_gE2 - t8_gE3 - t8_gE4 - t8_gE5 - t8_gE6 - t8_gE7 - t8_gE8 - t8_gE9 >= -1\n",
      "con_E_t7_t8 - t7_gE2 - t7_gE3 - t7_gE7 <= 0\n",
      "con_E_t7_t8 - t8_gE10 - t8_gE2 - t8_gE3 - t8_gE4 - t8_gE5 - t8_gE6 - t8_gE7 - t8_gE8 - t8_gE9 <= 0\n",
      "-5*con_A_t7_t8 - 5*con_B_t7_t8 - 5*con_C_t7_t8 - 5*con_E_t7_t8\n"
     ]
    }
   ],
   "source": [
    "turn_connections = {} # Dictionary to hold new variables\n",
    "\n",
    "list_of_turns_to_be_connected = [(7,8)]\n",
    "list_of_terminals = airport2.terminal.unique()\n",
    "\n",
    "for turn_i, turn_j in list_of_turns_to_be_connected:\n",
    "    for airport_terminal in list_of_terminals:\n",
    "        gates_in_terminal = airport2[airport2.terminal == airport_terminal].gate.unique()\n",
    "        \n",
    "        possible_allocations_i = [x[turn_i, gte] for gte in gates_in_terminal if (turn_i, gte) in x]\n",
    "        possible_allocations_j = [x[turn_j, gte] for gte in gates_in_terminal if (turn_j, gte) in x]\n",
    "        \n",
    "        # If we have compatible gates in this terminal for both turns:\n",
    "        if len(possible_allocations_i) and len(possible_allocations_j):\n",
    "            a = lpSum(possible_allocations_i)\n",
    "            b = lpSum(possible_allocations_j)\n",
    "            \n",
    "            # Create variable\n",
    "            turn_connections[turn_i, turn_j, airport_terminal] = LpVariable(\"con_%s_t%i_t%i\" %\n",
    "                                                                            (airport_terminal, turn_i, turn_j), \n",
    "                                                                            0, 1, LpBinary)\n",
    "            # Set lower-bound\n",
    "            lb_1 = turn_connections[turn_i, turn_j, airport_terminal] >= a + b - 1\n",
    "            prob += lb_1\n",
    "            \n",
    "            # Set upper_bound\n",
    "            ub_1 = turn_connections[turn_i, turn_j, airport_terminal] <= a\n",
    "            ub_2 = turn_connections[turn_i, turn_j, airport_terminal] <= b\n",
    "            prob += ub_1\n",
    "            prob += ub_2\n",
    "            \n",
    "            # Print the constraints\n",
    "            print(lb_1)\n",
    "            print(ub_1)\n",
    "            print(ub_2)\n",
    "                        \n",
    "# Add with negative coefficient to objective\n",
    "neg_cost_coeff = -5\n",
    "connections = lpSum(neg_cost_coeff*turn_connections[tc] for tc in turn_connections)\n",
    "prob += connections\n",
    "\n",
    "print(connections)"
   ]
  },
  {
   "cell_type": "code",
   "execution_count": 15,
   "metadata": {
    "collapsed": false
   },
   "outputs": [
    {
     "name": "stdout",
     "output_type": "stream",
     "text": [
      "Status:  Optimal\n",
      "Minimised Cost:  -5.0\n",
      "Turn 6 assigned to gate E9\n",
      "Turn 10 assigned to gate A2\n",
      "Turn 8 assigned to gate B1\n",
      "Turn 2 assigned to gate E7\n",
      "Turn 7 assigned to gate B1\n",
      "Turn 5 assigned to gate E10\n",
      "Turn 4 assigned to gate A2\n",
      "Turn 1 assigned to gate C3\n",
      "Turn 9 assigned to gate C1\n",
      "Turn 3 assigned to gate A3\n"
     ]
    },
    {
     "data": {
      "image/png": "[encoded data removed]",
      "text/plain": [
       "<matplotlib.figure.Figure at 0x201bd1609b0>"
      ]
     },
     "metadata": {},
     "output_type": "display_data"
    }
   ],
   "source": [
    "# Solve\n",
    "prob.solve()\n",
    "\n",
    "# Report\n",
    "print(\"Status: \", LpStatus[prob.status])\n",
    "print(\"Minimised Cost: \", value(prob.objective))\n",
    "\n",
    "# We should have turn 7 and turn 8 assigned to same terminal (and possible gate)\n",
    "for alloc in x:\n",
    "    if x[alloc].varValue:\n",
    "        print(\"Turn %i assigned to gate %s\" % (alloc[0], alloc[-1]))  \n",
    "\n",
    "plot_gantt_chart(turns2, x)"
   ]
  },
  {
   "cell_type": "markdown",
   "metadata": {
    "collapsed": true
   },
   "source": [
    "## Model I - From soft-rule to hard-rule (k of N constraints hold)\n",
    "\n",
    "The above example made the 'correct' assignment of those two turns favourable, however if our objective function was more complex and certain assignments had both negative and positive components, then (depending on the relative weighting) we may not get an assignment to the same terminal.\n",
    "\n",
    "A way to ensure this would be to introduce it as a hard-constraint. For example:\n",
    "\n",
    "`(Constraint-that-turn-7-goes-terminal-A AND Constraint-that-turn-8-goes-terminal-A)`\n",
    "\n",
    "OR\n",
    "\n",
    "`(Constraint-that-turn-7-goes-terminal-B AND Constraint-that-turn-8-goes-terminal-B)`\n",
    "\n",
    "OR `... (for all terminals ...)` etc.\n",
    "\n",
    "In our example, this can be written as:\n",
    "\n",
    "`Constraint_1: turn_7_to_A1 + turn_7_to_A2 + turn_7_to_A3 + turn_8_to_A1 + turn_8_to_A2 + turn_8_to_A3 >= 2`\n",
    "\n",
    "`Constraint_2: turn_7_to_B1 + turn_7_to_B2 + turn_7_to_B3 + turn_8_to_B1 + turn_8_to_B2 + turn_8_to_B3 >= 2`\n",
    "\n",
    "Since a turn can only be assigned to one gate (given other constraints) we can set each constraint equal to two.\n",
    "\n",
    "The issue is that **these are mutually exclusive constraints and we don't want to limit the model to just one of them**. This is an example of the **k out of N constraints must hold scenario**. For example, we can introduce y1, y2, y3 along with a constant M such that:\n",
    "\n",
    "`Constraint_1: f1(x) >= b1 + M.y1`\n",
    "\n",
    "`Constraint_2: f2(x) >= b2 + M.y2`\n",
    "\n",
    "`Constraint_3: f3(x) >= b3 + M.y3`\n",
    "\n",
    "`Constraint_4: y1 + y2 + y3 = N - k = 3 - 1 = 2`\n",
    "\n",
    "Constraint_4 means that two of our binary y variables must be one ('switched-on') and one must be 0. In the example where N of N constraints must hold we get the scenario where y1, y2, and y3 are all 0. If we imagine that M is a large negative number and that y1 is the variable which is set to 0 we get the following scenario:\n",
    "\n",
    "`Constraint_1: f1(x) >= b1`\n",
    "\n",
    "`Constraint_2: f2(x) >= b2 - 1000000`\n",
    "\n",
    "`Constraint_3: f3(x) >= b3 - 1000000`\n",
    "\n",
    "Hence, we can see that constraint_2 and constraint_3 will be eliminated and only constraint_1 will hold. We can use the same tactic to make sure that same-terminal constraint is satisfied."
   ]
  },
  {
   "cell_type": "code",
   "execution_count": 16,
   "metadata": {
    "collapsed": true
   },
   "outputs": [],
   "source": [
    "# 0. Initialise model\n",
    "prob = LpProblem(\"Airport Gate Allocation\", LpMinimize)  # minimize cost\n",
    "\n",
    "# 1. Objective Function (ignore for now)\n",
    "prob += 0\n",
    "\n",
    "# 2. Variable: x[i,j] = (0,1)\n",
    "# Binary = turn_i allocated to gate_j\n",
    "x = {}\n",
    "for t in turn_list:\n",
    "    # For compatible gates\n",
    "    for g in compatible_gates[t]:\n",
    "        if g in occupancy.gate.get_values():\n",
    "            \n",
    "            t_dep = turns2.loc[turns2['turn_no']== t, 'outbound_departure'].values[0]\n",
    "            t_arr = turns2.loc[turns2['turn_no']== t, 'inbound_arrival'].values[0]\n",
    "            oc_from = occupancy.loc[occupancy['gate']== g, 'occupied_from'].values[0]\n",
    "            oc_to = occupancy.loc[occupancy['gate']== g, 'occupied_to'].values[0]\n",
    "            \n",
    "            if (oc_to >= t_arr) and (oc_from <= t_dep):\n",
    "                continue\n",
    "                \n",
    "        # Gate not occupied so create variable\n",
    "        x[t, g] = LpVariable(\"t%i_g%s\" % (t, g), 0, 1, LpBinary)\n",
    "\n",
    "# 3. Constraints\n",
    "# i. Each turn must be assigned to one compatible gate\n",
    "for t in turn_list:\n",
    "    prob += lpSum(x[t, g] for g in gate_list if (t, g) in x) == 1\n",
    "    \n",
    "# ii. Gates cannot have more than one turn/plane per time_bucket\n",
    "for idx, row in heatmapdf.iterrows():\n",
    "    # Get all the turns for time-bucket\n",
    "    turns_in_time_bucket = set(dict(row[row==1]).keys())\n",
    "    # For all gates\n",
    "    for g in gate_list:\n",
    "        # Constraints may be blank\n",
    "        cons = [x[t, g] for t in turns_in_time_bucket if (t, g) in x]\n",
    "        if len(cons) > 1:\n",
    "            constraint_for_time_bucket = lpSum(cons) <= 1\n",
    "            # These will occur when the plane overlaps change\n",
    "            prob += constraint_for_time_bucket"
   ]
  },
  {
   "cell_type": "code",
   "execution_count": 17,
   "metadata": {
    "collapsed": false
   },
   "outputs": [
    {
     "name": "stdout",
     "output_type": "stream",
     "text": [
      "Creating constraints for turns:  7 8\n",
      "1000000*con_A_t7_t8 + t7_gA1 + t8_gA1 + t8_gA2 >= 2\n",
      "1000000*con_B_t7_t8 + t7_gB1 + t8_gB1 >= 2\n",
      "1000000*con_C_t7_t8 + t7_gC4 + t8_gC1 + t8_gC2 + t8_gC3 + t8_gC4 >= 2\n",
      "1000000*con_E_t7_t8 + t7_gE2 + t7_gE3 + t7_gE7 + t8_gE10 + t8_gE2 + t8_gE3 + t8_gE4 + t8_gE5 + t8_gE6 + t8_gE7 + t8_gE8 + t8_gE9 >= 2\n",
      "con_A_t7_t8 + con_B_t7_t8 + con_C_t7_t8 + con_E_t7_t8 = 3\n",
      "Creating constraints for turns:  1 4\n",
      "1000000*con_A_t1_t4 + t1_gA1 + t1_gA3 + t4_gA1 + t4_gA2 + t4_gA3 >= 2\n",
      "1000000*con_B_t1_t4 + t1_gB1 + t4_gB1 >= 2\n",
      "1000000*con_C_t1_t4 + t1_gC3 + t1_gC4 + t4_gC1 + t4_gC2 + t4_gC3 + t4_gC4 >= 2\n",
      "1000000*con_D_t1_t4 + t1_gD1 + t4_gD1 + t4_gE1 >= 2\n",
      "1000000*con_E_t1_t4 + t1_gE10 + t1_gE2 + t1_gE3 + t1_gE6 + t1_gE7 + t1_gE8 + t4_gE10 + t4_gE2 + t4_gE3 + t4_gE4 + t4_gE5 + t4_gE6 + t4_gE7 + t4_gE8 + t4_gE9 >= 2\n",
      "con_A_t1_t4 + con_B_t1_t4 + con_C_t1_t4 + con_D_t1_t4 + con_E_t1_t4 = 4\n"
     ]
    }
   ],
   "source": [
    "extra_binary_var = {} # Dictionary to hold new variables\n",
    "\n",
    "M = -1 * 1000000\n",
    "\n",
    "# This time lets connect turn 7 to 8 and also 1 to 4\n",
    "list_of_turns_to_be_connected = [(7,8),(1,4)]\n",
    "list_of_terminals = airport2.terminal.unique()\n",
    "\n",
    "for turn_i, turn_j in list_of_turns_to_be_connected:\n",
    "    print(\"Creating constraints for turns: \", turn_i, turn_j)\n",
    "    extra_constraint = []\n",
    "    for airport_terminal in list_of_terminals:\n",
    "        gates_in_terminal = airport2[airport2.terminal == airport_terminal].gate.unique()\n",
    "        \n",
    "        possible_allocations_i = [x[turn_i, gte] for gte in gates_in_terminal if (turn_i, gte) in x]\n",
    "        possible_allocations_j = [x[turn_j, gte] for gte in gates_in_terminal if (turn_j, gte) in x]\n",
    "        \n",
    "        # If we have compatible gates in this terminal for both turns:\n",
    "        if len(possible_allocations_i) and len(possible_allocations_j):      \n",
    "            # Create new variable for constraints\n",
    "            extra_binary_var[turn_i, turn_j, airport_terminal] = LpVariable(\"con_%s_t%i_t%i\" %\n",
    "                                                                            (airport_terminal, turn_i, turn_j), \n",
    "                                                                            0, 1, LpBinary)\n",
    "            # Keep track of newly added variable\n",
    "            extra_constraint.append(extra_binary_var[turn_i, turn_j, airport_terminal])\n",
    "            cons = lpSum(possible_allocations_i + possible_allocations_j) >= 2 + \\\n",
    "            (M*extra_binary_var[turn_i, turn_j, airport_terminal])\n",
    "            print(cons)\n",
    "            prob += cons\n",
    "    \n",
    "    # k of N hold\n",
    "    # In this example we have constraints for terminals A, B, C, and E so we set sum equal to 4-1=3\n",
    "    cons = lpSum(extra_constraint) == len(extra_constraint) - 1\n",
    "    print(cons)\n",
    "    prob += cons"
   ]
  },
  {
   "cell_type": "code",
   "execution_count": 18,
   "metadata": {
    "collapsed": false
   },
   "outputs": [
    {
     "name": "stdout",
     "output_type": "stream",
     "text": [
      "Status:  Optimal\n",
      "Minimised Cost:  None\n",
      "Turn 2 assigned to gate B1\n",
      "Turn 9 assigned to gate E1\n",
      "Turn 8 assigned to gate B1\n",
      "Turn 4 assigned to gate E4\n",
      "Turn 3 assigned to gate E3\n",
      "Turn 7 assigned to gate B1\n",
      "Turn 10 assigned to gate D1\n",
      "Turn 6 assigned to gate C1\n",
      "Turn 1 assigned to gate E6\n",
      "Turn 5 assigned to gate C4\n"
     ]
    },
    {
     "data": {
      "image/png": "[encoded data removed]",
      "text/plain": [
       "<matplotlib.figure.Figure at 0x201bd160080>"
      ]
     },
     "metadata": {},
     "output_type": "display_data"
    }
   ],
   "source": [
    "# Solve\n",
    "prob.solve()\n",
    "\n",
    "# Report\n",
    "print(\"Status: \", LpStatus[prob.status])\n",
    "print(\"Minimised Cost: \", value(prob.objective))\n",
    "\n",
    "# We should have turn 7, 8 assigned to same terminal and also turns 1, 4\n",
    "for alloc in x:\n",
    "    if x[alloc].varValue:\n",
    "        print(\"Turn %i assigned to gate %s\" % (alloc[0], alloc[-1]))  \n",
    "\n",
    "plot_gantt_chart(turns2, x)"
   ]
  },
  {
   "cell_type": "code",
   "execution_count": null,
   "metadata": {
    "collapsed": true
   },
   "outputs": [],
   "source": []
  }
 ],
 "metadata": {
  "anaconda-cloud": {},
  "kernelspec": {
   "display_name": "Python [Root]",
   "language": "python",
   "name": "Python [Root]"
  },
  "language_info": {
   "codemirror_mode": {
    "name": "ipython",
    "version": 3
   },
   "file_extension": ".py",
   "mimetype": "text/x-python",
   "name": "python",
   "nbconvert_exporter": "python",
   "pygments_lexer": "ipython3",
   "version": "3.5.2"
  }
 },
 "nbformat": 4,
 "nbformat_minor": 0
}
