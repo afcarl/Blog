{
 "cells": [
  {
   "cell_type": "markdown",
   "metadata": {},
   "source": [
    "# Airport Gate Assignment Tutorial - Linear Programming"
   ]
  },
  {
   "cell_type": "markdown",
   "metadata": {},
   "source": [
    "Imagine we have planes arriving into and departing from our airport. For now we assume that we have three terminals (A, B, C) and those contain a certain number of gates. We also assume that we can't move a plane to a different gate so the gate the plane arrives at is the gate it departs from. This will be relaxed later when we look at towing an aircraft to a 'holding' area.\n",
    "\n",
    "We will look at ways of mathematically modelling this assignment problem subject to:\n",
    "\n",
    "1. hard-rules such as not of all our gates can take an airplane of a certain size\n",
    "2. soft-rules such as preferring a certain terminal for certain destinations \n",
    "3. objectives such as minimising the number of different gates-used.\n",
    "\n",
    "For Part 1 we will just consider the hard-rules; rules which our model cannot break (if there is no other option then the optimisation breaks)\n",
    "\n",
    "## Part 1 - The Constraints"
   ]
  },
  {
   "cell_type": "code",
   "execution_count": 1,
   "metadata": {
    "collapsed": true
   },
   "outputs": [],
   "source": [
    "%matplotlib inline\n",
    "import pandas as pd\n",
    "import seaborn as sns\n",
    "import matplotlib.pyplot as plt\n",
    "from pulp import *\n",
    "import pickle"
   ]
  },
  {
   "cell_type": "code",
   "execution_count": 2,
   "metadata": {
    "collapsed": false
   },
   "outputs": [],
   "source": [
    "# Create sample data\n",
    "turns = pd.DataFrame({\n",
    "    'turn_no':[1,2,3,4,5],\n",
    "    'from_country':['GB','GB','US','TR','RU'],\n",
    "    'to_country':['CZ','CZ','CZ','FR','FR'],\n",
    "    'plane_size':[2,3,2,1,1]\n",
    "    }, columns=['turn_no', 'plane_size', 'from_country', 'to_country'])\n",
    "\n",
    "airport = pd.DataFrame({\n",
    "    'terminal':['A','A','A','B','C', 'C'],\n",
    "    'gate':['A1','A2','A3','B1','C1','C2'],\n",
    "    'max_size':[3,1,2,3,1,1]\n",
    "    }, columns = ['terminal', 'gate', 'max_size'])"
   ]
  },
  {
   "cell_type": "code",
   "execution_count": 3,
   "metadata": {
    "collapsed": false
   },
   "outputs": [
    {
     "data": {
      "text/html": [
       "<div>\n",
       "<table border=\"1\" class=\"dataframe\">\n",
       "  <thead>\n",
       "    <tr style=\"text-align: right;\">\n",
       "      <th></th>\n",
       "      <th>terminal</th>\n",
       "      <th>gate</th>\n",
       "      <th>max_size</th>\n",
       "    </tr>\n",
       "  </thead>\n",
       "  <tbody>\n",
       "    <tr>\n",
       "      <th>0</th>\n",
       "      <td>A</td>\n",
       "      <td>A1</td>\n",
       "      <td>3</td>\n",
       "    </tr>\n",
       "    <tr>\n",
       "      <th>1</th>\n",
       "      <td>A</td>\n",
       "      <td>A2</td>\n",
       "      <td>1</td>\n",
       "    </tr>\n",
       "    <tr>\n",
       "      <th>2</th>\n",
       "      <td>A</td>\n",
       "      <td>A3</td>\n",
       "      <td>2</td>\n",
       "    </tr>\n",
       "    <tr>\n",
       "      <th>3</th>\n",
       "      <td>B</td>\n",
       "      <td>B1</td>\n",
       "      <td>3</td>\n",
       "    </tr>\n",
       "    <tr>\n",
       "      <th>4</th>\n",
       "      <td>C</td>\n",
       "      <td>C1</td>\n",
       "      <td>1</td>\n",
       "    </tr>\n",
       "    <tr>\n",
       "      <th>5</th>\n",
       "      <td>C</td>\n",
       "      <td>C2</td>\n",
       "      <td>1</td>\n",
       "    </tr>\n",
       "  </tbody>\n",
       "</table>\n",
       "</div>"
      ],
      "text/plain": [
       "  terminal gate  max_size\n",
       "0        A   A1         3\n",
       "1        A   A2         1\n",
       "2        A   A3         2\n",
       "3        B   B1         3\n",
       "4        C   C1         1\n",
       "5        C   C2         1"
      ]
     },
     "execution_count": 3,
     "metadata": {},
     "output_type": "execute_result"
    }
   ],
   "source": [
    "airport"
   ]
  },
  {
   "cell_type": "code",
   "execution_count": 5,
   "metadata": {
    "collapsed": false
   },
   "outputs": [
    {
     "data": {
      "text/html": [
       "<div>\n",
       "<table border=\"1\" class=\"dataframe\">\n",
       "  <thead>\n",
       "    <tr style=\"text-align: right;\">\n",
       "      <th></th>\n",
       "      <th>turn_no</th>\n",
       "      <th>plane_size</th>\n",
       "      <th>from_country</th>\n",
       "      <th>to_country</th>\n",
       "    </tr>\n",
       "  </thead>\n",
       "  <tbody>\n",
       "    <tr>\n",
       "      <th>0</th>\n",
       "      <td>1</td>\n",
       "      <td>2</td>\n",
       "      <td>GB</td>\n",
       "      <td>CZ</td>\n",
       "    </tr>\n",
       "    <tr>\n",
       "      <th>1</th>\n",
       "      <td>2</td>\n",
       "      <td>3</td>\n",
       "      <td>GB</td>\n",
       "      <td>CZ</td>\n",
       "    </tr>\n",
       "    <tr>\n",
       "      <th>2</th>\n",
       "      <td>3</td>\n",
       "      <td>2</td>\n",
       "      <td>US</td>\n",
       "      <td>CZ</td>\n",
       "    </tr>\n",
       "    <tr>\n",
       "      <th>3</th>\n",
       "      <td>4</td>\n",
       "      <td>1</td>\n",
       "      <td>TR</td>\n",
       "      <td>FR</td>\n",
       "    </tr>\n",
       "    <tr>\n",
       "      <th>4</th>\n",
       "      <td>5</td>\n",
       "      <td>1</td>\n",
       "      <td>RU</td>\n",
       "      <td>FR</td>\n",
       "    </tr>\n",
       "  </tbody>\n",
       "</table>\n",
       "</div>"
      ],
      "text/plain": [
       "   turn_no  plane_size from_country to_country\n",
       "0        1           2           GB         CZ\n",
       "1        2           3           GB         CZ\n",
       "2        3           2           US         CZ\n",
       "3        4           1           TR         FR\n",
       "4        5           1           RU         FR"
      ]
     },
     "execution_count": 5,
     "metadata": {},
     "output_type": "execute_result"
    }
   ],
   "source": [
    "turns"
   ]
  },
  {
   "cell_type": "code",
   "execution_count": 6,
   "metadata": {
    "collapsed": false
   },
   "outputs": [
    {
     "name": "stdout",
     "output_type": "stream",
     "text": [
      "Turns to allocate:  [1 2 3 4 5]\n",
      "Available gates:  ['A1' 'A2' 'A3' 'B1' 'C1' 'C2']\n"
     ]
    }
   ],
   "source": [
    "turn_list = turns.turn_no.get_values()\n",
    "print(\"Turns to allocate: \", turn_list)\n",
    "\n",
    "gate_list = airport.gate.get_values()\n",
    "print(\"Available gates: \", gate_list)"
   ]
  },
  {
   "cell_type": "markdown",
   "metadata": {},
   "source": [
    "## Model A - Simple Static Model"
   ]
  },
  {
   "cell_type": "code",
   "execution_count": 7,
   "metadata": {
    "collapsed": false
   },
   "outputs": [
    {
     "name": "stdout",
     "output_type": "stream",
     "text": [
      "Airport Gate Allocation:\n",
      "MINIMIZE\n",
      "0\n",
      "SUBJECT TO\n",
      "_C1: t1_gA1 + t1_gA2 + t1_gA3 + t1_gB1 + t1_gC1 + t1_gC2 = 1\n",
      "\n",
      "_C2: t2_gA1 + t2_gA2 + t2_gA3 + t2_gB1 + t2_gC1 + t2_gC2 = 1\n",
      "\n",
      "_C3: t3_gA1 + t3_gA2 + t3_gA3 + t3_gB1 + t3_gC1 + t3_gC2 = 1\n",
      "\n",
      "_C4: t4_gA1 + t4_gA2 + t4_gA3 + t4_gB1 + t4_gC1 + t4_gC2 = 1\n",
      "\n",
      "_C5: t5_gA1 + t5_gA2 + t5_gA3 + t5_gB1 + t5_gC1 + t5_gC2 = 1\n",
      "\n",
      "_C6: t1_gA1 + t2_gA1 + t3_gA1 + t4_gA1 + t5_gA1 <= 1\n",
      "\n",
      "_C7: t1_gA2 + t2_gA2 + t3_gA2 + t4_gA2 + t5_gA2 <= 1\n",
      "\n",
      "_C8: t1_gA3 + t2_gA3 + t3_gA3 + t4_gA3 + t5_gA3 <= 1\n",
      "\n",
      "_C9: t1_gB1 + t2_gB1 + t3_gB1 + t4_gB1 + t5_gB1 <= 1\n",
      "\n",
      "_C10: t1_gC1 + t2_gC1 + t3_gC1 + t4_gC1 + t5_gC1 <= 1\n",
      "\n",
      "_C11: t1_gC2 + t2_gC2 + t3_gC2 + t4_gC2 + t5_gC2 <= 1\n",
      "\n",
      "VARIABLES\n",
      "0 <= t1_gA1 <= 1 Integer\n",
      "0 <= t1_gA2 <= 1 Integer\n",
      "0 <= t1_gA3 <= 1 Integer\n",
      "0 <= t1_gB1 <= 1 Integer\n",
      "0 <= t1_gC1 <= 1 Integer\n",
      "0 <= t1_gC2 <= 1 Integer\n",
      "0 <= t2_gA1 <= 1 Integer\n",
      "0 <= t2_gA2 <= 1 Integer\n",
      "0 <= t2_gA3 <= 1 Integer\n",
      "0 <= t2_gB1 <= 1 Integer\n",
      "0 <= t2_gC1 <= 1 Integer\n",
      "0 <= t2_gC2 <= 1 Integer\n",
      "0 <= t3_gA1 <= 1 Integer\n",
      "0 <= t3_gA2 <= 1 Integer\n",
      "0 <= t3_gA3 <= 1 Integer\n",
      "0 <= t3_gB1 <= 1 Integer\n",
      "0 <= t3_gC1 <= 1 Integer\n",
      "0 <= t3_gC2 <= 1 Integer\n",
      "0 <= t4_gA1 <= 1 Integer\n",
      "0 <= t4_gA2 <= 1 Integer\n",
      "0 <= t4_gA3 <= 1 Integer\n",
      "0 <= t4_gB1 <= 1 Integer\n",
      "0 <= t4_gC1 <= 1 Integer\n",
      "0 <= t4_gC2 <= 1 Integer\n",
      "0 <= t5_gA1 <= 1 Integer\n",
      "0 <= t5_gA2 <= 1 Integer\n",
      "0 <= t5_gA3 <= 1 Integer\n",
      "0 <= t5_gB1 <= 1 Integer\n",
      "0 <= t5_gC1 <= 1 Integer\n",
      "0 <= t5_gC2 <= 1 Integer\n",
      "\n",
      "Status:  Optimal\n",
      "Minimised Cost:  None\n",
      "Turn 2 assigned to gate A1\n",
      "Turn 4 assigned to gate A3\n",
      "Turn 3 assigned to gate B1\n",
      "Turn 1 assigned to gate C1\n",
      "Turn 5 assigned to gate A2\n"
     ]
    }
   ],
   "source": [
    "# 0. Initialise model\n",
    "prob = LpProblem(\"Airport Gate Allocation\", LpMinimize)  # minimize cost\n",
    "\n",
    "# 1. Objective Function (ignore for now)\n",
    "prob += 0\n",
    "\n",
    "# 2. Variable: x[i,j] = (0,1)\n",
    "# Binary = turn_i allocated to gate_j\n",
    "x = {}\n",
    "for t in turn_list:\n",
    "    for g in gate_list:\n",
    "        x[t, g] = LpVariable(\"t%i_g%s\" % (t, g), 0, 1, LpBinary)\n",
    "\n",
    "# 3. Constraints\n",
    "# i. Each turn must be assigned to one gate\n",
    "for t in turn_list:\n",
    "    prob += lpSum(x[t, g] for g in gate_list) == 1\n",
    "\n",
    "# ii. Gates cannot have more than one turn/plane\n",
    "for g in gate_list:\n",
    "    prob += lpSum(x[t, g] for t in turn_list) <= 1\n",
    "    \n",
    "# Formula\n",
    "print(prob)\n",
    "\n",
    "# Solve\n",
    "prob.solve()\n",
    "\n",
    "# Report\n",
    "print(\"Status: \", LpStatus[prob.status])\n",
    "print(\"Minimised Cost: \", value(prob.objective))\n",
    "\n",
    "for alloc in x:\n",
    "    if x[alloc].varValue:\n",
    "        print(\"Turn %i assigned to gate %s\" % (alloc[0], alloc[-1]))"
   ]
  },
  {
   "cell_type": "markdown",
   "metadata": {},
   "source": [
    "## Model B - Adding an Implicit Constraint (size of planes)"
   ]
  },
  {
   "cell_type": "markdown",
   "metadata": {},
   "source": [
    "Adding an (explicit) constraint increases the complexity of an optimisation; however an implicit constraint like the below can actually reduce the number of variables in the model. Most optimisers have a pre-solving stage where they cut out unnecessary variables and perform further cuts to reduce the complexity of the optimisation. Arguably it can actually be quicker to throw in all the constraints and variables and let the optimiser cut it, compared to the extra pre-processing time in python."
   ]
  },
  {
   "cell_type": "code",
   "execution_count": 8,
   "metadata": {
    "collapsed": false
   },
   "outputs": [
    {
     "name": "stdout",
     "output_type": "stream",
     "text": [
      "Compatible gates for each turn\n",
      "1 ['A1' 'A3' 'B1']\n",
      "2 ['A1' 'B1']\n",
      "3 ['A1' 'A3' 'B1']\n",
      "4 ['A1' 'A2' 'A3' 'B1' 'C1' 'C2']\n",
      "5 ['A1' 'A2' 'A3' 'B1' 'C1' 'C2']\n"
     ]
    }
   ],
   "source": [
    "# Some gates may not be able to fit a plane\n",
    "# Assume gate with max_size k can fit a plane_size of j <= k\n",
    "\n",
    "compatible_gates = {}\n",
    "for idx, row in turns.iterrows():\n",
    "    gates_lst = airport[airport.max_size >= row.plane_size].gate.get_values()\n",
    "    compatible_gates[row.turn_no] = gates_lst\n",
    "\n",
    "print(\"Compatible gates for each turn\")\n",
    "for k, v in compatible_gates.items():\n",
    "    print(k, v)\n",
    "\n",
    "# And inverse ... \n",
    "#compatible_turns = {}\n",
    "#for k, v in compatible_gates.items():\n",
    "#    for gate in v:\n",
    "#        compatible_turns.setdefault(gate, [])\n",
    "#        compatible_turns[gate].append(k)\n",
    "#\n",
    "#print(\"Compatible turns for each gate\")\n",
    "#for k, v in compatible_turns.items():\n",
    "#    print(k, v)\n",
    "#        \n",
    "# Now we can add this to the model ..."
   ]
  },
  {
   "cell_type": "code",
   "execution_count": 9,
   "metadata": {
    "collapsed": false
   },
   "outputs": [
    {
     "name": "stdout",
     "output_type": "stream",
     "text": [
      "Airport Gate Allocation:\n",
      "MINIMIZE\n",
      "0\n",
      "SUBJECT TO\n",
      "_C1: t1_gA1 + t1_gA3 + t1_gB1 = 1\n",
      "\n",
      "_C2: t2_gA1 + t2_gB1 = 1\n",
      "\n",
      "_C3: t3_gA1 + t3_gA3 + t3_gB1 = 1\n",
      "\n",
      "_C4: t4_gA1 + t4_gA2 + t4_gA3 + t4_gB1 + t4_gC1 + t4_gC2 = 1\n",
      "\n",
      "_C5: t5_gA1 + t5_gA2 + t5_gA3 + t5_gB1 + t5_gC1 + t5_gC2 = 1\n",
      "\n",
      "_C6: t1_gA1 + t2_gA1 + t3_gA1 + t4_gA1 + t5_gA1 <= 1\n",
      "\n",
      "_C7: t4_gA2 + t5_gA2 <= 1\n",
      "\n",
      "_C8: t1_gA3 + t3_gA3 + t4_gA3 + t5_gA3 <= 1\n",
      "\n",
      "_C9: t1_gB1 + t2_gB1 + t3_gB1 + t4_gB1 + t5_gB1 <= 1\n",
      "\n",
      "_C10: t4_gC1 + t5_gC1 <= 1\n",
      "\n",
      "_C11: t4_gC2 + t5_gC2 <= 1\n",
      "\n",
      "VARIABLES\n",
      "0 <= t1_gA1 <= 1 Integer\n",
      "0 <= t1_gA3 <= 1 Integer\n",
      "0 <= t1_gB1 <= 1 Integer\n",
      "0 <= t2_gA1 <= 1 Integer\n",
      "0 <= t2_gB1 <= 1 Integer\n",
      "0 <= t3_gA1 <= 1 Integer\n",
      "0 <= t3_gA3 <= 1 Integer\n",
      "0 <= t3_gB1 <= 1 Integer\n",
      "0 <= t4_gA1 <= 1 Integer\n",
      "0 <= t4_gA2 <= 1 Integer\n",
      "0 <= t4_gA3 <= 1 Integer\n",
      "0 <= t4_gB1 <= 1 Integer\n",
      "0 <= t4_gC1 <= 1 Integer\n",
      "0 <= t4_gC2 <= 1 Integer\n",
      "0 <= t5_gA1 <= 1 Integer\n",
      "0 <= t5_gA2 <= 1 Integer\n",
      "0 <= t5_gA3 <= 1 Integer\n",
      "0 <= t5_gB1 <= 1 Integer\n",
      "0 <= t5_gC1 <= 1 Integer\n",
      "0 <= t5_gC2 <= 1 Integer\n",
      "\n",
      "Status:  Optimal\n",
      "Minimised Cost:  None\n",
      "Turn 4 assigned to gate A2\n",
      "Turn 1 assigned to gate A3\n",
      "Turn 5 assigned to gate C1\n",
      "Turn 2 assigned to gate B1\n",
      "Turn 3 assigned to gate A1\n"
     ]
    }
   ],
   "source": [
    "# 0. Initialise model\n",
    "prob = LpProblem(\"Airport Gate Allocation\", LpMinimize)  # minimize cost\n",
    "\n",
    "# 1. Objective Function (ignore for now)\n",
    "prob += 0\n",
    "\n",
    "# 2. Variable: x[i,j] = (0,1)\n",
    "# Binary = turn_i allocated to gate_j\n",
    "x = {}\n",
    "for t in turn_list:\n",
    "    # The 'constraint' gets added implicitly by not creating a choice variable that\n",
    "    # connects turns to incompatible gates\n",
    "    # As opposed to adding it as a constraint\n",
    "    for g in compatible_gates[t]:\n",
    "        x[t, g] = LpVariable(\"t%i_g%s\" % (t, g), 0, 1, LpBinary)\n",
    "\n",
    "# 3. Constraints\n",
    "# i. Each turn must be assigned to one gate\n",
    "for t in turn_list:\n",
    "    prob += lpSum(x[t, g] for g in gate_list if (t, g) in x) == 1\n",
    "\n",
    "# ii. Gates cannot have more than one turn/plane\n",
    "for g in gate_list:\n",
    "    prob += lpSum(x[t, g] for t in turn_list if (t, g) in x) <= 1\n",
    "    \n",
    "# Formula\n",
    "print(prob)\n",
    "\n",
    "# Solve\n",
    "prob.solve()\n",
    "\n",
    "# Report\n",
    "print(\"Status: \", LpStatus[prob.status])\n",
    "print(\"Minimised Cost: \", value(prob.objective))\n",
    "\n",
    "for alloc in x:\n",
    "    if x[alloc].varValue:\n",
    "        print(\"Turn %i assigned to gate %s\" % (alloc[0], alloc[-1]))"
   ]
  },
  {
   "cell_type": "markdown",
   "metadata": {},
   "source": [
    "## Model C - Adding a Time Dimension\n",
    "\n",
    "Gates can have more than one turn if they don't overlap\n",
    "\n",
    "Think of this in discrete-time: 5 min buckets\n",
    "\n",
    "Imagine we have these flights within the following intervals\n",
    "```\n",
    "00:00 - Flights 2, 5, 10\n",
    "00:05 - Flights 2, 10, 11, 12\n",
    "00:10 - Flights 11, 12\n",
    "```\n",
    "For each time-period we want to impose the gate-constraint\n",
    "\n",
    "Only for turns in time-period; not ALL turns - something like:\n",
    "\n",
    "```\n",
    "for j in gates:\n",
    "\tx[2, j] + x[5, j] + x[10, j] <= 1\n",
    "\tx[2, j] + x[10, j] + x[11, j] + x[12, j] <= 1\n",
    "\tx[11, j] + x[12, j] <= 1\n",
    "```"
   ]
  },
  {
   "cell_type": "code",
   "execution_count": 10,
   "metadata": {
    "collapsed": false
   },
   "outputs": [
    {
     "data": {
      "text/html": [
       "<div>\n",
       "<table border=\"1\" class=\"dataframe\">\n",
       "  <thead>\n",
       "    <tr style=\"text-align: right;\">\n",
       "      <th></th>\n",
       "      <th>turn_no</th>\n",
       "      <th>plane_size</th>\n",
       "      <th>from_country</th>\n",
       "      <th>to_country</th>\n",
       "    </tr>\n",
       "  </thead>\n",
       "  <tbody>\n",
       "    <tr>\n",
       "      <th>0</th>\n",
       "      <td>1</td>\n",
       "      <td>2</td>\n",
       "      <td>GB</td>\n",
       "      <td>CZ</td>\n",
       "    </tr>\n",
       "    <tr>\n",
       "      <th>1</th>\n",
       "      <td>2</td>\n",
       "      <td>3</td>\n",
       "      <td>GB</td>\n",
       "      <td>CZ</td>\n",
       "    </tr>\n",
       "    <tr>\n",
       "      <th>2</th>\n",
       "      <td>3</td>\n",
       "      <td>2</td>\n",
       "      <td>US</td>\n",
       "      <td>CZ</td>\n",
       "    </tr>\n",
       "    <tr>\n",
       "      <th>3</th>\n",
       "      <td>4</td>\n",
       "      <td>1</td>\n",
       "      <td>TR</td>\n",
       "      <td>FR</td>\n",
       "    </tr>\n",
       "    <tr>\n",
       "      <th>4</th>\n",
       "      <td>5</td>\n",
       "      <td>1</td>\n",
       "      <td>RU</td>\n",
       "      <td>FR</td>\n",
       "    </tr>\n",
       "    <tr>\n",
       "      <th>5</th>\n",
       "      <td>6</td>\n",
       "      <td>1</td>\n",
       "      <td>FR</td>\n",
       "      <td>GB</td>\n",
       "    </tr>\n",
       "    <tr>\n",
       "      <th>6</th>\n",
       "      <td>7</td>\n",
       "      <td>3</td>\n",
       "      <td>CZ</td>\n",
       "      <td>GB</td>\n",
       "    </tr>\n",
       "    <tr>\n",
       "      <th>7</th>\n",
       "      <td>8</td>\n",
       "      <td>1</td>\n",
       "      <td>US</td>\n",
       "      <td>GB</td>\n",
       "    </tr>\n",
       "    <tr>\n",
       "      <th>8</th>\n",
       "      <td>9</td>\n",
       "      <td>1</td>\n",
       "      <td>FR</td>\n",
       "      <td>FR</td>\n",
       "    </tr>\n",
       "    <tr>\n",
       "      <th>9</th>\n",
       "      <td>10</td>\n",
       "      <td>1</td>\n",
       "      <td>RU</td>\n",
       "      <td>RU</td>\n",
       "    </tr>\n",
       "  </tbody>\n",
       "</table>\n",
       "</div>"
      ],
      "text/plain": [
       "   turn_no  plane_size from_country to_country\n",
       "0        1           2           GB         CZ\n",
       "1        2           3           GB         CZ\n",
       "2        3           2           US         CZ\n",
       "3        4           1           TR         FR\n",
       "4        5           1           RU         FR\n",
       "5        6           1           FR         GB\n",
       "6        7           3           CZ         GB\n",
       "7        8           1           US         GB\n",
       "8        9           1           FR         FR\n",
       "9       10           1           RU         RU"
      ]
     },
     "execution_count": 10,
     "metadata": {},
     "output_type": "execute_result"
    }
   ],
   "source": [
    "# Let's add some more flights\n",
    "extra_flights = pd.DataFrame({\n",
    "    'turn_no':[6,7,8,9,10],\n",
    "    'from_country':['FR','CZ','US','FR','RU'],\n",
    "    'to_country':['GB','GB','GB','FR','RU'],\n",
    "    'plane_size':[1,3,1,1,1]\n",
    "    }, columns=['turn_no', 'plane_size', 'from_country', 'to_country'])\n",
    "\n",
    "turns2 = turns.append(extra_flights, ignore_index = True)\n",
    "\n",
    "turns2"
   ]
  },
  {
   "cell_type": "code",
   "execution_count": 11,
   "metadata": {
    "collapsed": false
   },
   "outputs": [],
   "source": [
    "# Add some flight-times\n",
    "turns2['inbound_arrival'] = pd.to_datetime([\n",
    "        \"02/01/2016 06:05\",\n",
    "        \"02/01/2016 06:05\",\n",
    "        \"02/01/2016 09:10\",\n",
    "        \"02/01/2016 09:10\",\n",
    "        \"02/01/2016 09:10\",\n",
    "        \"02/01/2016 12:15\",\n",
    "        \"02/01/2016 12:15\",\n",
    "        \"02/01/2016 15:20\",\n",
    "        \"02/01/2016 16:20\",\n",
    "        \"02/01/2016 16:30\"])\n",
    "\n",
    "turns2['outbound_departure'] = pd.to_datetime([\n",
    "        \"02/01/2016 07:05\",\n",
    "        \"02/01/2016 09:05\",\n",
    "        \"02/01/2016 15:10\",\n",
    "        \"02/01/2016 13:10\",\n",
    "        \"02/01/2016 17:10\",\n",
    "        \"02/01/2016 15:15\",\n",
    "        \"02/01/2016 15:15\",\n",
    "        \"02/01/2016 21:20\",\n",
    "        \"02/01/2016 21:20\",\n",
    "        \"02/01/2016 17:30\"])"
   ]
  },
  {
   "cell_type": "code",
   "execution_count": 12,
   "metadata": {
    "collapsed": false
   },
   "outputs": [
    {
     "data": {
      "text/html": [
       "<div>\n",
       "<table border=\"1\" class=\"dataframe\">\n",
       "  <thead>\n",
       "    <tr style=\"text-align: right;\">\n",
       "      <th></th>\n",
       "      <th>turn_no</th>\n",
       "      <th>plane_size</th>\n",
       "      <th>from_country</th>\n",
       "      <th>to_country</th>\n",
       "      <th>inbound_arrival</th>\n",
       "      <th>outbound_departure</th>\n",
       "    </tr>\n",
       "  </thead>\n",
       "  <tbody>\n",
       "    <tr>\n",
       "      <th>0</th>\n",
       "      <td>1</td>\n",
       "      <td>2</td>\n",
       "      <td>GB</td>\n",
       "      <td>CZ</td>\n",
       "      <td>2016-02-01 06:05:00</td>\n",
       "      <td>2016-02-01 07:05:00</td>\n",
       "    </tr>\n",
       "    <tr>\n",
       "      <th>1</th>\n",
       "      <td>2</td>\n",
       "      <td>3</td>\n",
       "      <td>GB</td>\n",
       "      <td>CZ</td>\n",
       "      <td>2016-02-01 06:05:00</td>\n",
       "      <td>2016-02-01 09:05:00</td>\n",
       "    </tr>\n",
       "    <tr>\n",
       "      <th>2</th>\n",
       "      <td>3</td>\n",
       "      <td>2</td>\n",
       "      <td>US</td>\n",
       "      <td>CZ</td>\n",
       "      <td>2016-02-01 09:10:00</td>\n",
       "      <td>2016-02-01 15:10:00</td>\n",
       "    </tr>\n",
       "    <tr>\n",
       "      <th>3</th>\n",
       "      <td>4</td>\n",
       "      <td>1</td>\n",
       "      <td>TR</td>\n",
       "      <td>FR</td>\n",
       "      <td>2016-02-01 09:10:00</td>\n",
       "      <td>2016-02-01 13:10:00</td>\n",
       "    </tr>\n",
       "    <tr>\n",
       "      <th>4</th>\n",
       "      <td>5</td>\n",
       "      <td>1</td>\n",
       "      <td>RU</td>\n",
       "      <td>FR</td>\n",
       "      <td>2016-02-01 09:10:00</td>\n",
       "      <td>2016-02-01 17:10:00</td>\n",
       "    </tr>\n",
       "    <tr>\n",
       "      <th>5</th>\n",
       "      <td>6</td>\n",
       "      <td>1</td>\n",
       "      <td>FR</td>\n",
       "      <td>GB</td>\n",
       "      <td>2016-02-01 12:15:00</td>\n",
       "      <td>2016-02-01 15:15:00</td>\n",
       "    </tr>\n",
       "    <tr>\n",
       "      <th>6</th>\n",
       "      <td>7</td>\n",
       "      <td>3</td>\n",
       "      <td>CZ</td>\n",
       "      <td>GB</td>\n",
       "      <td>2016-02-01 12:15:00</td>\n",
       "      <td>2016-02-01 15:15:00</td>\n",
       "    </tr>\n",
       "    <tr>\n",
       "      <th>7</th>\n",
       "      <td>8</td>\n",
       "      <td>1</td>\n",
       "      <td>US</td>\n",
       "      <td>GB</td>\n",
       "      <td>2016-02-01 15:20:00</td>\n",
       "      <td>2016-02-01 21:20:00</td>\n",
       "    </tr>\n",
       "    <tr>\n",
       "      <th>8</th>\n",
       "      <td>9</td>\n",
       "      <td>1</td>\n",
       "      <td>FR</td>\n",
       "      <td>FR</td>\n",
       "      <td>2016-02-01 16:20:00</td>\n",
       "      <td>2016-02-01 21:20:00</td>\n",
       "    </tr>\n",
       "    <tr>\n",
       "      <th>9</th>\n",
       "      <td>10</td>\n",
       "      <td>1</td>\n",
       "      <td>RU</td>\n",
       "      <td>RU</td>\n",
       "      <td>2016-02-01 16:30:00</td>\n",
       "      <td>2016-02-01 17:30:00</td>\n",
       "    </tr>\n",
       "  </tbody>\n",
       "</table>\n",
       "</div>"
      ],
      "text/plain": [
       "   turn_no  plane_size from_country to_country     inbound_arrival  \\\n",
       "0        1           2           GB         CZ 2016-02-01 06:05:00   \n",
       "1        2           3           GB         CZ 2016-02-01 06:05:00   \n",
       "2        3           2           US         CZ 2016-02-01 09:10:00   \n",
       "3        4           1           TR         FR 2016-02-01 09:10:00   \n",
       "4        5           1           RU         FR 2016-02-01 09:10:00   \n",
       "5        6           1           FR         GB 2016-02-01 12:15:00   \n",
       "6        7           3           CZ         GB 2016-02-01 12:15:00   \n",
       "7        8           1           US         GB 2016-02-01 15:20:00   \n",
       "8        9           1           FR         FR 2016-02-01 16:20:00   \n",
       "9       10           1           RU         RU 2016-02-01 16:30:00   \n",
       "\n",
       "   outbound_departure  \n",
       "0 2016-02-01 07:05:00  \n",
       "1 2016-02-01 09:05:00  \n",
       "2 2016-02-01 15:10:00  \n",
       "3 2016-02-01 13:10:00  \n",
       "4 2016-02-01 17:10:00  \n",
       "5 2016-02-01 15:15:00  \n",
       "6 2016-02-01 15:15:00  \n",
       "7 2016-02-01 21:20:00  \n",
       "8 2016-02-01 21:20:00  \n",
       "9 2016-02-01 17:30:00  "
      ]
     },
     "execution_count": 12,
     "metadata": {},
     "output_type": "execute_result"
    }
   ],
   "source": [
    "turns2"
   ]
  },
  {
   "cell_type": "code",
   "execution_count": 13,
   "metadata": {
    "collapsed": false
   },
   "outputs": [
    {
     "name": "stdout",
     "output_type": "stream",
     "text": [
      "New turns to allocate:  [ 1  2  3  4  5  6  7  8  9 10]\n",
      "Compatible gates for each turn\n",
      "1 ['A1' 'A3' 'B1']\n",
      "2 ['A1' 'B1']\n",
      "3 ['A1' 'A3' 'B1']\n",
      "4 ['A1' 'A2' 'A3' 'B1' 'C1' 'C2']\n",
      "5 ['A1' 'A2' 'A3' 'B1' 'C1' 'C2']\n",
      "6 ['A1' 'A2' 'A3' 'B1' 'C1' 'C2']\n",
      "7 ['A1' 'B1']\n",
      "8 ['A1' 'A2' 'A3' 'B1' 'C1' 'C2']\n",
      "9 ['A1' 'A2' 'A3' 'B1' 'C1' 'C2']\n",
      "10 ['A1' 'A2' 'A3' 'B1' 'C1' 'C2']\n"
     ]
    }
   ],
   "source": [
    "turn_list = turns2.turn_no.get_values()\n",
    "print(\"New turns to allocate: \", turn_list)\n",
    "\n",
    "compatible_gates = {}\n",
    "for idx, row in turns2.iterrows():\n",
    "    gates_lst = airport[airport.max_size >= row.plane_size].gate.get_values()\n",
    "    compatible_gates[row.turn_no] = gates_lst\n",
    "\n",
    "print(\"Compatible gates for each turn\")\n",
    "for k, v in compatible_gates.items():\n",
    "    print(k, v)"
   ]
  },
  {
   "cell_type": "code",
   "execution_count": 14,
   "metadata": {
    "collapsed": false
   },
   "outputs": [
    {
     "data": {
      "text/html": [
       "<div>\n",
       "<table border=\"1\" class=\"dataframe\">\n",
       "  <thead>\n",
       "    <tr style=\"text-align: right;\">\n",
       "      <th></th>\n",
       "      <th>1</th>\n",
       "      <th>2</th>\n",
       "      <th>3</th>\n",
       "      <th>4</th>\n",
       "      <th>5</th>\n",
       "      <th>6</th>\n",
       "      <th>7</th>\n",
       "      <th>8</th>\n",
       "      <th>9</th>\n",
       "      <th>10</th>\n",
       "    </tr>\n",
       "  </thead>\n",
       "  <tbody>\n",
       "    <tr>\n",
       "      <th>06:05:00</th>\n",
       "      <td>1</td>\n",
       "      <td>1</td>\n",
       "      <td>0</td>\n",
       "      <td>0</td>\n",
       "      <td>0</td>\n",
       "      <td>0</td>\n",
       "      <td>0</td>\n",
       "      <td>0</td>\n",
       "      <td>0</td>\n",
       "      <td>0</td>\n",
       "    </tr>\n",
       "    <tr>\n",
       "      <th>06:10:00</th>\n",
       "      <td>1</td>\n",
       "      <td>1</td>\n",
       "      <td>0</td>\n",
       "      <td>0</td>\n",
       "      <td>0</td>\n",
       "      <td>0</td>\n",
       "      <td>0</td>\n",
       "      <td>0</td>\n",
       "      <td>0</td>\n",
       "      <td>0</td>\n",
       "    </tr>\n",
       "    <tr>\n",
       "      <th>06:15:00</th>\n",
       "      <td>1</td>\n",
       "      <td>1</td>\n",
       "      <td>0</td>\n",
       "      <td>0</td>\n",
       "      <td>0</td>\n",
       "      <td>0</td>\n",
       "      <td>0</td>\n",
       "      <td>0</td>\n",
       "      <td>0</td>\n",
       "      <td>0</td>\n",
       "    </tr>\n",
       "    <tr>\n",
       "      <th>06:20:00</th>\n",
       "      <td>1</td>\n",
       "      <td>1</td>\n",
       "      <td>0</td>\n",
       "      <td>0</td>\n",
       "      <td>0</td>\n",
       "      <td>0</td>\n",
       "      <td>0</td>\n",
       "      <td>0</td>\n",
       "      <td>0</td>\n",
       "      <td>0</td>\n",
       "    </tr>\n",
       "    <tr>\n",
       "      <th>06:25:00</th>\n",
       "      <td>1</td>\n",
       "      <td>1</td>\n",
       "      <td>0</td>\n",
       "      <td>0</td>\n",
       "      <td>0</td>\n",
       "      <td>0</td>\n",
       "      <td>0</td>\n",
       "      <td>0</td>\n",
       "      <td>0</td>\n",
       "      <td>0</td>\n",
       "    </tr>\n",
       "  </tbody>\n",
       "</table>\n",
       "</div>"
      ],
      "text/plain": [
       "          1   2   3   4   5   6   7   8   9   10\n",
       "06:05:00   1   1   0   0   0   0   0   0   0   0\n",
       "06:10:00   1   1   0   0   0   0   0   0   0   0\n",
       "06:15:00   1   1   0   0   0   0   0   0   0   0\n",
       "06:20:00   1   1   0   0   0   0   0   0   0   0\n",
       "06:25:00   1   1   0   0   0   0   0   0   0   0"
      ]
     },
     "execution_count": 14,
     "metadata": {},
     "output_type": "execute_result"
    }
   ],
   "source": [
    "# Let's see how many planes we have at any one time\n",
    "# We want to reshape our data to have an index of e.g 5 min intervals\n",
    "# Columns are binary variables corresponding to whether the turn is at the airport\n",
    "\n",
    "# Using discrete time-buckets\n",
    "min_bucket=5\n",
    "\n",
    "# Create time-series between arrival of first plane and departure of last\n",
    "time_series = pd.Series(True, index= pd.date_range(\n",
    "        start=turns2.inbound_arrival.min(),\n",
    "        end=turns2.outbound_departure.max(),\n",
    "        freq=pd.offsets.Minute(min_bucket)))\n",
    "    \n",
    "# Truncate full time-series to [inbound_arrival, outbound_departure]\n",
    "def trunc_ts(series):\n",
    "    return time_series.truncate(series['inbound_arrival'], series['outbound_departure'])\n",
    "    \n",
    "heatmapdf = turns2.apply(trunc_ts, axis=1).T\n",
    "    \n",
    "# Convert columns from index to turn_no\n",
    "heatmapdf.columns = turns2['turn_no'].get_values()\n",
    "# Cast to integer\n",
    "heatmapdf = heatmapdf.fillna(0).astype(int)\n",
    "heatmapdf.index = heatmapdf.index.time\n",
    "\n",
    "heatmapdf.head()"
   ]
  },
  {
   "cell_type": "code",
   "execution_count": 15,
   "metadata": {
    "collapsed": false
   },
   "outputs": [
    {
     "data": {
      "text/html": [
       "<div>\n",
       "<table border=\"1\" class=\"dataframe\">\n",
       "  <thead>\n",
       "    <tr style=\"text-align: right;\">\n",
       "      <th></th>\n",
       "      <th>1</th>\n",
       "      <th>2</th>\n",
       "      <th>3</th>\n",
       "      <th>4</th>\n",
       "      <th>5</th>\n",
       "      <th>6</th>\n",
       "      <th>7</th>\n",
       "      <th>8</th>\n",
       "      <th>9</th>\n",
       "      <th>10</th>\n",
       "    </tr>\n",
       "  </thead>\n",
       "  <tbody>\n",
       "    <tr>\n",
       "      <th>06:05:00</th>\n",
       "      <td>1</td>\n",
       "      <td>1</td>\n",
       "      <td>0</td>\n",
       "      <td>0</td>\n",
       "      <td>0</td>\n",
       "      <td>0</td>\n",
       "      <td>0</td>\n",
       "      <td>0</td>\n",
       "      <td>0</td>\n",
       "      <td>0</td>\n",
       "    </tr>\n",
       "    <tr>\n",
       "      <th>06:10:00</th>\n",
       "      <td>1</td>\n",
       "      <td>1</td>\n",
       "      <td>0</td>\n",
       "      <td>0</td>\n",
       "      <td>0</td>\n",
       "      <td>0</td>\n",
       "      <td>0</td>\n",
       "      <td>0</td>\n",
       "      <td>0</td>\n",
       "      <td>0</td>\n",
       "    </tr>\n",
       "    <tr>\n",
       "      <th>06:15:00</th>\n",
       "      <td>1</td>\n",
       "      <td>1</td>\n",
       "      <td>0</td>\n",
       "      <td>0</td>\n",
       "      <td>0</td>\n",
       "      <td>0</td>\n",
       "      <td>0</td>\n",
       "      <td>0</td>\n",
       "      <td>0</td>\n",
       "      <td>0</td>\n",
       "    </tr>\n",
       "    <tr>\n",
       "      <th>06:20:00</th>\n",
       "      <td>1</td>\n",
       "      <td>1</td>\n",
       "      <td>0</td>\n",
       "      <td>0</td>\n",
       "      <td>0</td>\n",
       "      <td>0</td>\n",
       "      <td>0</td>\n",
       "      <td>0</td>\n",
       "      <td>0</td>\n",
       "      <td>0</td>\n",
       "    </tr>\n",
       "    <tr>\n",
       "      <th>06:25:00</th>\n",
       "      <td>1</td>\n",
       "      <td>1</td>\n",
       "      <td>0</td>\n",
       "      <td>0</td>\n",
       "      <td>0</td>\n",
       "      <td>0</td>\n",
       "      <td>0</td>\n",
       "      <td>0</td>\n",
       "      <td>0</td>\n",
       "      <td>0</td>\n",
       "    </tr>\n",
       "  </tbody>\n",
       "</table>\n",
       "</div>"
      ],
      "text/plain": [
       "          1   2   3   4   5   6   7   8   9   10\n",
       "06:05:00   1   1   0   0   0   0   0   0   0   0\n",
       "06:10:00   1   1   0   0   0   0   0   0   0   0\n",
       "06:15:00   1   1   0   0   0   0   0   0   0   0\n",
       "06:20:00   1   1   0   0   0   0   0   0   0   0\n",
       "06:25:00   1   1   0   0   0   0   0   0   0   0"
      ]
     },
     "execution_count": 15,
     "metadata": {},
     "output_type": "execute_result"
    }
   ],
   "source": [
    "# Only care about overlaps\n",
    "# If gate only has one turn then don't need constraint that it must have one turn ...\n",
    "heatmapdf['tot'] = heatmapdf.sum(axis=1)\n",
    "heatmapdf = heatmapdf[heatmapdf.tot > 1]\n",
    "heatmapdf.drop(['tot'], axis=1, inplace=True)\n",
    "heatmapdf.head()"
   ]
  },
  {
   "cell_type": "code",
   "execution_count": 16,
   "metadata": {
    "collapsed": false
   },
   "outputs": [
    {
     "data": {
      "image/png": "[encoded data removed]",
      "text/plain": [
       "<matplotlib.figure.Figure at 0x182117ac828>"
      ]
     },
     "metadata": {},
     "output_type": "display_data"
    }
   ],
   "source": [
    "# Plot the turns in the airport\n",
    "sns.set()\n",
    "plt.figure(figsize=(20, 10))\n",
    "\n",
    "snsdf = heatmapdf.T\n",
    "g = sns.heatmap(snsdf, rasterized=True, xticklabels=10, linewidths=1)"
   ]
  },
  {
   "cell_type": "code",
   "execution_count": 17,
   "metadata": {
    "collapsed": false
   },
   "outputs": [
    {
     "data": {
      "text/html": [
       "<div>\n",
       "<table border=\"1\" class=\"dataframe\">\n",
       "  <thead>\n",
       "    <tr style=\"text-align: right;\">\n",
       "      <th></th>\n",
       "      <th>1</th>\n",
       "      <th>2</th>\n",
       "      <th>3</th>\n",
       "      <th>4</th>\n",
       "      <th>5</th>\n",
       "      <th>6</th>\n",
       "      <th>7</th>\n",
       "      <th>8</th>\n",
       "      <th>9</th>\n",
       "      <th>10</th>\n",
       "    </tr>\n",
       "  </thead>\n",
       "  <tbody>\n",
       "    <tr>\n",
       "      <th>06:05:00</th>\n",
       "      <td>1</td>\n",
       "      <td>1</td>\n",
       "      <td>0</td>\n",
       "      <td>0</td>\n",
       "      <td>0</td>\n",
       "      <td>0</td>\n",
       "      <td>0</td>\n",
       "      <td>0</td>\n",
       "      <td>0</td>\n",
       "      <td>0</td>\n",
       "    </tr>\n",
       "    <tr>\n",
       "      <th>09:10:00</th>\n",
       "      <td>0</td>\n",
       "      <td>0</td>\n",
       "      <td>1</td>\n",
       "      <td>1</td>\n",
       "      <td>1</td>\n",
       "      <td>0</td>\n",
       "      <td>0</td>\n",
       "      <td>0</td>\n",
       "      <td>0</td>\n",
       "      <td>0</td>\n",
       "    </tr>\n",
       "    <tr>\n",
       "      <th>12:15:00</th>\n",
       "      <td>0</td>\n",
       "      <td>0</td>\n",
       "      <td>1</td>\n",
       "      <td>1</td>\n",
       "      <td>1</td>\n",
       "      <td>1</td>\n",
       "      <td>1</td>\n",
       "      <td>0</td>\n",
       "      <td>0</td>\n",
       "      <td>0</td>\n",
       "    </tr>\n",
       "    <tr>\n",
       "      <th>13:15:00</th>\n",
       "      <td>0</td>\n",
       "      <td>0</td>\n",
       "      <td>1</td>\n",
       "      <td>0</td>\n",
       "      <td>1</td>\n",
       "      <td>1</td>\n",
       "      <td>1</td>\n",
       "      <td>0</td>\n",
       "      <td>0</td>\n",
       "      <td>0</td>\n",
       "    </tr>\n",
       "    <tr>\n",
       "      <th>15:15:00</th>\n",
       "      <td>0</td>\n",
       "      <td>0</td>\n",
       "      <td>0</td>\n",
       "      <td>0</td>\n",
       "      <td>1</td>\n",
       "      <td>1</td>\n",
       "      <td>1</td>\n",
       "      <td>0</td>\n",
       "      <td>0</td>\n",
       "      <td>0</td>\n",
       "    </tr>\n",
       "  </tbody>\n",
       "</table>\n",
       "</div>"
      ],
      "text/plain": [
       "          1   2   3   4   5   6   7   8   9   10\n",
       "06:05:00   1   1   0   0   0   0   0   0   0   0\n",
       "09:10:00   0   0   1   1   1   0   0   0   0   0\n",
       "12:15:00   0   0   1   1   1   1   1   0   0   0\n",
       "13:15:00   0   0   1   0   1   1   1   0   0   0\n",
       "15:15:00   0   0   0   0   1   1   1   0   0   0"
      ]
     },
     "execution_count": 17,
     "metadata": {},
     "output_type": "execute_result"
    }
   ],
   "source": [
    "# We don't need duplicate constraints (at different time buckets)\n",
    "heatmapdf = heatmapdf.drop_duplicates()\n",
    "heatmapdf.head()"
   ]
  },
  {
   "cell_type": "code",
   "execution_count": 18,
   "metadata": {
    "collapsed": false
   },
   "outputs": [],
   "source": [
    "# 0. Initialise model\n",
    "prob = LpProblem(\"Airport Gate Allocation\", LpMinimize)  # minimize cost\n",
    "\n",
    "# 1. Objective Function (ignore for now)\n",
    "prob += 0\n",
    "\n",
    "# 2. Variable: x[i,j] = (0,1)\n",
    "# Binary = turn_i allocated to gate_j\n",
    "x = {}\n",
    "for t in turn_list:\n",
    "    for g in compatible_gates[t]:\n",
    "        x[t, g] = LpVariable(\"t%i_g%s\" % (t, g), 0, 1, LpBinary)\n",
    "\n",
    "# 3. Constraints\n",
    "# i. Each turn must be assigned to one (compatible) gate\n",
    "for t in turn_list:\n",
    "    prob += lpSum(x[t, g] for g in gate_list if (t, g) in x) == 1"
   ]
  },
  {
   "cell_type": "markdown",
   "metadata": {},
   "source": [
    "Instead of:\n",
    "    \n",
    "```\n",
    "t10_gA1 + t1_gA1 + t2_gA1 + t3_gA1 + t4_gA1 + t5_gA1 + t6_gA1 + t7_gA1 + t8_gA1 + t9_gA1 <= 1\n",
    "t10_gA2 + t1_gA2 + t2_gA2 + t3_gA2 + t4_gA2 + t5_gA2 + t6_gA2 + t7_gA2 + t8_gA2 + t9_gA2 <= 1\n",
    "t10_gA3 + t1_gA3 + t2_gA3 + t3_gA3 + t4_gA3 + t5_gA3 + t6_gA3 + t7_gA3 + t8_gA3 + t9_gA3 <= 1\n",
    "t10_gB1 + t1_gB1 + t2_gB1 + t3_gB1 + t4_gB1 + t5_gB1 + t6_gB1 + t7_gB1 + t8_gB1 + t9_gB1 <= 1\n",
    "t10_gC1 + t1_gC1 + t2_gC1 + t3_gC1 + t4_gC1 + t5_gC1 + t6_gC1 + t7_gC1 + t8_gC1 + t9_gC1 <= 1\n",
    "t10_gC2 + t1_gC2 + t2_gC2 + t3_gC2 + t4_gC2 + t5_gC2 + t6_gC2 + t7_gC2 + t8_gC2 + t9_gC2 <= 1\n",
    "```\n",
    "\n",
    "We can relax the constraint"
   ]
  },
  {
   "cell_type": "code",
   "execution_count": 19,
   "metadata": {
    "collapsed": false
   },
   "outputs": [
    {
     "name": "stdout",
     "output_type": "stream",
     "text": [
      "06:05:00 : t1_gA1 + t2_gA1 <= 1\n",
      "06:05:00 : t1_gB1 + t2_gB1 <= 1\n",
      "09:10:00 : t3_gA1 + t4_gA1 + t5_gA1 <= 1\n",
      "09:10:00 : t4_gA2 + t5_gA2 <= 1\n",
      "09:10:00 : t3_gA3 + t4_gA3 + t5_gA3 <= 1\n",
      "09:10:00 : t3_gB1 + t4_gB1 + t5_gB1 <= 1\n",
      "09:10:00 : t4_gC1 + t5_gC1 <= 1\n",
      "09:10:00 : t4_gC2 + t5_gC2 <= 1\n",
      "12:15:00 : t3_gA1 + t4_gA1 + t5_gA1 + t6_gA1 + t7_gA1 <= 1\n",
      "12:15:00 : t4_gA2 + t5_gA2 + t6_gA2 <= 1\n",
      "12:15:00 : t3_gA3 + t4_gA3 + t5_gA3 + t6_gA3 <= 1\n",
      "12:15:00 : t3_gB1 + t4_gB1 + t5_gB1 + t6_gB1 + t7_gB1 <= 1\n",
      "12:15:00 : t4_gC1 + t5_gC1 + t6_gC1 <= 1\n",
      "12:15:00 : t4_gC2 + t5_gC2 + t6_gC2 <= 1\n",
      "13:15:00 : t3_gA1 + t5_gA1 + t6_gA1 + t7_gA1 <= 1\n",
      "13:15:00 : t5_gA2 + t6_gA2 <= 1\n",
      "13:15:00 : t3_gA3 + t5_gA3 + t6_gA3 <= 1\n",
      "13:15:00 : t3_gB1 + t5_gB1 + t6_gB1 + t7_gB1 <= 1\n",
      "13:15:00 : t5_gC1 + t6_gC1 <= 1\n",
      "13:15:00 : t5_gC2 + t6_gC2 <= 1\n",
      "15:15:00 : t5_gA1 + t6_gA1 + t7_gA1 <= 1\n",
      "15:15:00 : t5_gA2 + t6_gA2 <= 1\n",
      "15:15:00 : t5_gA3 + t6_gA3 <= 1\n",
      "15:15:00 : t5_gB1 + t6_gB1 + t7_gB1 <= 1\n",
      "15:15:00 : t5_gC1 + t6_gC1 <= 1\n",
      "15:15:00 : t5_gC2 + t6_gC2 <= 1\n",
      "15:20:00 : t5_gA1 + t8_gA1 <= 1\n",
      "15:20:00 : t5_gA2 + t8_gA2 <= 1\n",
      "15:20:00 : t5_gA3 + t8_gA3 <= 1\n",
      "15:20:00 : t5_gB1 + t8_gB1 <= 1\n",
      "15:20:00 : t5_gC1 + t8_gC1 <= 1\n",
      "15:20:00 : t5_gC2 + t8_gC2 <= 1\n",
      "16:20:00 : t5_gA1 + t8_gA1 + t9_gA1 <= 1\n",
      "16:20:00 : t5_gA2 + t8_gA2 + t9_gA2 <= 1\n",
      "16:20:00 : t5_gA3 + t8_gA3 + t9_gA3 <= 1\n",
      "16:20:00 : t5_gB1 + t8_gB1 + t9_gB1 <= 1\n",
      "16:20:00 : t5_gC1 + t8_gC1 + t9_gC1 <= 1\n",
      "16:20:00 : t5_gC2 + t8_gC2 + t9_gC2 <= 1\n",
      "16:30:00 : t10_gA1 + t5_gA1 + t8_gA1 + t9_gA1 <= 1\n",
      "16:30:00 : t10_gA2 + t5_gA2 + t8_gA2 + t9_gA2 <= 1\n",
      "16:30:00 : t10_gA3 + t5_gA3 + t8_gA3 + t9_gA3 <= 1\n",
      "16:30:00 : t10_gB1 + t5_gB1 + t8_gB1 + t9_gB1 <= 1\n",
      "16:30:00 : t10_gC1 + t5_gC1 + t8_gC1 + t9_gC1 <= 1\n",
      "16:30:00 : t10_gC2 + t5_gC2 + t8_gC2 + t9_gC2 <= 1\n",
      "17:15:00 : t10_gA1 + t8_gA1 + t9_gA1 <= 1\n",
      "17:15:00 : t10_gA2 + t8_gA2 + t9_gA2 <= 1\n",
      "17:15:00 : t10_gA3 + t8_gA3 + t9_gA3 <= 1\n",
      "17:15:00 : t10_gB1 + t8_gB1 + t9_gB1 <= 1\n",
      "17:15:00 : t10_gC1 + t8_gC1 + t9_gC1 <= 1\n",
      "17:15:00 : t10_gC2 + t8_gC2 + t9_gC2 <= 1\n",
      "17:35:00 : t8_gA1 + t9_gA1 <= 1\n",
      "17:35:00 : t8_gA2 + t9_gA2 <= 1\n",
      "17:35:00 : t8_gA3 + t9_gA3 <= 1\n",
      "17:35:00 : t8_gB1 + t9_gB1 <= 1\n",
      "17:35:00 : t8_gC1 + t9_gC1 <= 1\n",
      "17:35:00 : t8_gC2 + t9_gC2 <= 1\n"
     ]
    }
   ],
   "source": [
    "# ii. Gates cannot have more than one turn/plane per time_bucket\n",
    "for idx, row in heatmapdf.iterrows():\n",
    "    # Get all the turns for time-bucket\n",
    "    turns_in_time_bucket = set(dict(row[row==1]).keys())\n",
    "    # For all gates\n",
    "    for g in gate_list:\n",
    "        # Constraints may be blank\n",
    "        cons = [x[t, g] for t in turns_in_time_bucket if (t, g) in x]\n",
    "        # Only need to impose constraint if there is an overlap\n",
    "        if len(cons) > 1:\n",
    "            constraint_for_time_bucket = lpSum(cons) <= 1\n",
    "            # These will occur when the plane overlaps change\n",
    "            print(row.name, \":\", constraint_for_time_bucket)\n",
    "            prob += constraint_for_time_bucket"
   ]
  },
  {
   "cell_type": "code",
   "execution_count": 20,
   "metadata": {
    "collapsed": false
   },
   "outputs": [
    {
     "name": "stdout",
     "output_type": "stream",
     "text": [
      "Status:  Optimal\n",
      "Minimised Cost:  None\n"
     ]
    }
   ],
   "source": [
    "# Solve\n",
    "prob.solve()\n",
    "\n",
    "# Report\n",
    "print(\"Status: \", LpStatus[prob.status])\n",
    "print(\"Minimised Cost: \", value(prob.objective))"
   ]
  },
  {
   "cell_type": "code",
   "execution_count": 21,
   "metadata": {
    "collapsed": false
   },
   "outputs": [],
   "source": [
    "# Create a function that we can call to visualise\n",
    "def plot_gantt_chart(allocated_turns, lp_variable_outcomes, min_bucket=5):\n",
    "    \n",
    "    # Assign gate\n",
    "    for alloc in lp_variable_outcomes:\n",
    "        if lp_variable_outcomes[alloc].varValue:\n",
    "            allocated_turns.set_value(allocated_turns['turn_no'] == alloc[0], 'gate', alloc[-1])\n",
    "                \n",
    "    # Create time-series between arrival of first plane and departure of last\n",
    "    time_series = pd.Series(True, index= pd.date_range(\n",
    "            start=turns2.inbound_arrival.min(),\n",
    "            end=turns2.outbound_departure.max(),\n",
    "            freq=pd.offsets.Minute(min_bucket)))\n",
    "\n",
    "    # Truncate full time-series to [inbound_arrival, outbound_departure]\n",
    "    def trunc_ts(series):\n",
    "        return time_series.truncate(series['inbound_arrival'], series['outbound_departure'])\n",
    "\n",
    "    # Allocations heat-map\n",
    "    allocheatmapdf = allocated_turns.apply(trunc_ts, axis=1).T\n",
    "    allocheatmapdf.columns = allocated_turns['turn_no'].get_values()\n",
    "    allocheatmapdf = allocheatmapdf.fillna(0).astype(int)\n",
    "    allocheatmapdf.index = allocheatmapdf.index.time\n",
    "    \n",
    "    # Replace values with col-names\n",
    "    for col in list(allocheatmapdf.columns):\n",
    "        allocheatmapdf.loc[allocheatmapdf[col] > 0, col] = col\n",
    "          \n",
    "    # Columns are now stands\n",
    "    allocheatmapdf.columns = allocated_turns['gate'].get_values()  \n",
    "    trans = allocheatmapdf.T\n",
    "\n",
    "    # These will never overlap given the constraints\n",
    "    plt_df = trans.groupby(trans.index).sum()\n",
    "\n",
    "    # Plot\n",
    "    sns.set()\n",
    "    plt.figure(figsize=(20, 10))\n",
    "    g = sns.heatmap(plt_df, xticklabels=10, cmap='nipy_spectral')"
   ]
  },
  {
   "cell_type": "code",
   "execution_count": 22,
   "metadata": {
    "collapsed": false,
    "scrolled": false
   },
   "outputs": [
    {
     "data": {
      "image/png": "[encoded data removed]",
      "text/plain": [
       "<matplotlib.figure.Figure at 0x182117ac8d0>"
      ]
     },
     "metadata": {},
     "output_type": "display_data"
    }
   ],
   "source": [
    "# Plot turn-gate assignment\n",
    "plot_gantt_chart(allocated_turns=turns2, lp_variable_outcomes=x)"
   ]
  },
  {
   "cell_type": "code",
   "execution_count": 23,
   "metadata": {
    "collapsed": false
   },
   "outputs": [
    {
     "name": "stdout",
     "output_type": "stream",
     "text": [
      "Turn 4 assigned to gate C1\n",
      "Turn 3 assigned to gate A1\n",
      "Turn 8 assigned to gate A1\n",
      "Turn 7 assigned to gate B1\n",
      "Turn 10 assigned to gate C2\n",
      "Turn 5 assigned to gate A3\n",
      "Turn 6 assigned to gate A2\n",
      "Turn 2 assigned to gate B1\n",
      "Turn 1 assigned to gate A3\n",
      "Turn 9 assigned to gate A2\n"
     ]
    }
   ],
   "source": [
    "# Remind ourselves of the allocations:\n",
    "for alloc in x:\n",
    "    if x[alloc].varValue:\n",
    "        print(\"Turn %i assigned to gate %s\" % (alloc[0], alloc[-1]))"
   ]
  },
  {
   "cell_type": "markdown",
   "metadata": {},
   "source": [
    "## Model D - More Implicit Constraints (occupancy of stands)"
   ]
  },
  {
   "cell_type": "markdown",
   "metadata": {},
   "source": [
    "There could be two ways that a gate is not compatible:\n",
    "\n",
    "1. The plane is not the correct size for the gate\n",
    "2. The gate is already occupied\n",
    "\n",
    "Previously we assumed we were landing in an empty airport\n",
    "\n",
    "However some stands may be taken ..."
   ]
  },
  {
   "cell_type": "code",
   "execution_count": 24,
   "metadata": {
    "collapsed": false
   },
   "outputs": [
    {
     "data": {
      "text/html": [
       "<div>\n",
       "<table border=\"1\" class=\"dataframe\">\n",
       "  <thead>\n",
       "    <tr style=\"text-align: right;\">\n",
       "      <th></th>\n",
       "      <th>gate</th>\n",
       "      <th>occupied_from</th>\n",
       "      <th>occupied_to</th>\n",
       "    </tr>\n",
       "  </thead>\n",
       "  <tbody>\n",
       "    <tr>\n",
       "      <th>0</th>\n",
       "      <td>A3</td>\n",
       "      <td>2016-02-01 15:15:00</td>\n",
       "      <td>2016-02-01 19:15:00</td>\n",
       "    </tr>\n",
       "    <tr>\n",
       "      <th>1</th>\n",
       "      <td>A2</td>\n",
       "      <td>2016-02-01 13:15:00</td>\n",
       "      <td>2016-02-01 14:15:00</td>\n",
       "    </tr>\n",
       "  </tbody>\n",
       "</table>\n",
       "</div>"
      ],
      "text/plain": [
       "  gate       occupied_from         occupied_to\n",
       "0   A3 2016-02-01 15:15:00 2016-02-01 19:15:00\n",
       "1   A2 2016-02-01 13:15:00 2016-02-01 14:15:00"
      ]
     },
     "execution_count": 24,
     "metadata": {},
     "output_type": "execute_result"
    }
   ],
   "source": [
    "occupancy = pd.DataFrame({\n",
    "    'gate':['A3', 'A2'],\n",
    "    'occupied_from':pd.to_datetime([\"02/01/2016 15:15\", \"02/01/2016 13:15\"]),\n",
    "    'occupied_to':pd.to_datetime([\"02/01/2016 19:15\", \"02/01/2016 14:15\"]),\n",
    "    }, columns=['gate', 'occupied_from', 'occupied_to'])\n",
    "\n",
    "occupancy"
   ]
  },
  {
   "cell_type": "code",
   "execution_count": 25,
   "metadata": {
    "collapsed": false
   },
   "outputs": [
    {
     "name": "stdout",
     "output_type": "stream",
     "text": [
      "Created variable for gate A1 for turn 1\n",
      "Created variable for gate A3 for turn 1\n",
      "Created variable for gate B1 for turn 1\n",
      "Created variable for gate A1 for turn 2\n",
      "Created variable for gate B1 for turn 2\n",
      "Created variable for gate A1 for turn 3\n",
      "Created variable for gate A3 for turn 3\n",
      "Created variable for gate B1 for turn 3\n",
      "Created variable for gate A1 for turn 4\n",
      "Created variable for gate A2 for turn 4\n",
      "Created variable for gate A3 for turn 4\n",
      "Created variable for gate B1 for turn 4\n",
      "Created variable for gate C1 for turn 4\n",
      "Created variable for gate C2 for turn 4\n",
      "Created variable for gate A1 for turn 5\n",
      "Gate A2 is occupied during time of Turn 5\n",
      "Gate A3 is occupied during time of Turn 5\n",
      "Created variable for gate B1 for turn 5\n",
      "Created variable for gate C1 for turn 5\n",
      "Created variable for gate C2 for turn 5\n",
      "Created variable for gate A1 for turn 6\n",
      "Gate A2 is occupied during time of Turn 6\n",
      "Gate A3 is occupied during time of Turn 6\n",
      "Created variable for gate B1 for turn 6\n",
      "Created variable for gate C1 for turn 6\n",
      "Created variable for gate C2 for turn 6\n",
      "Created variable for gate A1 for turn 7\n",
      "Created variable for gate B1 for turn 7\n",
      "Created variable for gate A1 for turn 8\n",
      "Created variable for gate A2 for turn 8\n",
      "Gate A3 is occupied during time of Turn 8\n",
      "Created variable for gate B1 for turn 8\n",
      "Created variable for gate C1 for turn 8\n",
      "Created variable for gate C2 for turn 8\n",
      "Created variable for gate A1 for turn 9\n",
      "Created variable for gate A2 for turn 9\n",
      "Gate A3 is occupied during time of Turn 9\n",
      "Created variable for gate B1 for turn 9\n",
      "Created variable for gate C1 for turn 9\n",
      "Created variable for gate C2 for turn 9\n",
      "Created variable for gate A1 for turn 10\n",
      "Created variable for gate A2 for turn 10\n",
      "Gate A3 is occupied during time of Turn 10\n",
      "Created variable for gate B1 for turn 10\n",
      "Created variable for gate C1 for turn 10\n",
      "Created variable for gate C2 for turn 10\n",
      "Status:  Optimal\n",
      "Minimised Cost:  None\n",
      "Turn 4 assigned to gate A2\n",
      "Turn 2 assigned to gate B1\n",
      "Turn 5 assigned to gate C2\n",
      "Turn 6 assigned to gate C1\n",
      "Turn 1 assigned to gate A3\n",
      "Turn 10 assigned to gate C1\n",
      "Turn 9 assigned to gate A2\n",
      "Turn 8 assigned to gate B1\n",
      "Turn 3 assigned to gate A1\n",
      "Turn 7 assigned to gate B1\n"
     ]
    }
   ],
   "source": [
    "# 0. Initialise model\n",
    "prob = LpProblem(\"Airport Gate Allocation\", LpMinimize)  # minimize cost\n",
    "\n",
    "# 1. Objective Function (ignore for now)\n",
    "prob += 0\n",
    "\n",
    "# 2. Variable: x[i,j] = (0,1)\n",
    "# Binary = turn_i allocated to gate_j\n",
    "x = {}\n",
    "for t in turn_list:\n",
    "    # For compatible gates\n",
    "    for g in compatible_gates[t]:\n",
    "        if g in occupancy.gate.get_values():\n",
    "            \n",
    "            t_dep = turns2.loc[turns2['turn_no']== t, 'outbound_departure'].values[0]\n",
    "            t_arr = turns2.loc[turns2['turn_no']== t, 'inbound_arrival'].values[0]\n",
    "            oc_from = occupancy.loc[occupancy['gate']== g, 'occupied_from'].values[0]\n",
    "            oc_to = occupancy.loc[occupancy['gate']== g, 'occupied_to'].values[0]\n",
    "            \n",
    "            if (oc_to >= t_arr) and (oc_from <= t_dep):\n",
    "                print(\"Gate %s is occupied during time of Turn %d\"  % (g, t))\n",
    "                continue\n",
    "                \n",
    "        # Gate not occupied so create variable\n",
    "        x[t, g] = LpVariable(\"t%i_g%s\" % (t, g), 0, 1, LpBinary)\n",
    "        print(\"Created variable for gate %s for turn %d\" % (g, t))\n",
    "\n",
    "# 3. Constraints\n",
    "# i. Each turn must be assigned to one compatible gate\n",
    "for t in turn_list:\n",
    "    prob += lpSum(x[t, g] for g in gate_list if (t, g) in x) == 1\n",
    "    \n",
    "# ii. Gates cannot have more than one turn/plane per time_bucket\n",
    "for idx, row in heatmapdf.iterrows():\n",
    "    # Get all the turns for time-bucket\n",
    "    turns_in_time_bucket = set(dict(row[row==1]).keys())\n",
    "    # For all gates\n",
    "    for g in gate_list:\n",
    "        # Constraints may be blank\n",
    "        cons = [x[t, g] for t in turns_in_time_bucket if (t, g) in x]\n",
    "        if len(cons) > 1:\n",
    "            constraint_for_time_bucket = lpSum(cons) <= 1\n",
    "            # These will occur when the plane overlaps change\n",
    "            prob += constraint_for_time_bucket\n",
    "            \n",
    "# Solve\n",
    "prob.solve()\n",
    "\n",
    "# Report\n",
    "print(\"Status: \", LpStatus[prob.status])\n",
    "print(\"Minimised Cost: \", value(prob.objective))\n",
    "\n",
    "for alloc in x:\n",
    "    if x[alloc].varValue:\n",
    "        print(\"Turn %i assigned to gate %s\" % (alloc[0], alloc[-1]))        "
   ]
  },
  {
   "cell_type": "code",
   "execution_count": 26,
   "metadata": {
    "collapsed": false
   },
   "outputs": [
    {
     "data": {
      "image/png": "[encoded data removed]",
      "text/plain": [
       "<matplotlib.figure.Figure at 0x18211892860>"
      ]
     },
     "metadata": {},
     "output_type": "display_data"
    }
   ],
   "source": [
    "# Visualise outcome\n",
    "plot_gantt_chart(turns2, x)\n",
    "\n",
    "# We can see a quiet period during the blockage"
   ]
  },
  {
   "cell_type": "markdown",
   "metadata": {},
   "source": [
    "## Model E - Explicit Constraints"
   ]
  },
  {
   "cell_type": "code",
   "execution_count": 27,
   "metadata": {
    "collapsed": false
   },
   "outputs": [
    {
     "name": "stdout",
     "output_type": "stream",
     "text": [
      "Created variable for gate A1 for turn 1\n",
      "Created variable for gate A3 for turn 1\n",
      "Created variable for gate B1 for turn 1\n",
      "Created variable for gate A1 for turn 2\n",
      "Created variable for gate B1 for turn 2\n",
      "Created variable for gate A1 for turn 3\n",
      "Created variable for gate A3 for turn 3\n",
      "Created variable for gate B1 for turn 3\n",
      "Created variable for gate A1 for turn 4\n",
      "Created variable for gate A2 for turn 4\n",
      "Created variable for gate A3 for turn 4\n",
      "Created variable for gate B1 for turn 4\n",
      "Created variable for gate C1 for turn 4\n",
      "Created variable for gate C2 for turn 4\n",
      "Created variable for gate A1 for turn 5\n",
      "Gate A2 is occupied during time of Turn 5\n",
      "Gate A3 is occupied during time of Turn 5\n",
      "Created variable for gate B1 for turn 5\n",
      "Created variable for gate C1 for turn 5\n",
      "Created variable for gate C2 for turn 5\n",
      "Created variable for gate A1 for turn 6\n",
      "Gate A2 is occupied during time of Turn 6\n",
      "Gate A3 is occupied during time of Turn 6\n",
      "Created variable for gate B1 for turn 6\n",
      "Created variable for gate C1 for turn 6\n",
      "Created variable for gate C2 for turn 6\n",
      "Created variable for gate A1 for turn 7\n",
      "Created variable for gate B1 for turn 7\n",
      "Created variable for gate A1 for turn 8\n",
      "Created variable for gate A2 for turn 8\n",
      "Gate A3 is occupied during time of Turn 8\n",
      "Created variable for gate B1 for turn 8\n",
      "Created variable for gate C1 for turn 8\n",
      "Created variable for gate C2 for turn 8\n",
      "Created variable for gate A1 for turn 9\n",
      "Created variable for gate A2 for turn 9\n",
      "Gate A3 is occupied during time of Turn 9\n",
      "Created variable for gate B1 for turn 9\n",
      "Created variable for gate C1 for turn 9\n",
      "Created variable for gate C2 for turn 9\n",
      "Created variable for gate A1 for turn 10\n",
      "Created variable for gate A2 for turn 10\n",
      "Gate A3 is occupied during time of Turn 10\n",
      "Created variable for gate B1 for turn 10\n",
      "Created variable for gate C1 for turn 10\n",
      "Created variable for gate C2 for turn 10\n"
     ]
    }
   ],
   "source": [
    "# Imagine we cannot use gate C1 for any turn, instead of removing the variable as before\n",
    "# We can add it as an explicit constraint\n",
    "# The below follows just like before:\n",
    "\n",
    "# 0. Initialise model\n",
    "prob = LpProblem(\"Airport Gate Allocation\", LpMinimize)  # minimize cost\n",
    "\n",
    "# 1. Objective Function (ignore for now)\n",
    "prob += 0\n",
    "\n",
    "# 2. Variable: x[i,j] = (0,1)\n",
    "# Binary = turn_i allocated to gate_j\n",
    "x = {}\n",
    "for t in turn_list:\n",
    "    # For compatible gates\n",
    "    for g in compatible_gates[t]:\n",
    "        if g in occupancy.gate.get_values():\n",
    "            \n",
    "            t_dep = turns2.loc[turns2['turn_no']== t, 'outbound_departure'].values[0]\n",
    "            t_arr = turns2.loc[turns2['turn_no']== t, 'inbound_arrival'].values[0]\n",
    "            oc_from = occupancy.loc[occupancy['gate']== g, 'occupied_from'].values[0]\n",
    "            oc_to = occupancy.loc[occupancy['gate']== g, 'occupied_to'].values[0]\n",
    "            \n",
    "            if (oc_to >= t_arr) and (oc_from <= t_dep):\n",
    "                print(\"Gate %s is occupied during time of Turn %d\"  % (g, t))\n",
    "                continue\n",
    "                \n",
    "        # Gate not occupied so create variable\n",
    "        x[t, g] = LpVariable(\"t%i_g%s\" % (t, g), 0, 1, LpBinary)\n",
    "        print(\"Created variable for gate %s for turn %d\" % (g, t))\n",
    "\n",
    "# 3. Constraints\n",
    "# i. Each turn must be assigned to one compatible gate\n",
    "for t in turn_list:\n",
    "    prob += lpSum(x[t, g] for g in gate_list if (t, g) in x) == 1\n",
    "    \n",
    "# ii. Gates cannot have more than one turn/plane per time_bucket\n",
    "for idx, row in heatmapdf.iterrows():\n",
    "    # Get all the turns for time-bucket\n",
    "    turns_in_time_bucket = set(dict(row[row==1]).keys())\n",
    "    # For all gates\n",
    "    for g in gate_list:\n",
    "        # Constraints may be blank\n",
    "        cons = [x[t, g] for t in turns_in_time_bucket if (t, g) in x]\n",
    "        if len(cons) > 1:\n",
    "            constraint_for_time_bucket = lpSum(cons) <= 1\n",
    "            # These will occur when the plane overlaps change\n",
    "            prob += constraint_for_time_bucket"
   ]
  },
  {
   "cell_type": "code",
   "execution_count": 28,
   "metadata": {
    "collapsed": false
   },
   "outputs": [
    {
     "name": "stdout",
     "output_type": "stream",
     "text": [
      "t10_gC1 + t4_gC1 + t5_gC1 + t6_gC1 + t8_gC1 + t9_gC1 = 0\n"
     ]
    }
   ],
   "source": [
    "# Explicit constraint\n",
    "# Close C1 ... we may wish to close a certain terminal like this for certain flights\n",
    "gate_closed = \"C1\"\n",
    "gate_closed_constraint = lpSum(x[t, gate_closed] for t in turn_list if (t, gate_closed) in x) == 0\n",
    "print(gate_closed_constraint)\n",
    "prob += gate_closed_constraint"
   ]
  },
  {
   "cell_type": "code",
   "execution_count": 29,
   "metadata": {
    "collapsed": false
   },
   "outputs": [
    {
     "name": "stdout",
     "output_type": "stream",
     "text": [
      "Status:  Optimal\n",
      "Minimised Cost:  None\n",
      "Turn 4 assigned to gate A2\n",
      "Turn 6 assigned to gate C2\n",
      "Turn 3 assigned to gate A3\n",
      "Turn 2 assigned to gate B1\n",
      "Turn 10 assigned to gate C2\n",
      "Turn 8 assigned to gate A2\n",
      "Turn 7 assigned to gate A1\n",
      "Turn 9 assigned to gate A1\n",
      "Turn 1 assigned to gate A3\n",
      "Turn 5 assigned to gate B1\n"
     ]
    }
   ],
   "source": [
    "# Solve\n",
    "prob.solve()\n",
    "\n",
    "# Report\n",
    "print(\"Status: \", LpStatus[prob.status])\n",
    "print(\"Minimised Cost: \", value(prob.objective))\n",
    "\n",
    "for alloc in x:\n",
    "    if x[alloc].varValue:\n",
    "        print(\"Turn %i assigned to gate %s\" % (alloc[0], alloc[-1]))  "
   ]
  },
  {
   "cell_type": "code",
   "execution_count": 30,
   "metadata": {
    "collapsed": false
   },
   "outputs": [
    {
     "data": {
      "image/png": "[encoded data removed]",
      "text/plain": [
       "<matplotlib.figure.Figure at 0x1820e218080>"
      ]
     },
     "metadata": {},
     "output_type": "display_data"
    }
   ],
   "source": [
    "# Visualise outcome\n",
    "plot_gantt_chart(turns2, x)"
   ]
  },
  {
   "cell_type": "code",
   "execution_count": 31,
   "metadata": {
    "collapsed": false
   },
   "outputs": [],
   "source": [
    "# Save for part 2\n",
    "pickle.dump(airport, open(\"airport.p\", \"wb\"))\n",
    "pickle.dump(turns2, open(\"turns2.p\", \"wb\"))\n",
    "pickle.dump(occupancy, open(\"occupancy.p\", \"wb\"))\n",
    "pickle.dump(heatmapdf, open(\"heatmapdf.p\", \"wb\"))"
   ]
  },
  {
   "cell_type": "code",
   "execution_count": null,
   "metadata": {
    "collapsed": true
   },
   "outputs": [],
   "source": []
  }
 ],
 "metadata": {
  "anaconda-cloud": {},
  "kernelspec": {
   "display_name": "Python [default]",
   "language": "python",
   "name": "python3"
  },
  "language_info": {
   "codemirror_mode": {
    "name": "ipython",
    "version": 3
   },
   "file_extension": ".py",
   "mimetype": "text/x-python",
   "name": "python",
   "nbconvert_exporter": "python",
   "pygments_lexer": "ipython3",
   "version": "3.5.2"
  }
 },
 "nbformat": 4,
 "nbformat_minor": 0
}
